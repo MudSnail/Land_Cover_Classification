{
 "cells": [
  {
   "cell_type": "markdown",
   "id": "3862f1e0-7551-4d1c-9408-7364be911d80",
   "metadata": {},
   "source": [
    "# Overview"
   ]
  },
  {
   "cell_type": "markdown",
   "id": "ee4ff0aa-1267-4919-b85e-c5bdf964ab39",
   "metadata": {},
   "source": [
    "Using Sentinal (SentinalHub) data and ML pipeline to classify landcover\n",
    "\n",
    "1. Explore data\n",
    "2. Label data by merging NARCAN land class dataset with Sentinal data (rasters)\n",
    "    - Each pixel should end up with a feature set (sentinal data) and a label (NARCAN class data)\n",
    "3. Train & Test model\n",
    "4. Iterate\n",
    "\n",
    "**Questions**:\n",
    "- Extracting the tiffs from EO I get an annoying error I have to click through\n",
    "- NARCAN data is 2015? Should we concern ourselves with this or that's just part of the inaccuracy we can expect?"
   ]
  },
  {
   "cell_type": "markdown",
   "id": "5096c4e2-49c1-4a8d-9a28-c94bfc7cd174",
   "metadata": {},
   "source": [
    "# Steps"
   ]
  },
  {
   "cell_type": "markdown",
   "id": "75c5b08d-7484-43e2-b0bb-5776032d385f",
   "metadata": {},
   "source": [
    "## Data Collection"
   ]
  },
  {
   "cell_type": "markdown",
   "id": "2d964f86-168f-417d-9c87-969e4fb2d822",
   "metadata": {},
   "source": [
    "Many ways to view data from sentinal hub:\n",
    "- Using their visual product (EO)\n",
    "- Download raw as tiff for any gis (Q or Arc)\n",
    "- Use WMS url to create configurations to insert in webGIS app\n",
    "- API?\n",
    "\n",
    "When merging data ensure the same **projection** of `WGS48` (Sentinal data is in this projection):\n",
    "1. in the overall *project* \n",
    "2. NRCAN set\n",
    "    - only apply to a *clipped* area of interest since transformations are taxing\n",
    "    - nearest neighbor\n",
    "    \n",
    "Change resolution of both layers to match (save as -> set resolution)\n",
    "\n",
    "Converting aligned visual layers to data to feed into classifier\n",
    "- Resources: rasterio, video of loading geo images into python, collab notebook from recipe 2 or 3"
   ]
  },
  {
   "cell_type": "markdown",
   "id": "a02680a2-cf43-4a75-a8b0-35be3b87b755",
   "metadata": {},
   "source": [
    "### Classification"
   ]
  },
  {
   "cell_type": "markdown",
   "id": "208c0cc2-7242-4278-87e5-253946462c76",
   "metadata": {},
   "source": [
    "NARCAN classes:\n",
    "\n",
    "Value 1, Temperate or sub-polar needleleaf forest, RGB 0 0.24 0;   \n",
    "Value 2, Sub-polar taiga needleleaf forest, RGB 0.58 0.61 0.44;  \n",
    "Value 3, Tropical or sub-tropical broadleaf evergreen forest  \n",
    "Value 4, Tropical or sub-tropical broadleaf deciduous forest  \n",
    "Value 5, Temperate or sub-polar broadleaf deciduous forest, RGB 0.08 0.55 0.24;   \n",
    "Value 6, Mixed forest, RGB 0.36 0.46 0.17;   \n",
    "Value 8, Temperate or sub-polar shrubland, RGB 0.7 0.54 0.2;   \n",
    "Value 10, Temperate or sub-polar grassland, RGB 0.88 0.81 0.54;  \n",
    "Value 11, Sub-polar or polar shrubland-lichen-moss, RGB 0.61 0.46 0.33;   \n",
    "Value 12, Sub-polar or polar grassland-lichen-moss, RGB 0.73 0.83 0.56;   \n",
    "Value 13, Sub-polar or polar barren-lichen-moss, RGB 0.25 0.54 0.45;   \n",
    "Value 14, Wetland, RGB 0.42 0.64 0.54;  \n",
    "Value 15, Cropland, RGB 0.9 0.68 0.4;  \n",
    "Value 16, Barren lands, RGB 0.66 0.67 0.68;  \n",
    "Value 17, Urban, RGB 0.86 0.13 0.15;  \n",
    "Value 18, Water, RGB 0.3 0.44 0.64;  \n",
    "Value 19, Snow and Ice, RGB 1 0.98 1.  \n",
    "\n",
    "\n",
    "Classification imbalance? -> Should we seek even classes (via visualizations or histogram of NARCAN extent used) or do something about it?"
   ]
  }
 ],
 "metadata": {
  "kernelspec": {
   "display_name": "Python 3 (ipykernel)",
   "language": "python",
   "name": "python3"
  },
  "language_info": {
   "codemirror_mode": {
    "name": "ipython",
    "version": 3
   },
   "file_extension": ".py",
   "mimetype": "text/x-python",
   "name": "python",
   "nbconvert_exporter": "python",
   "pygments_lexer": "ipython3",
   "version": "3.9.7"
  }
 },
 "nbformat": 4,
 "nbformat_minor": 5
}
