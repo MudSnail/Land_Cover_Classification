{
 "cells": [
  {
   "cell_type": "markdown",
   "id": "3862f1e0-7551-4d1c-9408-7364be911d80",
   "metadata": {},
   "source": [
    "# Overview"
   ]
  },
  {
   "cell_type": "markdown",
   "id": "ee4ff0aa-1267-4919-b85e-c5bdf964ab39",
   "metadata": {},
   "source": [
    "Using Sentinal (SentinalHub) data and ML pipeline to classify landcover\n",
    "\n",
    "1. Explore data\n",
    "2. Label data by merging NARCAN land class dataset with Sentinal data (rasters)\n",
    "    - Each pixel should end up with a feature set (sentinal data) and a label (NARCAN class data)\n",
    "3. Train & Test model\n",
    "4. Iterate"
   ]
  },
  {
   "cell_type": "markdown",
   "id": "5096c4e2-49c1-4a8d-9a28-c94bfc7cd174",
   "metadata": {},
   "source": [
    "# Steps"
   ]
  },
  {
   "cell_type": "markdown",
   "id": "75c5b08d-7484-43e2-b0bb-5776032d385f",
   "metadata": {},
   "source": [
    "## Data Collection"
   ]
  },
  {
   "cell_type": "markdown",
   "id": "2d964f86-168f-417d-9c87-969e4fb2d822",
   "metadata": {},
   "source": [
    "Many ways to view data from sentinal hub:\n",
    "- Using their visual product (EO)\n",
    "- Download raw as tiff for any gis (Q or Arc)\n",
    "- Use WMS url to create configurations to insert in webGIS app\n",
    "- API?"
   ]
  }
 ],
 "metadata": {
  "kernelspec": {
   "display_name": "Python 3 (ipykernel)",
   "language": "python",
   "name": "python3"
  },
  "language_info": {
   "codemirror_mode": {
    "name": "ipython",
    "version": 3
   },
   "file_extension": ".py",
   "mimetype": "text/x-python",
   "name": "python",
   "nbconvert_exporter": "python",
   "pygments_lexer": "ipython3",
   "version": "3.9.7"
  }
 },
 "nbformat": 4,
 "nbformat_minor": 5
}
