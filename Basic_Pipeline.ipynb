{
  "nbformat": 4,
  "nbformat_minor": 0,
  "metadata": {
    "colab": {
      "name": "Untitled0.ipynb",
      "provenance": [],
      "authorship_tag": "ABX9TyM4xp93addsqi/JLFXD9ykI",
      "include_colab_link": true
    },
    "kernelspec": {
      "name": "python3",
      "display_name": "Python 3"
    },
    "language_info": {
      "name": "python"
    }
  },
  "cells": [
    {
      "cell_type": "markdown",
      "metadata": {
        "id": "view-in-github",
        "colab_type": "text"
      },
      "source": [
        "<a href=\"https://colab.research.google.com/github/MudSnail/Land_Cover_Classification/blob/main/Basic_Pipeline.ipynb\" target=\"_parent\"><img src=\"https://colab.research.google.com/assets/colab-badge.svg\" alt=\"Open In Colab\"/></a>"
      ]
    },
    {
      "cell_type": "code",
      "execution_count": 1,
      "metadata": {
        "id": "SYPQfYOMZ_KC"
      },
      "outputs": [],
      "source": [
        "#import base libraries\n",
        "import pandas as pd\n",
        "import numpy as np\n",
        "import copy\n",
        "import joblib\n",
        "import cloudpickle\n",
        "\n",
        "#Sklearn - Pipelines, Training\n",
        "from sklearn.pipeline import Pipeline, FeatureUnion\n",
        "from sklearn.feature_selection import SelectKBest\n",
        "from sklearn.decomposition import PCA\n",
        "from sklearn.model_selection import train_test_split, GridSearchCV\n",
        "from sklearn.preprocessing import StandardScaler, MinMaxScaler, MaxAbsScaler, RobustScaler\n",
        "\n",
        "#Classification Models\n",
        "from sklearn.svm import SVC\n",
        "from sklearn.ensemble import RandomForestClassifier\n",
        "from xgboost import XGBClassifier\n",
        "\n",
        "#Model metrics\n",
        "from sklearn.metrics import accuracy_score, classification_report, confusion_matrix, f1_score, roc_auc_score, precision_score, recall_score\n",
        "\n",
        "#Visualizations\n",
        "import matplotlib.pyplot as plt\n",
        "import seaborn as sns\n",
        "\n",
        "#misc\n",
        "import warnings\n",
        "warnings.filterwarnings('ignore')"
      ]
    },
    {
      "cell_type": "code",
      "source": [
        "#Connect to drive\n",
        "from google.colab import drive\n",
        "drive.mount('/content/drive')"
      ],
      "metadata": {
        "colab": {
          "base_uri": "https://localhost:8080/"
        },
        "id": "1ZyTD_JJbHSP",
        "outputId": "35f9b13c-7b66-4f96-ea51-b872dcfaf317"
      },
      "execution_count": 2,
      "outputs": [
        {
          "output_type": "stream",
          "name": "stdout",
          "text": [
            "Drive already mounted at /content/drive; to attempt to forcibly remount, call drive.mount(\"/content/drive\", force_remount=True).\n"
          ]
        }
      ]
    },
    {
      "cell_type": "markdown",
      "source": [
        "# Input Data, Combine and Select"
      ],
      "metadata": {
        "id": "QfyvAXVAqChE"
      }
    },
    {
      "cell_type": "code",
      "source": [
        "#Read in CSVs\n",
        "james_bay = pd.read_csv('/content/drive/MyDrive/james_bay_data.csv')\n",
        "labrador = pd.read_csv('/content/drive/MyDrive/labrador_data.csv')\n",
        "simcoe = pd.read_csv('/content/drive/MyDrive/simcoe_york_data.csv')"
      ],
      "metadata": {
        "id": "t05K05PfqCPG"
      },
      "execution_count": 3,
      "outputs": []
    },
    {
      "cell_type": "code",
      "source": [
        "#List dataframes to add to james_bay\n",
        "dfs = [labrador, simcoe]\n",
        "\n",
        "#Merged data\n",
        "merged_data = james_bay.append(dfs)\n",
        "\n",
        "#Print shape and check new data\n",
        "print(merged_data.shape)\n",
        "merged_data.head()"
      ],
      "metadata": {
        "colab": {
          "base_uri": "https://localhost:8080/",
          "height": 221
        },
        "id": "n9JTYsVksSM4",
        "outputId": "c4ff9f58-cf41-4182-fb2b-eea8ba38cf3d"
      },
      "execution_count": 4,
      "outputs": [
        {
          "output_type": "stream",
          "name": "stdout",
          "text": [
            "(8917500, 13)\n"
          ]
        },
        {
          "output_type": "execute_result",
          "data": {
            "text/plain": [
              "      B01     B06     B11     B07     B05     B03     B09     B12     B8A  \\\n",
              "0  0.0055  0.0017  0.0009  0.0016  0.0026  0.0056  0.0001  0.0009  0.0003   \n",
              "1  0.0054  0.0020  0.0009  0.0017  0.0021  0.0060  0.0001  0.0005  0.0007   \n",
              "2  0.0058  0.0018  0.0007  0.0016  0.0028  0.0060  0.0001  0.0008  0.0007   \n",
              "3  0.0057  0.0016  0.0007  0.0016  0.0023  0.0058  0.0001  0.0012  0.0006   \n",
              "4  0.0066  0.0013  0.0008  0.0020  0.0029  0.0059  0.0001  0.0008  0.0005   \n",
              "\n",
              "      B04     B08     B02  Class  \n",
              "0  0.0032  0.0012  0.0114      0  \n",
              "1  0.0028  0.0014  0.0115      0  \n",
              "2  0.0030  0.0012  0.0124      0  \n",
              "3  0.0031  0.0011  0.0119      0  \n",
              "4  0.0030  0.0014  0.0115      0  "
            ],
            "text/html": [
              "\n",
              "  <div id=\"df-4a285bfa-5727-46da-a77f-b10962a43a1a\">\n",
              "    <div class=\"colab-df-container\">\n",
              "      <div>\n",
              "<style scoped>\n",
              "    .dataframe tbody tr th:only-of-type {\n",
              "        vertical-align: middle;\n",
              "    }\n",
              "\n",
              "    .dataframe tbody tr th {\n",
              "        vertical-align: top;\n",
              "    }\n",
              "\n",
              "    .dataframe thead th {\n",
              "        text-align: right;\n",
              "    }\n",
              "</style>\n",
              "<table border=\"1\" class=\"dataframe\">\n",
              "  <thead>\n",
              "    <tr style=\"text-align: right;\">\n",
              "      <th></th>\n",
              "      <th>B01</th>\n",
              "      <th>B06</th>\n",
              "      <th>B11</th>\n",
              "      <th>B07</th>\n",
              "      <th>B05</th>\n",
              "      <th>B03</th>\n",
              "      <th>B09</th>\n",
              "      <th>B12</th>\n",
              "      <th>B8A</th>\n",
              "      <th>B04</th>\n",
              "      <th>B08</th>\n",
              "      <th>B02</th>\n",
              "      <th>Class</th>\n",
              "    </tr>\n",
              "  </thead>\n",
              "  <tbody>\n",
              "    <tr>\n",
              "      <th>0</th>\n",
              "      <td>0.0055</td>\n",
              "      <td>0.0017</td>\n",
              "      <td>0.0009</td>\n",
              "      <td>0.0016</td>\n",
              "      <td>0.0026</td>\n",
              "      <td>0.0056</td>\n",
              "      <td>0.0001</td>\n",
              "      <td>0.0009</td>\n",
              "      <td>0.0003</td>\n",
              "      <td>0.0032</td>\n",
              "      <td>0.0012</td>\n",
              "      <td>0.0114</td>\n",
              "      <td>0</td>\n",
              "    </tr>\n",
              "    <tr>\n",
              "      <th>1</th>\n",
              "      <td>0.0054</td>\n",
              "      <td>0.0020</td>\n",
              "      <td>0.0009</td>\n",
              "      <td>0.0017</td>\n",
              "      <td>0.0021</td>\n",
              "      <td>0.0060</td>\n",
              "      <td>0.0001</td>\n",
              "      <td>0.0005</td>\n",
              "      <td>0.0007</td>\n",
              "      <td>0.0028</td>\n",
              "      <td>0.0014</td>\n",
              "      <td>0.0115</td>\n",
              "      <td>0</td>\n",
              "    </tr>\n",
              "    <tr>\n",
              "      <th>2</th>\n",
              "      <td>0.0058</td>\n",
              "      <td>0.0018</td>\n",
              "      <td>0.0007</td>\n",
              "      <td>0.0016</td>\n",
              "      <td>0.0028</td>\n",
              "      <td>0.0060</td>\n",
              "      <td>0.0001</td>\n",
              "      <td>0.0008</td>\n",
              "      <td>0.0007</td>\n",
              "      <td>0.0030</td>\n",
              "      <td>0.0012</td>\n",
              "      <td>0.0124</td>\n",
              "      <td>0</td>\n",
              "    </tr>\n",
              "    <tr>\n",
              "      <th>3</th>\n",
              "      <td>0.0057</td>\n",
              "      <td>0.0016</td>\n",
              "      <td>0.0007</td>\n",
              "      <td>0.0016</td>\n",
              "      <td>0.0023</td>\n",
              "      <td>0.0058</td>\n",
              "      <td>0.0001</td>\n",
              "      <td>0.0012</td>\n",
              "      <td>0.0006</td>\n",
              "      <td>0.0031</td>\n",
              "      <td>0.0011</td>\n",
              "      <td>0.0119</td>\n",
              "      <td>0</td>\n",
              "    </tr>\n",
              "    <tr>\n",
              "      <th>4</th>\n",
              "      <td>0.0066</td>\n",
              "      <td>0.0013</td>\n",
              "      <td>0.0008</td>\n",
              "      <td>0.0020</td>\n",
              "      <td>0.0029</td>\n",
              "      <td>0.0059</td>\n",
              "      <td>0.0001</td>\n",
              "      <td>0.0008</td>\n",
              "      <td>0.0005</td>\n",
              "      <td>0.0030</td>\n",
              "      <td>0.0014</td>\n",
              "      <td>0.0115</td>\n",
              "      <td>0</td>\n",
              "    </tr>\n",
              "  </tbody>\n",
              "</table>\n",
              "</div>\n",
              "      <button class=\"colab-df-convert\" onclick=\"convertToInteractive('df-4a285bfa-5727-46da-a77f-b10962a43a1a')\"\n",
              "              title=\"Convert this dataframe to an interactive table.\"\n",
              "              style=\"display:none;\">\n",
              "        \n",
              "  <svg xmlns=\"http://www.w3.org/2000/svg\" height=\"24px\"viewBox=\"0 0 24 24\"\n",
              "       width=\"24px\">\n",
              "    <path d=\"M0 0h24v24H0V0z\" fill=\"none\"/>\n",
              "    <path d=\"M18.56 5.44l.94 2.06.94-2.06 2.06-.94-2.06-.94-.94-2.06-.94 2.06-2.06.94zm-11 1L8.5 8.5l.94-2.06 2.06-.94-2.06-.94L8.5 2.5l-.94 2.06-2.06.94zm10 10l.94 2.06.94-2.06 2.06-.94-2.06-.94-.94-2.06-.94 2.06-2.06.94z\"/><path d=\"M17.41 7.96l-1.37-1.37c-.4-.4-.92-.59-1.43-.59-.52 0-1.04.2-1.43.59L10.3 9.45l-7.72 7.72c-.78.78-.78 2.05 0 2.83L4 21.41c.39.39.9.59 1.41.59.51 0 1.02-.2 1.41-.59l7.78-7.78 2.81-2.81c.8-.78.8-2.07 0-2.86zM5.41 20L4 18.59l7.72-7.72 1.47 1.35L5.41 20z\"/>\n",
              "  </svg>\n",
              "      </button>\n",
              "      \n",
              "  <style>\n",
              "    .colab-df-container {\n",
              "      display:flex;\n",
              "      flex-wrap:wrap;\n",
              "      gap: 12px;\n",
              "    }\n",
              "\n",
              "    .colab-df-convert {\n",
              "      background-color: #E8F0FE;\n",
              "      border: none;\n",
              "      border-radius: 50%;\n",
              "      cursor: pointer;\n",
              "      display: none;\n",
              "      fill: #1967D2;\n",
              "      height: 32px;\n",
              "      padding: 0 0 0 0;\n",
              "      width: 32px;\n",
              "    }\n",
              "\n",
              "    .colab-df-convert:hover {\n",
              "      background-color: #E2EBFA;\n",
              "      box-shadow: 0px 1px 2px rgba(60, 64, 67, 0.3), 0px 1px 3px 1px rgba(60, 64, 67, 0.15);\n",
              "      fill: #174EA6;\n",
              "    }\n",
              "\n",
              "    [theme=dark] .colab-df-convert {\n",
              "      background-color: #3B4455;\n",
              "      fill: #D2E3FC;\n",
              "    }\n",
              "\n",
              "    [theme=dark] .colab-df-convert:hover {\n",
              "      background-color: #434B5C;\n",
              "      box-shadow: 0px 1px 3px 1px rgba(0, 0, 0, 0.15);\n",
              "      filter: drop-shadow(0px 1px 2px rgba(0, 0, 0, 0.3));\n",
              "      fill: #FFFFFF;\n",
              "    }\n",
              "  </style>\n",
              "\n",
              "      <script>\n",
              "        const buttonEl =\n",
              "          document.querySelector('#df-4a285bfa-5727-46da-a77f-b10962a43a1a button.colab-df-convert');\n",
              "        buttonEl.style.display =\n",
              "          google.colab.kernel.accessAllowed ? 'block' : 'none';\n",
              "\n",
              "        async function convertToInteractive(key) {\n",
              "          const element = document.querySelector('#df-4a285bfa-5727-46da-a77f-b10962a43a1a');\n",
              "          const dataTable =\n",
              "            await google.colab.kernel.invokeFunction('convertToInteractive',\n",
              "                                                     [key], {});\n",
              "          if (!dataTable) return;\n",
              "\n",
              "          const docLinkHtml = 'Like what you see? Visit the ' +\n",
              "            '<a target=\"_blank\" href=https://colab.research.google.com/notebooks/data_table.ipynb>data table notebook</a>'\n",
              "            + ' to learn more about interactive tables.';\n",
              "          element.innerHTML = '';\n",
              "          dataTable['output_type'] = 'display_data';\n",
              "          await google.colab.output.renderOutput(dataTable, element);\n",
              "          const docLink = document.createElement('div');\n",
              "          docLink.innerHTML = docLinkHtml;\n",
              "          element.appendChild(docLink);\n",
              "        }\n",
              "      </script>\n",
              "    </div>\n",
              "  </div>\n",
              "  "
            ]
          },
          "metadata": {},
          "execution_count": 4
        }
      ]
    },
    {
      "cell_type": "code",
      "source": [
        "#Check classifications values\n",
        "print(merged_data.Class.value_counts())"
      ],
      "metadata": {
        "colab": {
          "base_uri": "https://localhost:8080/"
        },
        "id": "taL1nN54uriK",
        "outputId": "1380dde1-cf98-4732-c0e4-761c80420d18"
      },
      "execution_count": 5,
      "outputs": [
        {
          "output_type": "stream",
          "name": "stdout",
          "text": [
            "15    2836714\n",
            "18    1050988\n",
            "1      677877\n",
            "5      666952\n",
            "16     646870\n",
            "13     612009\n",
            "8      575175\n",
            "17     512930\n",
            "12     415493\n",
            "6      378274\n",
            "2      151560\n",
            "11     135890\n",
            "14      94850\n",
            "10      86338\n",
            "19      74619\n",
            "0         961\n",
            "Name: Class, dtype: int64\n"
          ]
        }
      ]
    },
    {
      "cell_type": "code",
      "source": [
        "#Drop Class = 0 (null values, which equate to 18)\n",
        "merged_data = merged_data[merged_data.Class != 0]\n",
        "\n",
        "#Double check value counts\n",
        "merged_data.Class.value_counts()"
      ],
      "metadata": {
        "colab": {
          "base_uri": "https://localhost:8080/"
        },
        "id": "6dnKpJCTvg25",
        "outputId": "73073dba-5d08-4444-c71e-84a0fb82cd45"
      },
      "execution_count": 6,
      "outputs": [
        {
          "output_type": "execute_result",
          "data": {
            "text/plain": [
              "15    2836714\n",
              "18    1050988\n",
              "1      677877\n",
              "5      666952\n",
              "16     646870\n",
              "13     612009\n",
              "8      575175\n",
              "17     512930\n",
              "12     415493\n",
              "6      378274\n",
              "2      151560\n",
              "11     135890\n",
              "14      94850\n",
              "10      86338\n",
              "19      74619\n",
              "Name: Class, dtype: int64"
            ]
          },
          "metadata": {},
          "execution_count": 6
        }
      ]
    },
    {
      "cell_type": "code",
      "source": [
        "#SubSample ~25 000 for each class\n",
        "sample = merged_data.groupby('Class').apply(lambda x: x.sample(n=25000)).reset_index(drop=True)\n",
        "sample.head(4)"
      ],
      "metadata": {
        "colab": {
          "base_uri": "https://localhost:8080/",
          "height": 173
        },
        "id": "SRSTOrVNwJHG",
        "outputId": "3dac3ba5-e9f8-4945-9425-7ce42be1bb09"
      },
      "execution_count": 7,
      "outputs": [
        {
          "output_type": "execute_result",
          "data": {
            "text/plain": [
              "      B01     B06     B11     B07     B05     B03     B09     B12     B8A  \\\n",
              "0  0.0102  0.1393  0.1208  0.1634  0.0812  0.0324  0.2017  0.0617  0.1982   \n",
              "1  0.0098  0.1121  0.0939  0.1311  0.0539  0.0261  0.1473  0.0513  0.1480   \n",
              "2  0.0071  0.0733  0.0501  0.0818  0.0476  0.0276  0.0907  0.0274  0.0844   \n",
              "3  0.0268  0.1769  0.1773  0.2008  0.1029  0.0476  0.2199  0.1031  0.2207   \n",
              "\n",
              "      B04     B08     B02  Class  \n",
              "0  0.0351  0.1846  0.0193      1  \n",
              "1  0.0209  0.1397  0.0144      1  \n",
              "2  0.0249  0.0827  0.0168      1  \n",
              "3  0.0484  0.2086  0.0337      1  "
            ],
            "text/html": [
              "\n",
              "  <div id=\"df-236b3948-52f9-4b90-a9f0-1f47771894a8\">\n",
              "    <div class=\"colab-df-container\">\n",
              "      <div>\n",
              "<style scoped>\n",
              "    .dataframe tbody tr th:only-of-type {\n",
              "        vertical-align: middle;\n",
              "    }\n",
              "\n",
              "    .dataframe tbody tr th {\n",
              "        vertical-align: top;\n",
              "    }\n",
              "\n",
              "    .dataframe thead th {\n",
              "        text-align: right;\n",
              "    }\n",
              "</style>\n",
              "<table border=\"1\" class=\"dataframe\">\n",
              "  <thead>\n",
              "    <tr style=\"text-align: right;\">\n",
              "      <th></th>\n",
              "      <th>B01</th>\n",
              "      <th>B06</th>\n",
              "      <th>B11</th>\n",
              "      <th>B07</th>\n",
              "      <th>B05</th>\n",
              "      <th>B03</th>\n",
              "      <th>B09</th>\n",
              "      <th>B12</th>\n",
              "      <th>B8A</th>\n",
              "      <th>B04</th>\n",
              "      <th>B08</th>\n",
              "      <th>B02</th>\n",
              "      <th>Class</th>\n",
              "    </tr>\n",
              "  </thead>\n",
              "  <tbody>\n",
              "    <tr>\n",
              "      <th>0</th>\n",
              "      <td>0.0102</td>\n",
              "      <td>0.1393</td>\n",
              "      <td>0.1208</td>\n",
              "      <td>0.1634</td>\n",
              "      <td>0.0812</td>\n",
              "      <td>0.0324</td>\n",
              "      <td>0.2017</td>\n",
              "      <td>0.0617</td>\n",
              "      <td>0.1982</td>\n",
              "      <td>0.0351</td>\n",
              "      <td>0.1846</td>\n",
              "      <td>0.0193</td>\n",
              "      <td>1</td>\n",
              "    </tr>\n",
              "    <tr>\n",
              "      <th>1</th>\n",
              "      <td>0.0098</td>\n",
              "      <td>0.1121</td>\n",
              "      <td>0.0939</td>\n",
              "      <td>0.1311</td>\n",
              "      <td>0.0539</td>\n",
              "      <td>0.0261</td>\n",
              "      <td>0.1473</td>\n",
              "      <td>0.0513</td>\n",
              "      <td>0.1480</td>\n",
              "      <td>0.0209</td>\n",
              "      <td>0.1397</td>\n",
              "      <td>0.0144</td>\n",
              "      <td>1</td>\n",
              "    </tr>\n",
              "    <tr>\n",
              "      <th>2</th>\n",
              "      <td>0.0071</td>\n",
              "      <td>0.0733</td>\n",
              "      <td>0.0501</td>\n",
              "      <td>0.0818</td>\n",
              "      <td>0.0476</td>\n",
              "      <td>0.0276</td>\n",
              "      <td>0.0907</td>\n",
              "      <td>0.0274</td>\n",
              "      <td>0.0844</td>\n",
              "      <td>0.0249</td>\n",
              "      <td>0.0827</td>\n",
              "      <td>0.0168</td>\n",
              "      <td>1</td>\n",
              "    </tr>\n",
              "    <tr>\n",
              "      <th>3</th>\n",
              "      <td>0.0268</td>\n",
              "      <td>0.1769</td>\n",
              "      <td>0.1773</td>\n",
              "      <td>0.2008</td>\n",
              "      <td>0.1029</td>\n",
              "      <td>0.0476</td>\n",
              "      <td>0.2199</td>\n",
              "      <td>0.1031</td>\n",
              "      <td>0.2207</td>\n",
              "      <td>0.0484</td>\n",
              "      <td>0.2086</td>\n",
              "      <td>0.0337</td>\n",
              "      <td>1</td>\n",
              "    </tr>\n",
              "  </tbody>\n",
              "</table>\n",
              "</div>\n",
              "      <button class=\"colab-df-convert\" onclick=\"convertToInteractive('df-236b3948-52f9-4b90-a9f0-1f47771894a8')\"\n",
              "              title=\"Convert this dataframe to an interactive table.\"\n",
              "              style=\"display:none;\">\n",
              "        \n",
              "  <svg xmlns=\"http://www.w3.org/2000/svg\" height=\"24px\"viewBox=\"0 0 24 24\"\n",
              "       width=\"24px\">\n",
              "    <path d=\"M0 0h24v24H0V0z\" fill=\"none\"/>\n",
              "    <path d=\"M18.56 5.44l.94 2.06.94-2.06 2.06-.94-2.06-.94-.94-2.06-.94 2.06-2.06.94zm-11 1L8.5 8.5l.94-2.06 2.06-.94-2.06-.94L8.5 2.5l-.94 2.06-2.06.94zm10 10l.94 2.06.94-2.06 2.06-.94-2.06-.94-.94-2.06-.94 2.06-2.06.94z\"/><path d=\"M17.41 7.96l-1.37-1.37c-.4-.4-.92-.59-1.43-.59-.52 0-1.04.2-1.43.59L10.3 9.45l-7.72 7.72c-.78.78-.78 2.05 0 2.83L4 21.41c.39.39.9.59 1.41.59.51 0 1.02-.2 1.41-.59l7.78-7.78 2.81-2.81c.8-.78.8-2.07 0-2.86zM5.41 20L4 18.59l7.72-7.72 1.47 1.35L5.41 20z\"/>\n",
              "  </svg>\n",
              "      </button>\n",
              "      \n",
              "  <style>\n",
              "    .colab-df-container {\n",
              "      display:flex;\n",
              "      flex-wrap:wrap;\n",
              "      gap: 12px;\n",
              "    }\n",
              "\n",
              "    .colab-df-convert {\n",
              "      background-color: #E8F0FE;\n",
              "      border: none;\n",
              "      border-radius: 50%;\n",
              "      cursor: pointer;\n",
              "      display: none;\n",
              "      fill: #1967D2;\n",
              "      height: 32px;\n",
              "      padding: 0 0 0 0;\n",
              "      width: 32px;\n",
              "    }\n",
              "\n",
              "    .colab-df-convert:hover {\n",
              "      background-color: #E2EBFA;\n",
              "      box-shadow: 0px 1px 2px rgba(60, 64, 67, 0.3), 0px 1px 3px 1px rgba(60, 64, 67, 0.15);\n",
              "      fill: #174EA6;\n",
              "    }\n",
              "\n",
              "    [theme=dark] .colab-df-convert {\n",
              "      background-color: #3B4455;\n",
              "      fill: #D2E3FC;\n",
              "    }\n",
              "\n",
              "    [theme=dark] .colab-df-convert:hover {\n",
              "      background-color: #434B5C;\n",
              "      box-shadow: 0px 1px 3px 1px rgba(0, 0, 0, 0.15);\n",
              "      filter: drop-shadow(0px 1px 2px rgba(0, 0, 0, 0.3));\n",
              "      fill: #FFFFFF;\n",
              "    }\n",
              "  </style>\n",
              "\n",
              "      <script>\n",
              "        const buttonEl =\n",
              "          document.querySelector('#df-236b3948-52f9-4b90-a9f0-1f47771894a8 button.colab-df-convert');\n",
              "        buttonEl.style.display =\n",
              "          google.colab.kernel.accessAllowed ? 'block' : 'none';\n",
              "\n",
              "        async function convertToInteractive(key) {\n",
              "          const element = document.querySelector('#df-236b3948-52f9-4b90-a9f0-1f47771894a8');\n",
              "          const dataTable =\n",
              "            await google.colab.kernel.invokeFunction('convertToInteractive',\n",
              "                                                     [key], {});\n",
              "          if (!dataTable) return;\n",
              "\n",
              "          const docLinkHtml = 'Like what you see? Visit the ' +\n",
              "            '<a target=\"_blank\" href=https://colab.research.google.com/notebooks/data_table.ipynb>data table notebook</a>'\n",
              "            + ' to learn more about interactive tables.';\n",
              "          element.innerHTML = '';\n",
              "          dataTable['output_type'] = 'display_data';\n",
              "          await google.colab.output.renderOutput(dataTable, element);\n",
              "          const docLink = document.createElement('div');\n",
              "          docLink.innerHTML = docLinkHtml;\n",
              "          element.appendChild(docLink);\n",
              "        }\n",
              "      </script>\n",
              "    </div>\n",
              "  </div>\n",
              "  "
            ]
          },
          "metadata": {},
          "execution_count": 7
        }
      ]
    },
    {
      "cell_type": "markdown",
      "source": [
        "# Split data"
      ],
      "metadata": {
        "id": "uyh6C78Pw2Xh"
      }
    },
    {
      "cell_type": "code",
      "source": [
        "#Set x and y\n",
        "y = sample['Class']\n",
        "X = sample.drop('Class', axis = 1)\n",
        "\n",
        "#Split data into training and test sets\n",
        "X_train, X_test, y_train, y_test = train_test_split(X, y, test_size=0.3, random_state = 42)"
      ],
      "metadata": {
        "id": "8KMcPWxew4V8"
      },
      "execution_count": 8,
      "outputs": []
    },
    {
      "cell_type": "markdown",
      "source": [
        "# Create Pipelines"
      ],
      "metadata": {
        "id": "iVs8rFmNqJgp"
      }
    },
    {
      "cell_type": "code",
      "source": [
        "#Functions for Pipeline\n",
        "def add_layers(df):\n",
        "  \"\"\"\n",
        "  This function takes in a dataframe and calculates the NDVI, Moisture Index, NDWI and NDSI\n",
        "  Outputs = dataframe with added layer columns \n",
        "  \"\"\"\n",
        "  #Create NDVI column (B08-B04)/(B08+B04)\n",
        "  df['NDVI'] = (df.B08 - df.B04)/(df.B08 + df.B04)\n",
        "  #Create Moisture index (B8A-B11)/(B8A+B11)\n",
        "  df['Moisture'] = (df.B8A - df.B11)/(df.B8A + df.B11)\n",
        "  #Create NDWI (B3-B8)/(B3+B8)\n",
        "  df['NDWI'] = (df.B03 - df.B08)/(df.B03 + df.B08)\n",
        "  #create NDSI (B3-B11)/(B3+B11)\n",
        "  df['NDSI'] = (df.B03 - df.B11)/(df.B03 + df.B11)\n",
        "\n",
        "  return df\n",
        "\n",
        "def replace_values(df):\n",
        "  \"\"\"\n",
        "  This function replaces the infinity values with Nan then replaces that with new infinity values\n",
        "  \"\"\"\n",
        "  #Replace infinity values with Nan\n",
        "  df.replace([np.inf, -np.inf], np.NAN, inplace=True)\n",
        "\n",
        "  #Fill in null values\n",
        "  df.fillna(999, inplace=True)\n",
        "\n",
        "  return df\n",
        "\n",
        "\n",
        "#Define object transformer class\n",
        "class objectTransformer:\n",
        "    \"\"\"\n",
        "    Class object transformer, takes in function to apply in preprocessing step of Pipeline\n",
        "    \"\"\"\n",
        "    def __init__(self, func):\n",
        "        self.func = func\n",
        "        \n",
        "    def fit(self, X, y=None, **fit_params):\n",
        "        return self\n",
        "    \n",
        "    def transform(self, X, **fit_params):\n",
        "        return self.func(X)"
      ],
      "metadata": {
        "id": "0RsWyU48mqy2"
      },
      "execution_count": 9,
      "outputs": []
    },
    {
      "cell_type": "code",
      "source": [
        "#Create Pre-Processing Pipeline\n",
        "preprocess = Pipeline([(\"add_layers\", objectTransformer(add_layers)),\n",
        "                       (\"replace_values\", objectTransformer(replace_values))])\n",
        "\n",
        "#Create Feature Union\n",
        "feature_union = FeatureUnion([(\"PCA\", PCA(n_components=3)),\n",
        "                              (\"kKBest\", SelectKBest(k=3))])"
      ],
      "metadata": {
        "id": "QHCIIo7enl5R"
      },
      "execution_count": 10,
      "outputs": []
    },
    {
      "cell_type": "code",
      "source": [
        "#Define pipelines\n",
        "model_1 = Pipeline([('preprocessing', preprocess),\n",
        "                    ('RFC', RandomForestClassifier(random_state = 123))])\n",
        "\n",
        "model_2 = Pipeline([('preprocessing', preprocess),\n",
        "                    ('features', feature_union),\n",
        "                    ('RFC', RandomForestClassifier(random_state = 123))])"
      ],
      "metadata": {
        "id": "rGMhuMOAobAE"
      },
      "execution_count": 11,
      "outputs": []
    },
    {
      "cell_type": "code",
      "source": [
        "#fit pipes to check which is best\n",
        "pipes = [model_1, model_2]\n",
        "\n",
        "for pipe in pipes:\n",
        "  pipe.fit(X_train, y_train)\n",
        "\n",
        "#compare accuracies \n",
        "\n",
        "#make dictionary\n",
        "pipe_dict = {0: 'No Feature Union', 1: 'With Feature Union'}\n",
        "\n",
        "#create for loop to find scores\n",
        "for i, model in enumerate(pipes):\n",
        "    print('{} Test Accuracy: {}'.format(pipe_dict[i], model.score(X_test, y_test)))"
      ],
      "metadata": {
        "colab": {
          "base_uri": "https://localhost:8080/"
        },
        "id": "0X_2TQXWynva",
        "outputId": "3a200ea0-5941-4533-c49d-08f0bc39b250"
      },
      "execution_count": 12,
      "outputs": [
        {
          "output_type": "stream",
          "name": "stdout",
          "text": [
            "No Feature Union Test Accuracy: 0.6142133333333333\n",
            "With Feature Union Test Accuracy: 0.5788622222222222\n"
          ]
        }
      ]
    }
  ]
}