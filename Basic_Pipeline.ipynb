{
  "nbformat": 4,
  "nbformat_minor": 0,
  "metadata": {
    "colab": {
      "name": "Untitled0.ipynb",
      "provenance": [],
      "machine_shape": "hm",
      "authorship_tag": "ABX9TyMWrGSITK+GsM6BM6s3gcl2",
      "include_colab_link": true
    },
    "kernelspec": {
      "name": "python3",
      "display_name": "Python 3"
    },
    "language_info": {
      "name": "python"
    }
  },
  "cells": [
    {
      "cell_type": "markdown",
      "metadata": {
        "id": "view-in-github",
        "colab_type": "text"
      },
      "source": [
        "<a href=\"https://colab.research.google.com/github/MudSnail/Land_Cover_Classification/blob/main/Basic_Pipeline.ipynb\" target=\"_parent\"><img src=\"https://colab.research.google.com/assets/colab-badge.svg\" alt=\"Open In Colab\"/></a>"
      ]
    },
    {
      "cell_type": "code",
      "execution_count": 18,
      "metadata": {
        "id": "SYPQfYOMZ_KC"
      },
      "outputs": [],
      "source": [
        "#import base libraries\n",
        "import pandas as pd\n",
        "import numpy as np\n",
        "import copy\n",
        "import pickle\n",
        "import cloudpickle\n",
        "\n",
        "#Sklearn - Pipelines, Training\n",
        "from sklearn.pipeline import Pipeline, FeatureUnion\n",
        "from sklearn.feature_selection import SelectKBest\n",
        "from sklearn.decomposition import PCA\n",
        "from sklearn.model_selection import train_test_split, GridSearchCV\n",
        "from sklearn.preprocessing import StandardScaler, MinMaxScaler, MaxAbsScaler, RobustScaler\n",
        "\n",
        "#Classification Models\n",
        "from sklearn.svm import SVC\n",
        "from sklearn.ensemble import RandomForestClassifier\n",
        "from xgboost import XGBClassifier\n",
        "\n",
        "#Model metrics\n",
        "from sklearn.metrics import accuracy_score, classification_report, confusion_matrix, f1_score, roc_auc_score, precision_score, recall_score\n",
        "\n",
        "#Visualizations\n",
        "import matplotlib.pyplot as plt\n",
        "import seaborn as sns\n",
        "\n",
        "#misc\n",
        "import warnings\n",
        "warnings.filterwarnings('ignore')"
      ]
    },
    {
      "cell_type": "code",
      "source": [
        "#Connect to drive\n",
        "from google.colab import drive\n",
        "drive.mount('/content/drive')"
      ],
      "metadata": {
        "colab": {
          "base_uri": "https://localhost:8080/"
        },
        "id": "1ZyTD_JJbHSP",
        "outputId": "804342c0-e40c-4356-f237-12ffafb597b3"
      },
      "execution_count": 2,
      "outputs": [
        {
          "output_type": "stream",
          "name": "stdout",
          "text": [
            "Mounted at /content/drive\n"
          ]
        }
      ]
    },
    {
      "cell_type": "markdown",
      "source": [
        "# Input Data, Combine and Select"
      ],
      "metadata": {
        "id": "QfyvAXVAqChE"
      }
    },
    {
      "cell_type": "code",
      "source": [
        "#Read in CSVs\n",
        "james_bay = pd.read_csv('/content/drive/MyDrive/james_bay_data.csv')\n",
        "labrador = pd.read_csv('/content/drive/MyDrive/labrador_data.csv')\n",
        "simcoe = pd.read_csv('/content/drive/MyDrive/simcoe_york_data.csv')"
      ],
      "metadata": {
        "id": "t05K05PfqCPG"
      },
      "execution_count": 3,
      "outputs": []
    },
    {
      "cell_type": "code",
      "source": [
        "#List dataframes to add to james_bay\n",
        "dfs = [labrador, simcoe]\n",
        "\n",
        "#Merged data\n",
        "merged_data = james_bay.append(dfs)\n",
        "\n",
        "#Print shape and check new data\n",
        "print(merged_data.shape)\n",
        "merged_data.head()"
      ],
      "metadata": {
        "colab": {
          "base_uri": "https://localhost:8080/",
          "height": 221
        },
        "id": "n9JTYsVksSM4",
        "outputId": "dbd29f49-131f-48b1-e781-31c91c582c4e"
      },
      "execution_count": 4,
      "outputs": [
        {
          "output_type": "stream",
          "name": "stdout",
          "text": [
            "(8917500, 13)\n"
          ]
        },
        {
          "output_type": "execute_result",
          "data": {
            "text/plain": [
              "      B01     B06     B11     B07     B05     B03     B09     B12     B8A  \\\n",
              "0  0.0055  0.0017  0.0009  0.0016  0.0026  0.0056  0.0001  0.0009  0.0003   \n",
              "1  0.0054  0.0020  0.0009  0.0017  0.0021  0.0060  0.0001  0.0005  0.0007   \n",
              "2  0.0058  0.0018  0.0007  0.0016  0.0028  0.0060  0.0001  0.0008  0.0007   \n",
              "3  0.0057  0.0016  0.0007  0.0016  0.0023  0.0058  0.0001  0.0012  0.0006   \n",
              "4  0.0066  0.0013  0.0008  0.0020  0.0029  0.0059  0.0001  0.0008  0.0005   \n",
              "\n",
              "      B04     B08     B02  Class  \n",
              "0  0.0032  0.0012  0.0114      0  \n",
              "1  0.0028  0.0014  0.0115      0  \n",
              "2  0.0030  0.0012  0.0124      0  \n",
              "3  0.0031  0.0011  0.0119      0  \n",
              "4  0.0030  0.0014  0.0115      0  "
            ],
            "text/html": [
              "\n",
              "  <div id=\"df-91ba1049-4c09-44fe-8333-e633b7da1959\">\n",
              "    <div class=\"colab-df-container\">\n",
              "      <div>\n",
              "<style scoped>\n",
              "    .dataframe tbody tr th:only-of-type {\n",
              "        vertical-align: middle;\n",
              "    }\n",
              "\n",
              "    .dataframe tbody tr th {\n",
              "        vertical-align: top;\n",
              "    }\n",
              "\n",
              "    .dataframe thead th {\n",
              "        text-align: right;\n",
              "    }\n",
              "</style>\n",
              "<table border=\"1\" class=\"dataframe\">\n",
              "  <thead>\n",
              "    <tr style=\"text-align: right;\">\n",
              "      <th></th>\n",
              "      <th>B01</th>\n",
              "      <th>B06</th>\n",
              "      <th>B11</th>\n",
              "      <th>B07</th>\n",
              "      <th>B05</th>\n",
              "      <th>B03</th>\n",
              "      <th>B09</th>\n",
              "      <th>B12</th>\n",
              "      <th>B8A</th>\n",
              "      <th>B04</th>\n",
              "      <th>B08</th>\n",
              "      <th>B02</th>\n",
              "      <th>Class</th>\n",
              "    </tr>\n",
              "  </thead>\n",
              "  <tbody>\n",
              "    <tr>\n",
              "      <th>0</th>\n",
              "      <td>0.0055</td>\n",
              "      <td>0.0017</td>\n",
              "      <td>0.0009</td>\n",
              "      <td>0.0016</td>\n",
              "      <td>0.0026</td>\n",
              "      <td>0.0056</td>\n",
              "      <td>0.0001</td>\n",
              "      <td>0.0009</td>\n",
              "      <td>0.0003</td>\n",
              "      <td>0.0032</td>\n",
              "      <td>0.0012</td>\n",
              "      <td>0.0114</td>\n",
              "      <td>0</td>\n",
              "    </tr>\n",
              "    <tr>\n",
              "      <th>1</th>\n",
              "      <td>0.0054</td>\n",
              "      <td>0.0020</td>\n",
              "      <td>0.0009</td>\n",
              "      <td>0.0017</td>\n",
              "      <td>0.0021</td>\n",
              "      <td>0.0060</td>\n",
              "      <td>0.0001</td>\n",
              "      <td>0.0005</td>\n",
              "      <td>0.0007</td>\n",
              "      <td>0.0028</td>\n",
              "      <td>0.0014</td>\n",
              "      <td>0.0115</td>\n",
              "      <td>0</td>\n",
              "    </tr>\n",
              "    <tr>\n",
              "      <th>2</th>\n",
              "      <td>0.0058</td>\n",
              "      <td>0.0018</td>\n",
              "      <td>0.0007</td>\n",
              "      <td>0.0016</td>\n",
              "      <td>0.0028</td>\n",
              "      <td>0.0060</td>\n",
              "      <td>0.0001</td>\n",
              "      <td>0.0008</td>\n",
              "      <td>0.0007</td>\n",
              "      <td>0.0030</td>\n",
              "      <td>0.0012</td>\n",
              "      <td>0.0124</td>\n",
              "      <td>0</td>\n",
              "    </tr>\n",
              "    <tr>\n",
              "      <th>3</th>\n",
              "      <td>0.0057</td>\n",
              "      <td>0.0016</td>\n",
              "      <td>0.0007</td>\n",
              "      <td>0.0016</td>\n",
              "      <td>0.0023</td>\n",
              "      <td>0.0058</td>\n",
              "      <td>0.0001</td>\n",
              "      <td>0.0012</td>\n",
              "      <td>0.0006</td>\n",
              "      <td>0.0031</td>\n",
              "      <td>0.0011</td>\n",
              "      <td>0.0119</td>\n",
              "      <td>0</td>\n",
              "    </tr>\n",
              "    <tr>\n",
              "      <th>4</th>\n",
              "      <td>0.0066</td>\n",
              "      <td>0.0013</td>\n",
              "      <td>0.0008</td>\n",
              "      <td>0.0020</td>\n",
              "      <td>0.0029</td>\n",
              "      <td>0.0059</td>\n",
              "      <td>0.0001</td>\n",
              "      <td>0.0008</td>\n",
              "      <td>0.0005</td>\n",
              "      <td>0.0030</td>\n",
              "      <td>0.0014</td>\n",
              "      <td>0.0115</td>\n",
              "      <td>0</td>\n",
              "    </tr>\n",
              "  </tbody>\n",
              "</table>\n",
              "</div>\n",
              "      <button class=\"colab-df-convert\" onclick=\"convertToInteractive('df-91ba1049-4c09-44fe-8333-e633b7da1959')\"\n",
              "              title=\"Convert this dataframe to an interactive table.\"\n",
              "              style=\"display:none;\">\n",
              "        \n",
              "  <svg xmlns=\"http://www.w3.org/2000/svg\" height=\"24px\"viewBox=\"0 0 24 24\"\n",
              "       width=\"24px\">\n",
              "    <path d=\"M0 0h24v24H0V0z\" fill=\"none\"/>\n",
              "    <path d=\"M18.56 5.44l.94 2.06.94-2.06 2.06-.94-2.06-.94-.94-2.06-.94 2.06-2.06.94zm-11 1L8.5 8.5l.94-2.06 2.06-.94-2.06-.94L8.5 2.5l-.94 2.06-2.06.94zm10 10l.94 2.06.94-2.06 2.06-.94-2.06-.94-.94-2.06-.94 2.06-2.06.94z\"/><path d=\"M17.41 7.96l-1.37-1.37c-.4-.4-.92-.59-1.43-.59-.52 0-1.04.2-1.43.59L10.3 9.45l-7.72 7.72c-.78.78-.78 2.05 0 2.83L4 21.41c.39.39.9.59 1.41.59.51 0 1.02-.2 1.41-.59l7.78-7.78 2.81-2.81c.8-.78.8-2.07 0-2.86zM5.41 20L4 18.59l7.72-7.72 1.47 1.35L5.41 20z\"/>\n",
              "  </svg>\n",
              "      </button>\n",
              "      \n",
              "  <style>\n",
              "    .colab-df-container {\n",
              "      display:flex;\n",
              "      flex-wrap:wrap;\n",
              "      gap: 12px;\n",
              "    }\n",
              "\n",
              "    .colab-df-convert {\n",
              "      background-color: #E8F0FE;\n",
              "      border: none;\n",
              "      border-radius: 50%;\n",
              "      cursor: pointer;\n",
              "      display: none;\n",
              "      fill: #1967D2;\n",
              "      height: 32px;\n",
              "      padding: 0 0 0 0;\n",
              "      width: 32px;\n",
              "    }\n",
              "\n",
              "    .colab-df-convert:hover {\n",
              "      background-color: #E2EBFA;\n",
              "      box-shadow: 0px 1px 2px rgba(60, 64, 67, 0.3), 0px 1px 3px 1px rgba(60, 64, 67, 0.15);\n",
              "      fill: #174EA6;\n",
              "    }\n",
              "\n",
              "    [theme=dark] .colab-df-convert {\n",
              "      background-color: #3B4455;\n",
              "      fill: #D2E3FC;\n",
              "    }\n",
              "\n",
              "    [theme=dark] .colab-df-convert:hover {\n",
              "      background-color: #434B5C;\n",
              "      box-shadow: 0px 1px 3px 1px rgba(0, 0, 0, 0.15);\n",
              "      filter: drop-shadow(0px 1px 2px rgba(0, 0, 0, 0.3));\n",
              "      fill: #FFFFFF;\n",
              "    }\n",
              "  </style>\n",
              "\n",
              "      <script>\n",
              "        const buttonEl =\n",
              "          document.querySelector('#df-91ba1049-4c09-44fe-8333-e633b7da1959 button.colab-df-convert');\n",
              "        buttonEl.style.display =\n",
              "          google.colab.kernel.accessAllowed ? 'block' : 'none';\n",
              "\n",
              "        async function convertToInteractive(key) {\n",
              "          const element = document.querySelector('#df-91ba1049-4c09-44fe-8333-e633b7da1959');\n",
              "          const dataTable =\n",
              "            await google.colab.kernel.invokeFunction('convertToInteractive',\n",
              "                                                     [key], {});\n",
              "          if (!dataTable) return;\n",
              "\n",
              "          const docLinkHtml = 'Like what you see? Visit the ' +\n",
              "            '<a target=\"_blank\" href=https://colab.research.google.com/notebooks/data_table.ipynb>data table notebook</a>'\n",
              "            + ' to learn more about interactive tables.';\n",
              "          element.innerHTML = '';\n",
              "          dataTable['output_type'] = 'display_data';\n",
              "          await google.colab.output.renderOutput(dataTable, element);\n",
              "          const docLink = document.createElement('div');\n",
              "          docLink.innerHTML = docLinkHtml;\n",
              "          element.appendChild(docLink);\n",
              "        }\n",
              "      </script>\n",
              "    </div>\n",
              "  </div>\n",
              "  "
            ]
          },
          "metadata": {},
          "execution_count": 4
        }
      ]
    },
    {
      "cell_type": "code",
      "source": [
        "#Check classifications values\n",
        "print(merged_data.Class.value_counts())"
      ],
      "metadata": {
        "colab": {
          "base_uri": "https://localhost:8080/"
        },
        "id": "taL1nN54uriK",
        "outputId": "ef52e77b-ceb2-46f4-c4a3-9d26294ec6c8"
      },
      "execution_count": 5,
      "outputs": [
        {
          "output_type": "stream",
          "name": "stdout",
          "text": [
            "15    2836714\n",
            "18    1050988\n",
            "1      677877\n",
            "5      666952\n",
            "16     646870\n",
            "13     612009\n",
            "8      575175\n",
            "17     512930\n",
            "12     415493\n",
            "6      378274\n",
            "2      151560\n",
            "11     135890\n",
            "14      94850\n",
            "10      86338\n",
            "19      74619\n",
            "0         961\n",
            "Name: Class, dtype: int64\n"
          ]
        }
      ]
    },
    {
      "cell_type": "code",
      "source": [
        "#Drop Class = 0 (null values, which equate to 18)\n",
        "merged_data = merged_data[merged_data.Class != 0]\n",
        "\n",
        "#Double check value counts\n",
        "merged_data.Class.value_counts()"
      ],
      "metadata": {
        "colab": {
          "base_uri": "https://localhost:8080/"
        },
        "id": "6dnKpJCTvg25",
        "outputId": "bd78adf3-a89f-43c5-d3ed-f8598894c977"
      },
      "execution_count": 6,
      "outputs": [
        {
          "output_type": "execute_result",
          "data": {
            "text/plain": [
              "15    2836714\n",
              "18    1050988\n",
              "1      677877\n",
              "5      666952\n",
              "16     646870\n",
              "13     612009\n",
              "8      575175\n",
              "17     512930\n",
              "12     415493\n",
              "6      378274\n",
              "2      151560\n",
              "11     135890\n",
              "14      94850\n",
              "10      86338\n",
              "19      74619\n",
              "Name: Class, dtype: int64"
            ]
          },
          "metadata": {},
          "execution_count": 6
        }
      ]
    },
    {
      "cell_type": "code",
      "source": [
        "#SubSample ~25 000 for each class\n",
        "sample = merged_data.groupby('Class').apply(lambda x: x.sample(n=25000)).reset_index(drop=True)\n",
        "sample.head(4)"
      ],
      "metadata": {
        "colab": {
          "base_uri": "https://localhost:8080/",
          "height": 173
        },
        "id": "SRSTOrVNwJHG",
        "outputId": "4facefe3-d4a5-4b98-c7a2-3333e5722667"
      },
      "execution_count": 7,
      "outputs": [
        {
          "output_type": "execute_result",
          "data": {
            "text/plain": [
              "      B01     B06     B11     B07     B05     B03     B09     B12     B8A  \\\n",
              "0  0.0161  0.1176  0.1007  0.1317  0.0671  0.0348  0.1473  0.0584  0.1435   \n",
              "1  0.0153  0.1464  0.1390  0.1667  0.0786  0.0385  0.1898  0.0769  0.1862   \n",
              "2  0.0104  0.1376  0.0951  0.1566  0.0635  0.0334  0.1681  0.0486  0.1705   \n",
              "3  0.0130  0.0377  0.0287  0.0409  0.0235  0.0164  0.0806  0.0174  0.0456   \n",
              "\n",
              "      B04     B08     B02  Class  \n",
              "0  0.0304  0.1356  0.0247      1  \n",
              "1  0.0343  0.1761  0.0240      1  \n",
              "2  0.0210  0.1623  0.0171      1  \n",
              "3  0.0153  0.0429  0.0101      1  "
            ],
            "text/html": [
              "\n",
              "  <div id=\"df-2ea137f2-c886-4cf1-946e-2fd46c5c4ba5\">\n",
              "    <div class=\"colab-df-container\">\n",
              "      <div>\n",
              "<style scoped>\n",
              "    .dataframe tbody tr th:only-of-type {\n",
              "        vertical-align: middle;\n",
              "    }\n",
              "\n",
              "    .dataframe tbody tr th {\n",
              "        vertical-align: top;\n",
              "    }\n",
              "\n",
              "    .dataframe thead th {\n",
              "        text-align: right;\n",
              "    }\n",
              "</style>\n",
              "<table border=\"1\" class=\"dataframe\">\n",
              "  <thead>\n",
              "    <tr style=\"text-align: right;\">\n",
              "      <th></th>\n",
              "      <th>B01</th>\n",
              "      <th>B06</th>\n",
              "      <th>B11</th>\n",
              "      <th>B07</th>\n",
              "      <th>B05</th>\n",
              "      <th>B03</th>\n",
              "      <th>B09</th>\n",
              "      <th>B12</th>\n",
              "      <th>B8A</th>\n",
              "      <th>B04</th>\n",
              "      <th>B08</th>\n",
              "      <th>B02</th>\n",
              "      <th>Class</th>\n",
              "    </tr>\n",
              "  </thead>\n",
              "  <tbody>\n",
              "    <tr>\n",
              "      <th>0</th>\n",
              "      <td>0.0161</td>\n",
              "      <td>0.1176</td>\n",
              "      <td>0.1007</td>\n",
              "      <td>0.1317</td>\n",
              "      <td>0.0671</td>\n",
              "      <td>0.0348</td>\n",
              "      <td>0.1473</td>\n",
              "      <td>0.0584</td>\n",
              "      <td>0.1435</td>\n",
              "      <td>0.0304</td>\n",
              "      <td>0.1356</td>\n",
              "      <td>0.0247</td>\n",
              "      <td>1</td>\n",
              "    </tr>\n",
              "    <tr>\n",
              "      <th>1</th>\n",
              "      <td>0.0153</td>\n",
              "      <td>0.1464</td>\n",
              "      <td>0.1390</td>\n",
              "      <td>0.1667</td>\n",
              "      <td>0.0786</td>\n",
              "      <td>0.0385</td>\n",
              "      <td>0.1898</td>\n",
              "      <td>0.0769</td>\n",
              "      <td>0.1862</td>\n",
              "      <td>0.0343</td>\n",
              "      <td>0.1761</td>\n",
              "      <td>0.0240</td>\n",
              "      <td>1</td>\n",
              "    </tr>\n",
              "    <tr>\n",
              "      <th>2</th>\n",
              "      <td>0.0104</td>\n",
              "      <td>0.1376</td>\n",
              "      <td>0.0951</td>\n",
              "      <td>0.1566</td>\n",
              "      <td>0.0635</td>\n",
              "      <td>0.0334</td>\n",
              "      <td>0.1681</td>\n",
              "      <td>0.0486</td>\n",
              "      <td>0.1705</td>\n",
              "      <td>0.0210</td>\n",
              "      <td>0.1623</td>\n",
              "      <td>0.0171</td>\n",
              "      <td>1</td>\n",
              "    </tr>\n",
              "    <tr>\n",
              "      <th>3</th>\n",
              "      <td>0.0130</td>\n",
              "      <td>0.0377</td>\n",
              "      <td>0.0287</td>\n",
              "      <td>0.0409</td>\n",
              "      <td>0.0235</td>\n",
              "      <td>0.0164</td>\n",
              "      <td>0.0806</td>\n",
              "      <td>0.0174</td>\n",
              "      <td>0.0456</td>\n",
              "      <td>0.0153</td>\n",
              "      <td>0.0429</td>\n",
              "      <td>0.0101</td>\n",
              "      <td>1</td>\n",
              "    </tr>\n",
              "  </tbody>\n",
              "</table>\n",
              "</div>\n",
              "      <button class=\"colab-df-convert\" onclick=\"convertToInteractive('df-2ea137f2-c886-4cf1-946e-2fd46c5c4ba5')\"\n",
              "              title=\"Convert this dataframe to an interactive table.\"\n",
              "              style=\"display:none;\">\n",
              "        \n",
              "  <svg xmlns=\"http://www.w3.org/2000/svg\" height=\"24px\"viewBox=\"0 0 24 24\"\n",
              "       width=\"24px\">\n",
              "    <path d=\"M0 0h24v24H0V0z\" fill=\"none\"/>\n",
              "    <path d=\"M18.56 5.44l.94 2.06.94-2.06 2.06-.94-2.06-.94-.94-2.06-.94 2.06-2.06.94zm-11 1L8.5 8.5l.94-2.06 2.06-.94-2.06-.94L8.5 2.5l-.94 2.06-2.06.94zm10 10l.94 2.06.94-2.06 2.06-.94-2.06-.94-.94-2.06-.94 2.06-2.06.94z\"/><path d=\"M17.41 7.96l-1.37-1.37c-.4-.4-.92-.59-1.43-.59-.52 0-1.04.2-1.43.59L10.3 9.45l-7.72 7.72c-.78.78-.78 2.05 0 2.83L4 21.41c.39.39.9.59 1.41.59.51 0 1.02-.2 1.41-.59l7.78-7.78 2.81-2.81c.8-.78.8-2.07 0-2.86zM5.41 20L4 18.59l7.72-7.72 1.47 1.35L5.41 20z\"/>\n",
              "  </svg>\n",
              "      </button>\n",
              "      \n",
              "  <style>\n",
              "    .colab-df-container {\n",
              "      display:flex;\n",
              "      flex-wrap:wrap;\n",
              "      gap: 12px;\n",
              "    }\n",
              "\n",
              "    .colab-df-convert {\n",
              "      background-color: #E8F0FE;\n",
              "      border: none;\n",
              "      border-radius: 50%;\n",
              "      cursor: pointer;\n",
              "      display: none;\n",
              "      fill: #1967D2;\n",
              "      height: 32px;\n",
              "      padding: 0 0 0 0;\n",
              "      width: 32px;\n",
              "    }\n",
              "\n",
              "    .colab-df-convert:hover {\n",
              "      background-color: #E2EBFA;\n",
              "      box-shadow: 0px 1px 2px rgba(60, 64, 67, 0.3), 0px 1px 3px 1px rgba(60, 64, 67, 0.15);\n",
              "      fill: #174EA6;\n",
              "    }\n",
              "\n",
              "    [theme=dark] .colab-df-convert {\n",
              "      background-color: #3B4455;\n",
              "      fill: #D2E3FC;\n",
              "    }\n",
              "\n",
              "    [theme=dark] .colab-df-convert:hover {\n",
              "      background-color: #434B5C;\n",
              "      box-shadow: 0px 1px 3px 1px rgba(0, 0, 0, 0.15);\n",
              "      filter: drop-shadow(0px 1px 2px rgba(0, 0, 0, 0.3));\n",
              "      fill: #FFFFFF;\n",
              "    }\n",
              "  </style>\n",
              "\n",
              "      <script>\n",
              "        const buttonEl =\n",
              "          document.querySelector('#df-2ea137f2-c886-4cf1-946e-2fd46c5c4ba5 button.colab-df-convert');\n",
              "        buttonEl.style.display =\n",
              "          google.colab.kernel.accessAllowed ? 'block' : 'none';\n",
              "\n",
              "        async function convertToInteractive(key) {\n",
              "          const element = document.querySelector('#df-2ea137f2-c886-4cf1-946e-2fd46c5c4ba5');\n",
              "          const dataTable =\n",
              "            await google.colab.kernel.invokeFunction('convertToInteractive',\n",
              "                                                     [key], {});\n",
              "          if (!dataTable) return;\n",
              "\n",
              "          const docLinkHtml = 'Like what you see? Visit the ' +\n",
              "            '<a target=\"_blank\" href=https://colab.research.google.com/notebooks/data_table.ipynb>data table notebook</a>'\n",
              "            + ' to learn more about interactive tables.';\n",
              "          element.innerHTML = '';\n",
              "          dataTable['output_type'] = 'display_data';\n",
              "          await google.colab.output.renderOutput(dataTable, element);\n",
              "          const docLink = document.createElement('div');\n",
              "          docLink.innerHTML = docLinkHtml;\n",
              "          element.appendChild(docLink);\n",
              "        }\n",
              "      </script>\n",
              "    </div>\n",
              "  </div>\n",
              "  "
            ]
          },
          "metadata": {},
          "execution_count": 7
        }
      ]
    },
    {
      "cell_type": "code",
      "source": [
        "#Check basic stats\n",
        "sample.describe()"
      ],
      "metadata": {
        "colab": {
          "base_uri": "https://localhost:8080/",
          "height": 361
        },
        "id": "yWA0Aihd9rb3",
        "outputId": "d4eae319-0780-4565-c07b-13be94e23f33"
      },
      "execution_count": 8,
      "outputs": [
        {
          "output_type": "execute_result",
          "data": {
            "text/plain": [
              "                 B01            B06            B11            B07  \\\n",
              "count  375000.000000  375000.000000  375000.000000  375000.000000   \n",
              "mean        0.065909       0.183643       0.182858       0.201788   \n",
              "std         0.131255       0.124614       0.098111       0.122319   \n",
              "min         0.000000       0.000000       0.000000       0.000000   \n",
              "25%         0.015600       0.134800       0.126900       0.150800   \n",
              "50%         0.025700       0.166800       0.175900       0.187600   \n",
              "75%         0.051400       0.205000       0.234400       0.231500   \n",
              "max         1.752600       1.814800       1.636200       1.831300   \n",
              "\n",
              "                 B05            B03            B09            B12  \\\n",
              "count  375000.000000  375000.000000  375000.000000  375000.000000   \n",
              "mean        0.128877       0.088892       0.229219       0.122685   \n",
              "std         0.131217       0.132804       0.126683       0.089086   \n",
              "min         0.000000       0.000000       0.000000       0.000000   \n",
              "25%         0.078600       0.039200       0.177600       0.067400   \n",
              "50%         0.102900       0.052700       0.218200       0.103400   \n",
              "75%         0.129400       0.076800       0.262100       0.159700   \n",
              "max         1.807900       1.873100       1.627400       1.631700   \n",
              "\n",
              "                 B8A            B04            B08            B02  \\\n",
              "count  375000.000000  375000.000000  375000.000000  375000.000000   \n",
              "mean        0.222897       0.091266       0.220215       0.072123   \n",
              "std         0.121731       0.134426       0.127393       0.135234   \n",
              "min         0.000000       0.000000       0.000000       0.000000   \n",
              "25%         0.170500       0.033400       0.164600       0.020000   \n",
              "50%         0.213100       0.055300       0.206200       0.033900   \n",
              "75%         0.261600       0.088000       0.257600       0.057900   \n",
              "max         1.830200       1.830100       1.821300       1.933700   \n",
              "\n",
              "               Class  \n",
              "count  375000.000000  \n",
              "mean       11.133333  \n",
              "std         5.512014  \n",
              "min         1.000000  \n",
              "25%         6.000000  \n",
              "50%        12.000000  \n",
              "75%        16.000000  \n",
              "max        19.000000  "
            ],
            "text/html": [
              "\n",
              "  <div id=\"df-d513c70a-d3ca-4bdd-90c9-48ab2a0147ca\">\n",
              "    <div class=\"colab-df-container\">\n",
              "      <div>\n",
              "<style scoped>\n",
              "    .dataframe tbody tr th:only-of-type {\n",
              "        vertical-align: middle;\n",
              "    }\n",
              "\n",
              "    .dataframe tbody tr th {\n",
              "        vertical-align: top;\n",
              "    }\n",
              "\n",
              "    .dataframe thead th {\n",
              "        text-align: right;\n",
              "    }\n",
              "</style>\n",
              "<table border=\"1\" class=\"dataframe\">\n",
              "  <thead>\n",
              "    <tr style=\"text-align: right;\">\n",
              "      <th></th>\n",
              "      <th>B01</th>\n",
              "      <th>B06</th>\n",
              "      <th>B11</th>\n",
              "      <th>B07</th>\n",
              "      <th>B05</th>\n",
              "      <th>B03</th>\n",
              "      <th>B09</th>\n",
              "      <th>B12</th>\n",
              "      <th>B8A</th>\n",
              "      <th>B04</th>\n",
              "      <th>B08</th>\n",
              "      <th>B02</th>\n",
              "      <th>Class</th>\n",
              "    </tr>\n",
              "  </thead>\n",
              "  <tbody>\n",
              "    <tr>\n",
              "      <th>count</th>\n",
              "      <td>375000.000000</td>\n",
              "      <td>375000.000000</td>\n",
              "      <td>375000.000000</td>\n",
              "      <td>375000.000000</td>\n",
              "      <td>375000.000000</td>\n",
              "      <td>375000.000000</td>\n",
              "      <td>375000.000000</td>\n",
              "      <td>375000.000000</td>\n",
              "      <td>375000.000000</td>\n",
              "      <td>375000.000000</td>\n",
              "      <td>375000.000000</td>\n",
              "      <td>375000.000000</td>\n",
              "      <td>375000.000000</td>\n",
              "    </tr>\n",
              "    <tr>\n",
              "      <th>mean</th>\n",
              "      <td>0.065909</td>\n",
              "      <td>0.183643</td>\n",
              "      <td>0.182858</td>\n",
              "      <td>0.201788</td>\n",
              "      <td>0.128877</td>\n",
              "      <td>0.088892</td>\n",
              "      <td>0.229219</td>\n",
              "      <td>0.122685</td>\n",
              "      <td>0.222897</td>\n",
              "      <td>0.091266</td>\n",
              "      <td>0.220215</td>\n",
              "      <td>0.072123</td>\n",
              "      <td>11.133333</td>\n",
              "    </tr>\n",
              "    <tr>\n",
              "      <th>std</th>\n",
              "      <td>0.131255</td>\n",
              "      <td>0.124614</td>\n",
              "      <td>0.098111</td>\n",
              "      <td>0.122319</td>\n",
              "      <td>0.131217</td>\n",
              "      <td>0.132804</td>\n",
              "      <td>0.126683</td>\n",
              "      <td>0.089086</td>\n",
              "      <td>0.121731</td>\n",
              "      <td>0.134426</td>\n",
              "      <td>0.127393</td>\n",
              "      <td>0.135234</td>\n",
              "      <td>5.512014</td>\n",
              "    </tr>\n",
              "    <tr>\n",
              "      <th>min</th>\n",
              "      <td>0.000000</td>\n",
              "      <td>0.000000</td>\n",
              "      <td>0.000000</td>\n",
              "      <td>0.000000</td>\n",
              "      <td>0.000000</td>\n",
              "      <td>0.000000</td>\n",
              "      <td>0.000000</td>\n",
              "      <td>0.000000</td>\n",
              "      <td>0.000000</td>\n",
              "      <td>0.000000</td>\n",
              "      <td>0.000000</td>\n",
              "      <td>0.000000</td>\n",
              "      <td>1.000000</td>\n",
              "    </tr>\n",
              "    <tr>\n",
              "      <th>25%</th>\n",
              "      <td>0.015600</td>\n",
              "      <td>0.134800</td>\n",
              "      <td>0.126900</td>\n",
              "      <td>0.150800</td>\n",
              "      <td>0.078600</td>\n",
              "      <td>0.039200</td>\n",
              "      <td>0.177600</td>\n",
              "      <td>0.067400</td>\n",
              "      <td>0.170500</td>\n",
              "      <td>0.033400</td>\n",
              "      <td>0.164600</td>\n",
              "      <td>0.020000</td>\n",
              "      <td>6.000000</td>\n",
              "    </tr>\n",
              "    <tr>\n",
              "      <th>50%</th>\n",
              "      <td>0.025700</td>\n",
              "      <td>0.166800</td>\n",
              "      <td>0.175900</td>\n",
              "      <td>0.187600</td>\n",
              "      <td>0.102900</td>\n",
              "      <td>0.052700</td>\n",
              "      <td>0.218200</td>\n",
              "      <td>0.103400</td>\n",
              "      <td>0.213100</td>\n",
              "      <td>0.055300</td>\n",
              "      <td>0.206200</td>\n",
              "      <td>0.033900</td>\n",
              "      <td>12.000000</td>\n",
              "    </tr>\n",
              "    <tr>\n",
              "      <th>75%</th>\n",
              "      <td>0.051400</td>\n",
              "      <td>0.205000</td>\n",
              "      <td>0.234400</td>\n",
              "      <td>0.231500</td>\n",
              "      <td>0.129400</td>\n",
              "      <td>0.076800</td>\n",
              "      <td>0.262100</td>\n",
              "      <td>0.159700</td>\n",
              "      <td>0.261600</td>\n",
              "      <td>0.088000</td>\n",
              "      <td>0.257600</td>\n",
              "      <td>0.057900</td>\n",
              "      <td>16.000000</td>\n",
              "    </tr>\n",
              "    <tr>\n",
              "      <th>max</th>\n",
              "      <td>1.752600</td>\n",
              "      <td>1.814800</td>\n",
              "      <td>1.636200</td>\n",
              "      <td>1.831300</td>\n",
              "      <td>1.807900</td>\n",
              "      <td>1.873100</td>\n",
              "      <td>1.627400</td>\n",
              "      <td>1.631700</td>\n",
              "      <td>1.830200</td>\n",
              "      <td>1.830100</td>\n",
              "      <td>1.821300</td>\n",
              "      <td>1.933700</td>\n",
              "      <td>19.000000</td>\n",
              "    </tr>\n",
              "  </tbody>\n",
              "</table>\n",
              "</div>\n",
              "      <button class=\"colab-df-convert\" onclick=\"convertToInteractive('df-d513c70a-d3ca-4bdd-90c9-48ab2a0147ca')\"\n",
              "              title=\"Convert this dataframe to an interactive table.\"\n",
              "              style=\"display:none;\">\n",
              "        \n",
              "  <svg xmlns=\"http://www.w3.org/2000/svg\" height=\"24px\"viewBox=\"0 0 24 24\"\n",
              "       width=\"24px\">\n",
              "    <path d=\"M0 0h24v24H0V0z\" fill=\"none\"/>\n",
              "    <path d=\"M18.56 5.44l.94 2.06.94-2.06 2.06-.94-2.06-.94-.94-2.06-.94 2.06-2.06.94zm-11 1L8.5 8.5l.94-2.06 2.06-.94-2.06-.94L8.5 2.5l-.94 2.06-2.06.94zm10 10l.94 2.06.94-2.06 2.06-.94-2.06-.94-.94-2.06-.94 2.06-2.06.94z\"/><path d=\"M17.41 7.96l-1.37-1.37c-.4-.4-.92-.59-1.43-.59-.52 0-1.04.2-1.43.59L10.3 9.45l-7.72 7.72c-.78.78-.78 2.05 0 2.83L4 21.41c.39.39.9.59 1.41.59.51 0 1.02-.2 1.41-.59l7.78-7.78 2.81-2.81c.8-.78.8-2.07 0-2.86zM5.41 20L4 18.59l7.72-7.72 1.47 1.35L5.41 20z\"/>\n",
              "  </svg>\n",
              "      </button>\n",
              "      \n",
              "  <style>\n",
              "    .colab-df-container {\n",
              "      display:flex;\n",
              "      flex-wrap:wrap;\n",
              "      gap: 12px;\n",
              "    }\n",
              "\n",
              "    .colab-df-convert {\n",
              "      background-color: #E8F0FE;\n",
              "      border: none;\n",
              "      border-radius: 50%;\n",
              "      cursor: pointer;\n",
              "      display: none;\n",
              "      fill: #1967D2;\n",
              "      height: 32px;\n",
              "      padding: 0 0 0 0;\n",
              "      width: 32px;\n",
              "    }\n",
              "\n",
              "    .colab-df-convert:hover {\n",
              "      background-color: #E2EBFA;\n",
              "      box-shadow: 0px 1px 2px rgba(60, 64, 67, 0.3), 0px 1px 3px 1px rgba(60, 64, 67, 0.15);\n",
              "      fill: #174EA6;\n",
              "    }\n",
              "\n",
              "    [theme=dark] .colab-df-convert {\n",
              "      background-color: #3B4455;\n",
              "      fill: #D2E3FC;\n",
              "    }\n",
              "\n",
              "    [theme=dark] .colab-df-convert:hover {\n",
              "      background-color: #434B5C;\n",
              "      box-shadow: 0px 1px 3px 1px rgba(0, 0, 0, 0.15);\n",
              "      filter: drop-shadow(0px 1px 2px rgba(0, 0, 0, 0.3));\n",
              "      fill: #FFFFFF;\n",
              "    }\n",
              "  </style>\n",
              "\n",
              "      <script>\n",
              "        const buttonEl =\n",
              "          document.querySelector('#df-d513c70a-d3ca-4bdd-90c9-48ab2a0147ca button.colab-df-convert');\n",
              "        buttonEl.style.display =\n",
              "          google.colab.kernel.accessAllowed ? 'block' : 'none';\n",
              "\n",
              "        async function convertToInteractive(key) {\n",
              "          const element = document.querySelector('#df-d513c70a-d3ca-4bdd-90c9-48ab2a0147ca');\n",
              "          const dataTable =\n",
              "            await google.colab.kernel.invokeFunction('convertToInteractive',\n",
              "                                                     [key], {});\n",
              "          if (!dataTable) return;\n",
              "\n",
              "          const docLinkHtml = 'Like what you see? Visit the ' +\n",
              "            '<a target=\"_blank\" href=https://colab.research.google.com/notebooks/data_table.ipynb>data table notebook</a>'\n",
              "            + ' to learn more about interactive tables.';\n",
              "          element.innerHTML = '';\n",
              "          dataTable['output_type'] = 'display_data';\n",
              "          await google.colab.output.renderOutput(dataTable, element);\n",
              "          const docLink = document.createElement('div');\n",
              "          docLink.innerHTML = docLinkHtml;\n",
              "          element.appendChild(docLink);\n",
              "        }\n",
              "      </script>\n",
              "    </div>\n",
              "  </div>\n",
              "  "
            ]
          },
          "metadata": {},
          "execution_count": 8
        }
      ]
    },
    {
      "cell_type": "markdown",
      "source": [
        "# Split data"
      ],
      "metadata": {
        "id": "uyh6C78Pw2Xh"
      }
    },
    {
      "cell_type": "code",
      "source": [
        "#Set x and y\n",
        "y = sample['Class']\n",
        "X = sample.drop('Class', axis = 1)\n",
        "\n",
        "#Split data into training and test sets\n",
        "X_train, X_test, y_train, y_test = train_test_split(X, y, test_size=0.3, random_state = 42)"
      ],
      "metadata": {
        "id": "8KMcPWxew4V8"
      },
      "execution_count": 9,
      "outputs": []
    },
    {
      "cell_type": "code",
      "source": [
        "#check shape\n",
        "X_train.shape, y_train.shape"
      ],
      "metadata": {
        "colab": {
          "base_uri": "https://localhost:8080/"
        },
        "id": "L38KHzA3_TgT",
        "outputId": "7703b0f2-7cc8-40bf-9a5c-ad1434afb390"
      },
      "execution_count": 10,
      "outputs": [
        {
          "output_type": "execute_result",
          "data": {
            "text/plain": [
              "((262500, 12), (262500,))"
            ]
          },
          "metadata": {},
          "execution_count": 10
        }
      ]
    },
    {
      "cell_type": "markdown",
      "source": [
        "# Create Pipelines"
      ],
      "metadata": {
        "id": "iVs8rFmNqJgp"
      }
    },
    {
      "cell_type": "code",
      "source": [
        "#Functions for Pipeline\n",
        "def add_layers(df):\n",
        "  \"\"\"\n",
        "  This function takes in a dataframe and calculates the NDVI, Moisture Index, NDWI and NDSI\n",
        "  Outputs = dataframe with added layer columns \n",
        "  \"\"\"\n",
        "  #Create NDVI column (B08-B04)/(B08+B04)\n",
        "  df['NDVI'] = (df.B08 - df.B04)/(df.B08 + df.B04)\n",
        "  #Create Moisture index (B8A-B11)/(B8A+B11)\n",
        "  df['Moisture'] = (df.B8A - df.B11)/(df.B8A + df.B11)\n",
        "  #Create NDWI (B3-B8)/(B3+B8)\n",
        "  df['NDWI'] = (df.B03 - df.B08)/(df.B03 + df.B08)\n",
        "  #create NDSI (B3-B11)/(B3+B11)\n",
        "  df['NDSI'] = (df.B03 - df.B11)/(df.B03 + df.B11)\n",
        "\n",
        "  return df\n",
        "\n",
        "def replace_values(df):\n",
        "  \"\"\"\n",
        "  This function replaces the infinity values with Nan then replaces that with new infinity values\n",
        "  \"\"\"\n",
        "  #Replace infinity values with Nan\n",
        "  df.replace([np.inf, -np.inf], np.NAN, inplace=True)\n",
        "\n",
        "  #Fill in null values\n",
        "  df.fillna(999, inplace=True)\n",
        "\n",
        "  return df\n",
        "\n",
        "\n",
        "#Define object transformer class\n",
        "class objectTransformer:\n",
        "    \"\"\"\n",
        "    Class object transformer, takes in function to apply in preprocessing step of Pipeline\n",
        "    \"\"\"\n",
        "    def __init__(self, func):\n",
        "        self.func = func\n",
        "        \n",
        "    def fit(self, X, y=None, **fit_params):\n",
        "        return self\n",
        "    \n",
        "    def transform(self, X, **fit_params):\n",
        "        return self.func(X)"
      ],
      "metadata": {
        "id": "0RsWyU48mqy2"
      },
      "execution_count": 11,
      "outputs": []
    },
    {
      "cell_type": "markdown",
      "source": [
        "## Test PCA and Feature Union"
      ],
      "metadata": {
        "id": "AY-uZ7ylv_FR"
      }
    },
    {
      "cell_type": "code",
      "source": [
        "#Create Pre-Processing Pipeline\n",
        "preprocess = Pipeline([(\"add_layers\", objectTransformer(add_layers)),\n",
        "                       (\"replace_values\", objectTransformer(replace_values))])\n",
        "\n",
        "#Create Feature Union\n",
        "feature_union = FeatureUnion([(\"PCA\", PCA(n_components=6)),\n",
        "                              (\"kKBest\", SelectKBest(k=2))])\n"
      ],
      "metadata": {
        "id": "QHCIIo7enl5R"
      },
      "execution_count": 13,
      "outputs": []
    },
    {
      "cell_type": "code",
      "source": [
        "#Define pipelines\n",
        "model_1 = Pipeline([('preprocessing', preprocess),\n",
        "                    ('RFC', RandomForestClassifier(random_state = 123))])\n",
        "\n",
        "model_2 = Pipeline([('preprocessing', preprocess),\n",
        "                    ('features', feature_union),\n",
        "                    ('RFC', RandomForestClassifier(random_state = 123))])\n",
        "\n",
        "model_3 = Pipeline([('preprocessing', preprocess),\n",
        "                    ('pca', PCA(n_components=6)),\n",
        "                    ('RFC', RandomForestClassifier(random_state = 123))])"
      ],
      "metadata": {
        "id": "rGMhuMOAobAE"
      },
      "execution_count": null,
      "outputs": []
    },
    {
      "cell_type": "code",
      "source": [
        "#fit pipes to check which is best\n",
        "pipes = [model_1, model_2, model_3]\n",
        "\n",
        "for pipe in pipes:\n",
        "  pipe.fit(X_train, y_train)\n",
        "\n",
        "#compare accuracies \n",
        "#make dictionary\n",
        "pipe_dict = {0: 'No Feature Union', 1: 'With Feature Union', 2: 'Only PCA'}\n",
        "\n",
        "#create for loop to find scores\n",
        "for i, model in enumerate(pipes):\n",
        "    print('{} Test Accuracy: {}'.format(pipe_dict[i], model.score(X_test, y_test)))"
      ],
      "metadata": {
        "colab": {
          "base_uri": "https://localhost:8080/"
        },
        "id": "0X_2TQXWynva",
        "outputId": "c2e3a55c-af6d-4592-8917-33b81e1b9ab7"
      },
      "execution_count": null,
      "outputs": [
        {
          "output_type": "stream",
          "name": "stdout",
          "text": [
            "No Feature Union Test Accuracy: 0.6150577777777778\n",
            "With Feature Union Test Accuracy: 0.5676888888888889\n",
            "Only PCA Test Accuracy: 0.5371822222222222\n"
          ]
        }
      ]
    },
    {
      "cell_type": "markdown",
      "source": [
        "## Compare SVC, Random Forest, XGBoost"
      ],
      "metadata": {
        "id": "uqrNuEPiwEn1"
      }
    },
    {
      "cell_type": "code",
      "source": [
        "#Compare three model types\n",
        "svc_pipe = Pipeline([('preprocessing', preprocess),\n",
        "                    ('SVC', SVC(random_state = 123))])\n",
        "\n",
        "rfc_pipe = Pipeline([('preprocessing', preprocess),\n",
        "                    ('RFC', RandomForestClassifier(random_state = 123))])\n",
        "\n",
        "xgb_pipe = Pipeline([('preprocessing', preprocess),\n",
        "                    ('XGB', XGBClassifier(random_state = 123))])"
      ],
      "metadata": {
        "id": "jZASfAAwsZyL"
      },
      "execution_count": 13,
      "outputs": []
    },
    {
      "cell_type": "code",
      "source": [
        "#fit pipes to check which is best\n",
        "pipes = [svc_pipe, rfc_pipe, xgb_pipe]\n",
        "\n",
        "for pipe in pipes:\n",
        "  pipe.fit(X_train, y_train)\n",
        "\n",
        "#compare accuracies \n",
        "#make dictionary\n",
        "pipe_dict = {0: 'SVC', 1: 'Random Forest', 2: 'XGBoost'}\n",
        "\n",
        "#create for loop to find scores\n",
        "for i, model in enumerate(pipes):\n",
        "    print('{} Test Accuracy: {}'.format(pipe_dict[i], model.score(X_test, y_test)))"
      ],
      "metadata": {
        "colab": {
          "base_uri": "https://localhost:8080/"
        },
        "id": "QQCNRxdMsyP_",
        "outputId": "1a8c06df-8a28-4e50-ed5d-2e6dbdc2ef47"
      },
      "execution_count": 14,
      "outputs": [
        {
          "output_type": "stream",
          "name": "stdout",
          "text": [
            "SVC Test Accuracy: 0.39609777777777777\n",
            "Random Forest Test Accuracy: 0.6154133333333334\n",
            "XGBoost Test Accuracy: 0.5536622222222222\n"
          ]
        }
      ]
    },
    {
      "cell_type": "markdown",
      "source": [
        "## Pickle base random forest for trial on AISC data"
      ],
      "metadata": {
        "id": "CjNfsfY-_ZRN"
      }
    },
    {
      "cell_type": "code",
      "source": [
        "#Instantiate pipeline\n",
        "rfc_model = Pipeline([('preprocessing', preprocess),\n",
        "                    ('RFC', RandomForestClassifier(random_state = 123))])\n",
        "\n",
        "#Fit model\n",
        "rfc_model.fit(X_train, y_train)\n",
        "\n",
        "#Double check accuracy\n",
        "rfc_model.score(X_test, y_test)"
      ],
      "metadata": {
        "id": "Il44zrhv_gWv",
        "outputId": "7bd66c9c-535a-4b6c-c62d-f4b8ed2e75a1",
        "colab": {
          "base_uri": "https://localhost:8080/"
        }
      },
      "execution_count": 15,
      "outputs": [
        {
          "output_type": "execute_result",
          "data": {
            "text/plain": [
              "0.6182311111111111"
            ]
          },
          "metadata": {},
          "execution_count": 15
        }
      ]
    },
    {
      "cell_type": "code",
      "source": [
        "#Instantiate pipeline\n",
        "rfc = Pipeline([('RFC', RandomForestClassifier(random_state = 123))])\n",
        "\n",
        "#Fit model\n",
        "rfc.fit(X_train, y_train)\n",
        "\n",
        "#Double check accuracy\n",
        "rfc.score(X_test, y_test)"
      ],
      "metadata": {
        "id": "TqRmzmdpBZtr",
        "outputId": "04889227-44e9-4257-f5df-4c951f56cddf",
        "colab": {
          "base_uri": "https://localhost:8080/"
        }
      },
      "execution_count": 16,
      "outputs": [
        {
          "output_type": "execute_result",
          "data": {
            "text/plain": [
              "0.6182311111111111"
            ]
          },
          "metadata": {},
          "execution_count": 16
        }
      ]
    },
    {
      "cell_type": "code",
      "source": [
        "#Save as pickle file\n",
        "pickle.dump(rfc, open('/content/drive/MyDrive/classifier.pickle', 'wb'))"
      ],
      "metadata": {
        "id": "-6l8ZiwNCLM1"
      },
      "execution_count": 19,
      "outputs": []
    },
    {
      "cell_type": "code",
      "source": [
        "#Load pickle\n",
        "with open('/content/drive/MyDrive/classifier.pickle', 'rb') as f:\n",
        "  classifier = pickle.load(f)\n",
        "\n",
        "classifier.score(X_test, y_test)"
      ],
      "metadata": {
        "id": "EijTvKV7C3Rb",
        "outputId": "b74b63d6-add3-4bf7-b139-938db252cbaf",
        "colab": {
          "base_uri": "https://localhost:8080/"
        }
      },
      "execution_count": 20,
      "outputs": [
        {
          "output_type": "execute_result",
          "data": {
            "text/plain": [
              "0.6182311111111111"
            ]
          },
          "metadata": {},
          "execution_count": 20
        }
      ]
    },
    {
      "cell_type": "code",
      "source": [
        ""
      ],
      "metadata": {
        "id": "M70eoyK3DUhp"
      },
      "execution_count": null,
      "outputs": []
    }
  ]
}