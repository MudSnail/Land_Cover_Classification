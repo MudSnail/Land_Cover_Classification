{
  "nbformat": 4,
  "nbformat_minor": 0,
  "metadata": {
    "colab": {
      "name": "Untitled0.ipynb",
      "provenance": [],
      "machine_shape": "hm",
      "authorship_tag": "ABX9TyMYxLmCaKWs/OrWbEf26iQo",
      "include_colab_link": true
    },
    "kernelspec": {
      "name": "python3",
      "display_name": "Python 3"
    },
    "language_info": {
      "name": "python"
    }
  },
  "cells": [
    {
      "cell_type": "markdown",
      "metadata": {
        "id": "view-in-github",
        "colab_type": "text"
      },
      "source": [
        "<a href=\"https://colab.research.google.com/github/MudSnail/Land_Cover_Classification/blob/main/Basic_Pipeline.ipynb\" target=\"_parent\"><img src=\"https://colab.research.google.com/assets/colab-badge.svg\" alt=\"Open In Colab\"/></a>"
      ]
    },
    {
      "cell_type": "code",
      "execution_count": 1,
      "metadata": {
        "id": "SYPQfYOMZ_KC"
      },
      "outputs": [],
      "source": [
        "#import base libraries\n",
        "import pandas as pd\n",
        "import numpy as np\n",
        "import copy\n",
        "import pickle\n",
        "\n",
        "#Sklearn - Pipelines, Training\n",
        "from sklearn.pipeline import Pipeline, FeatureUnion\n",
        "from sklearn.feature_selection import SelectKBest\n",
        "from sklearn.decomposition import PCA\n",
        "from sklearn.model_selection import train_test_split, GridSearchCV\n",
        "from sklearn.preprocessing import StandardScaler, MinMaxScaler, MaxAbsScaler, RobustScaler\n",
        "\n",
        "#Classification Models\n",
        "from sklearn.svm import SVC\n",
        "from sklearn.neighbors import KNeighborsClassifier\n",
        "from sklearn.ensemble import RandomForestClassifier, GradientBoostingClassifier\n",
        "from xgboost import XGBClassifier\n",
        "\n",
        "\n",
        "#Model metrics\n",
        "from sklearn.metrics import accuracy_score, balanced_accuracy_score, classification_report, confusion_matrix, f1_score, roc_auc_score, precision_score, recall_score\n",
        "\n",
        "#Visualizations\n",
        "import matplotlib.pyplot as plt\n",
        "import seaborn as sns\n",
        "\n",
        "#misc\n",
        "import warnings\n",
        "warnings.filterwarnings('ignore')"
      ]
    },
    {
      "cell_type": "code",
      "source": [
        "#Connect to drive\n",
        "from google.colab import drive\n",
        "drive.mount('/content/drive')"
      ],
      "metadata": {
        "colab": {
          "base_uri": "https://localhost:8080/"
        },
        "id": "1ZyTD_JJbHSP",
        "outputId": "2ba4eeca-ada1-42f7-b40d-2ade0c8b22f2"
      },
      "execution_count": 2,
      "outputs": [
        {
          "output_type": "stream",
          "name": "stdout",
          "text": [
            "Mounted at /content/drive\n"
          ]
        }
      ]
    },
    {
      "cell_type": "markdown",
      "source": [
        "# Input Data, Combine and Select"
      ],
      "metadata": {
        "id": "QfyvAXVAqChE"
      }
    },
    {
      "cell_type": "code",
      "source": [
        "#Read in CSVs\n",
        "james_bay = pd.read_csv('/content/drive/MyDrive/james_bay_data.csv')\n",
        "labrador = pd.read_csv('/content/drive/MyDrive/labrador_data.csv')\n",
        "simcoe = pd.read_csv('/content/drive/MyDrive/simcoe_york_data.csv')"
      ],
      "metadata": {
        "id": "t05K05PfqCPG"
      },
      "execution_count": 3,
      "outputs": []
    },
    {
      "cell_type": "code",
      "source": [
        "#List dataframes to add to james_bay\n",
        "dfs = [labrador, simcoe]\n",
        "\n",
        "#Merged data\n",
        "merged_data = james_bay.append(dfs)\n",
        "\n",
        "#Print shape and check new data\n",
        "print(merged_data.shape)\n",
        "merged_data.head()"
      ],
      "metadata": {
        "colab": {
          "base_uri": "https://localhost:8080/",
          "height": 221
        },
        "id": "n9JTYsVksSM4",
        "outputId": "8fb14d9e-53c7-4c1e-b7ae-2ff423adcc09"
      },
      "execution_count": 4,
      "outputs": [
        {
          "output_type": "stream",
          "name": "stdout",
          "text": [
            "(8917500, 13)\n"
          ]
        },
        {
          "output_type": "execute_result",
          "data": {
            "text/plain": [
              "      B01     B06     B11     B07     B05     B03     B09     B12     B8A  \\\n",
              "0  0.0055  0.0017  0.0009  0.0016  0.0026  0.0056  0.0001  0.0009  0.0003   \n",
              "1  0.0054  0.0020  0.0009  0.0017  0.0021  0.0060  0.0001  0.0005  0.0007   \n",
              "2  0.0058  0.0018  0.0007  0.0016  0.0028  0.0060  0.0001  0.0008  0.0007   \n",
              "3  0.0057  0.0016  0.0007  0.0016  0.0023  0.0058  0.0001  0.0012  0.0006   \n",
              "4  0.0066  0.0013  0.0008  0.0020  0.0029  0.0059  0.0001  0.0008  0.0005   \n",
              "\n",
              "      B04     B08     B02  Class  \n",
              "0  0.0032  0.0012  0.0114      0  \n",
              "1  0.0028  0.0014  0.0115      0  \n",
              "2  0.0030  0.0012  0.0124      0  \n",
              "3  0.0031  0.0011  0.0119      0  \n",
              "4  0.0030  0.0014  0.0115      0  "
            ],
            "text/html": [
              "\n",
              "  <div id=\"df-eb31e634-f17c-4db5-917a-a50ae6f8d265\">\n",
              "    <div class=\"colab-df-container\">\n",
              "      <div>\n",
              "<style scoped>\n",
              "    .dataframe tbody tr th:only-of-type {\n",
              "        vertical-align: middle;\n",
              "    }\n",
              "\n",
              "    .dataframe tbody tr th {\n",
              "        vertical-align: top;\n",
              "    }\n",
              "\n",
              "    .dataframe thead th {\n",
              "        text-align: right;\n",
              "    }\n",
              "</style>\n",
              "<table border=\"1\" class=\"dataframe\">\n",
              "  <thead>\n",
              "    <tr style=\"text-align: right;\">\n",
              "      <th></th>\n",
              "      <th>B01</th>\n",
              "      <th>B06</th>\n",
              "      <th>B11</th>\n",
              "      <th>B07</th>\n",
              "      <th>B05</th>\n",
              "      <th>B03</th>\n",
              "      <th>B09</th>\n",
              "      <th>B12</th>\n",
              "      <th>B8A</th>\n",
              "      <th>B04</th>\n",
              "      <th>B08</th>\n",
              "      <th>B02</th>\n",
              "      <th>Class</th>\n",
              "    </tr>\n",
              "  </thead>\n",
              "  <tbody>\n",
              "    <tr>\n",
              "      <th>0</th>\n",
              "      <td>0.0055</td>\n",
              "      <td>0.0017</td>\n",
              "      <td>0.0009</td>\n",
              "      <td>0.0016</td>\n",
              "      <td>0.0026</td>\n",
              "      <td>0.0056</td>\n",
              "      <td>0.0001</td>\n",
              "      <td>0.0009</td>\n",
              "      <td>0.0003</td>\n",
              "      <td>0.0032</td>\n",
              "      <td>0.0012</td>\n",
              "      <td>0.0114</td>\n",
              "      <td>0</td>\n",
              "    </tr>\n",
              "    <tr>\n",
              "      <th>1</th>\n",
              "      <td>0.0054</td>\n",
              "      <td>0.0020</td>\n",
              "      <td>0.0009</td>\n",
              "      <td>0.0017</td>\n",
              "      <td>0.0021</td>\n",
              "      <td>0.0060</td>\n",
              "      <td>0.0001</td>\n",
              "      <td>0.0005</td>\n",
              "      <td>0.0007</td>\n",
              "      <td>0.0028</td>\n",
              "      <td>0.0014</td>\n",
              "      <td>0.0115</td>\n",
              "      <td>0</td>\n",
              "    </tr>\n",
              "    <tr>\n",
              "      <th>2</th>\n",
              "      <td>0.0058</td>\n",
              "      <td>0.0018</td>\n",
              "      <td>0.0007</td>\n",
              "      <td>0.0016</td>\n",
              "      <td>0.0028</td>\n",
              "      <td>0.0060</td>\n",
              "      <td>0.0001</td>\n",
              "      <td>0.0008</td>\n",
              "      <td>0.0007</td>\n",
              "      <td>0.0030</td>\n",
              "      <td>0.0012</td>\n",
              "      <td>0.0124</td>\n",
              "      <td>0</td>\n",
              "    </tr>\n",
              "    <tr>\n",
              "      <th>3</th>\n",
              "      <td>0.0057</td>\n",
              "      <td>0.0016</td>\n",
              "      <td>0.0007</td>\n",
              "      <td>0.0016</td>\n",
              "      <td>0.0023</td>\n",
              "      <td>0.0058</td>\n",
              "      <td>0.0001</td>\n",
              "      <td>0.0012</td>\n",
              "      <td>0.0006</td>\n",
              "      <td>0.0031</td>\n",
              "      <td>0.0011</td>\n",
              "      <td>0.0119</td>\n",
              "      <td>0</td>\n",
              "    </tr>\n",
              "    <tr>\n",
              "      <th>4</th>\n",
              "      <td>0.0066</td>\n",
              "      <td>0.0013</td>\n",
              "      <td>0.0008</td>\n",
              "      <td>0.0020</td>\n",
              "      <td>0.0029</td>\n",
              "      <td>0.0059</td>\n",
              "      <td>0.0001</td>\n",
              "      <td>0.0008</td>\n",
              "      <td>0.0005</td>\n",
              "      <td>0.0030</td>\n",
              "      <td>0.0014</td>\n",
              "      <td>0.0115</td>\n",
              "      <td>0</td>\n",
              "    </tr>\n",
              "  </tbody>\n",
              "</table>\n",
              "</div>\n",
              "      <button class=\"colab-df-convert\" onclick=\"convertToInteractive('df-eb31e634-f17c-4db5-917a-a50ae6f8d265')\"\n",
              "              title=\"Convert this dataframe to an interactive table.\"\n",
              "              style=\"display:none;\">\n",
              "        \n",
              "  <svg xmlns=\"http://www.w3.org/2000/svg\" height=\"24px\"viewBox=\"0 0 24 24\"\n",
              "       width=\"24px\">\n",
              "    <path d=\"M0 0h24v24H0V0z\" fill=\"none\"/>\n",
              "    <path d=\"M18.56 5.44l.94 2.06.94-2.06 2.06-.94-2.06-.94-.94-2.06-.94 2.06-2.06.94zm-11 1L8.5 8.5l.94-2.06 2.06-.94-2.06-.94L8.5 2.5l-.94 2.06-2.06.94zm10 10l.94 2.06.94-2.06 2.06-.94-2.06-.94-.94-2.06-.94 2.06-2.06.94z\"/><path d=\"M17.41 7.96l-1.37-1.37c-.4-.4-.92-.59-1.43-.59-.52 0-1.04.2-1.43.59L10.3 9.45l-7.72 7.72c-.78.78-.78 2.05 0 2.83L4 21.41c.39.39.9.59 1.41.59.51 0 1.02-.2 1.41-.59l7.78-7.78 2.81-2.81c.8-.78.8-2.07 0-2.86zM5.41 20L4 18.59l7.72-7.72 1.47 1.35L5.41 20z\"/>\n",
              "  </svg>\n",
              "      </button>\n",
              "      \n",
              "  <style>\n",
              "    .colab-df-container {\n",
              "      display:flex;\n",
              "      flex-wrap:wrap;\n",
              "      gap: 12px;\n",
              "    }\n",
              "\n",
              "    .colab-df-convert {\n",
              "      background-color: #E8F0FE;\n",
              "      border: none;\n",
              "      border-radius: 50%;\n",
              "      cursor: pointer;\n",
              "      display: none;\n",
              "      fill: #1967D2;\n",
              "      height: 32px;\n",
              "      padding: 0 0 0 0;\n",
              "      width: 32px;\n",
              "    }\n",
              "\n",
              "    .colab-df-convert:hover {\n",
              "      background-color: #E2EBFA;\n",
              "      box-shadow: 0px 1px 2px rgba(60, 64, 67, 0.3), 0px 1px 3px 1px rgba(60, 64, 67, 0.15);\n",
              "      fill: #174EA6;\n",
              "    }\n",
              "\n",
              "    [theme=dark] .colab-df-convert {\n",
              "      background-color: #3B4455;\n",
              "      fill: #D2E3FC;\n",
              "    }\n",
              "\n",
              "    [theme=dark] .colab-df-convert:hover {\n",
              "      background-color: #434B5C;\n",
              "      box-shadow: 0px 1px 3px 1px rgba(0, 0, 0, 0.15);\n",
              "      filter: drop-shadow(0px 1px 2px rgba(0, 0, 0, 0.3));\n",
              "      fill: #FFFFFF;\n",
              "    }\n",
              "  </style>\n",
              "\n",
              "      <script>\n",
              "        const buttonEl =\n",
              "          document.querySelector('#df-eb31e634-f17c-4db5-917a-a50ae6f8d265 button.colab-df-convert');\n",
              "        buttonEl.style.display =\n",
              "          google.colab.kernel.accessAllowed ? 'block' : 'none';\n",
              "\n",
              "        async function convertToInteractive(key) {\n",
              "          const element = document.querySelector('#df-eb31e634-f17c-4db5-917a-a50ae6f8d265');\n",
              "          const dataTable =\n",
              "            await google.colab.kernel.invokeFunction('convertToInteractive',\n",
              "                                                     [key], {});\n",
              "          if (!dataTable) return;\n",
              "\n",
              "          const docLinkHtml = 'Like what you see? Visit the ' +\n",
              "            '<a target=\"_blank\" href=https://colab.research.google.com/notebooks/data_table.ipynb>data table notebook</a>'\n",
              "            + ' to learn more about interactive tables.';\n",
              "          element.innerHTML = '';\n",
              "          dataTable['output_type'] = 'display_data';\n",
              "          await google.colab.output.renderOutput(dataTable, element);\n",
              "          const docLink = document.createElement('div');\n",
              "          docLink.innerHTML = docLinkHtml;\n",
              "          element.appendChild(docLink);\n",
              "        }\n",
              "      </script>\n",
              "    </div>\n",
              "  </div>\n",
              "  "
            ]
          },
          "metadata": {},
          "execution_count": 4
        }
      ]
    },
    {
      "cell_type": "code",
      "source": [
        "#Check classifications values\n",
        "print(merged_data.Class.value_counts())"
      ],
      "metadata": {
        "colab": {
          "base_uri": "https://localhost:8080/"
        },
        "id": "taL1nN54uriK",
        "outputId": "59101257-3928-4774-fb52-a0ec83e2a701"
      },
      "execution_count": 5,
      "outputs": [
        {
          "output_type": "stream",
          "name": "stdout",
          "text": [
            "15    2836714\n",
            "18    1050988\n",
            "1      677877\n",
            "5      666952\n",
            "16     646870\n",
            "13     612009\n",
            "8      575175\n",
            "17     512930\n",
            "12     415493\n",
            "6      378274\n",
            "2      151560\n",
            "11     135890\n",
            "14      94850\n",
            "10      86338\n",
            "19      74619\n",
            "0         961\n",
            "Name: Class, dtype: int64\n"
          ]
        }
      ]
    },
    {
      "cell_type": "code",
      "source": [
        "#Drop Class = 0 (null values, which equate to 18)\n",
        "merged_data = merged_data[merged_data.Class != 0]\n",
        "\n",
        "#Double check value counts\n",
        "merged_data.Class.value_counts()"
      ],
      "metadata": {
        "colab": {
          "base_uri": "https://localhost:8080/"
        },
        "id": "6dnKpJCTvg25",
        "outputId": "59e6ab13-77b9-4481-b846-eaccdc871bc8"
      },
      "execution_count": 6,
      "outputs": [
        {
          "output_type": "execute_result",
          "data": {
            "text/plain": [
              "15    2836714\n",
              "18    1050988\n",
              "1      677877\n",
              "5      666952\n",
              "16     646870\n",
              "13     612009\n",
              "8      575175\n",
              "17     512930\n",
              "12     415493\n",
              "6      378274\n",
              "2      151560\n",
              "11     135890\n",
              "14      94850\n",
              "10      86338\n",
              "19      74619\n",
              "Name: Class, dtype: int64"
            ]
          },
          "metadata": {},
          "execution_count": 6
        }
      ]
    },
    {
      "cell_type": "code",
      "source": [
        "#SubSample ~25 000 for each class\n",
        "sample = merged_data.groupby('Class').apply(lambda x: x.sample(n=25000)).reset_index(drop=True)\n",
        "sample.head(4)"
      ],
      "metadata": {
        "colab": {
          "base_uri": "https://localhost:8080/",
          "height": 173
        },
        "id": "SRSTOrVNwJHG",
        "outputId": "ab63ca3c-060b-4125-dd14-0e5f69b5b151"
      },
      "execution_count": 7,
      "outputs": [
        {
          "output_type": "execute_result",
          "data": {
            "text/plain": [
              "      B01     B06     B11     B07     B05     B03     B09     B12     B8A  \\\n",
              "0  0.0083  0.1495  0.1162  0.1744  0.0837  0.0307  0.2035  0.0622  0.2039   \n",
              "1  0.0156  0.1344  0.0986  0.1516  0.0726  0.0374  0.1633  0.0532  0.1664   \n",
              "2  0.0178  0.1115  0.1595  0.1368  0.0771  0.0339  0.1763  0.0952  0.1741   \n",
              "3  0.0262  0.1883  0.1512  0.2120  0.0973  0.0516  0.2361  0.0794  0.2343   \n",
              "\n",
              "      B04     B08     B02  Class  \n",
              "0  0.0332  0.1927  0.0174      1  \n",
              "1  0.0311  0.1583  0.0228      1  \n",
              "2  0.0447  0.1555  0.0257      1  \n",
              "3  0.0422  0.2233  0.0298      1  "
            ],
            "text/html": [
              "\n",
              "  <div id=\"df-9b2344c7-fe3b-4fc0-b5af-81290950d42c\">\n",
              "    <div class=\"colab-df-container\">\n",
              "      <div>\n",
              "<style scoped>\n",
              "    .dataframe tbody tr th:only-of-type {\n",
              "        vertical-align: middle;\n",
              "    }\n",
              "\n",
              "    .dataframe tbody tr th {\n",
              "        vertical-align: top;\n",
              "    }\n",
              "\n",
              "    .dataframe thead th {\n",
              "        text-align: right;\n",
              "    }\n",
              "</style>\n",
              "<table border=\"1\" class=\"dataframe\">\n",
              "  <thead>\n",
              "    <tr style=\"text-align: right;\">\n",
              "      <th></th>\n",
              "      <th>B01</th>\n",
              "      <th>B06</th>\n",
              "      <th>B11</th>\n",
              "      <th>B07</th>\n",
              "      <th>B05</th>\n",
              "      <th>B03</th>\n",
              "      <th>B09</th>\n",
              "      <th>B12</th>\n",
              "      <th>B8A</th>\n",
              "      <th>B04</th>\n",
              "      <th>B08</th>\n",
              "      <th>B02</th>\n",
              "      <th>Class</th>\n",
              "    </tr>\n",
              "  </thead>\n",
              "  <tbody>\n",
              "    <tr>\n",
              "      <th>0</th>\n",
              "      <td>0.0083</td>\n",
              "      <td>0.1495</td>\n",
              "      <td>0.1162</td>\n",
              "      <td>0.1744</td>\n",
              "      <td>0.0837</td>\n",
              "      <td>0.0307</td>\n",
              "      <td>0.2035</td>\n",
              "      <td>0.0622</td>\n",
              "      <td>0.2039</td>\n",
              "      <td>0.0332</td>\n",
              "      <td>0.1927</td>\n",
              "      <td>0.0174</td>\n",
              "      <td>1</td>\n",
              "    </tr>\n",
              "    <tr>\n",
              "      <th>1</th>\n",
              "      <td>0.0156</td>\n",
              "      <td>0.1344</td>\n",
              "      <td>0.0986</td>\n",
              "      <td>0.1516</td>\n",
              "      <td>0.0726</td>\n",
              "      <td>0.0374</td>\n",
              "      <td>0.1633</td>\n",
              "      <td>0.0532</td>\n",
              "      <td>0.1664</td>\n",
              "      <td>0.0311</td>\n",
              "      <td>0.1583</td>\n",
              "      <td>0.0228</td>\n",
              "      <td>1</td>\n",
              "    </tr>\n",
              "    <tr>\n",
              "      <th>2</th>\n",
              "      <td>0.0178</td>\n",
              "      <td>0.1115</td>\n",
              "      <td>0.1595</td>\n",
              "      <td>0.1368</td>\n",
              "      <td>0.0771</td>\n",
              "      <td>0.0339</td>\n",
              "      <td>0.1763</td>\n",
              "      <td>0.0952</td>\n",
              "      <td>0.1741</td>\n",
              "      <td>0.0447</td>\n",
              "      <td>0.1555</td>\n",
              "      <td>0.0257</td>\n",
              "      <td>1</td>\n",
              "    </tr>\n",
              "    <tr>\n",
              "      <th>3</th>\n",
              "      <td>0.0262</td>\n",
              "      <td>0.1883</td>\n",
              "      <td>0.1512</td>\n",
              "      <td>0.2120</td>\n",
              "      <td>0.0973</td>\n",
              "      <td>0.0516</td>\n",
              "      <td>0.2361</td>\n",
              "      <td>0.0794</td>\n",
              "      <td>0.2343</td>\n",
              "      <td>0.0422</td>\n",
              "      <td>0.2233</td>\n",
              "      <td>0.0298</td>\n",
              "      <td>1</td>\n",
              "    </tr>\n",
              "  </tbody>\n",
              "</table>\n",
              "</div>\n",
              "      <button class=\"colab-df-convert\" onclick=\"convertToInteractive('df-9b2344c7-fe3b-4fc0-b5af-81290950d42c')\"\n",
              "              title=\"Convert this dataframe to an interactive table.\"\n",
              "              style=\"display:none;\">\n",
              "        \n",
              "  <svg xmlns=\"http://www.w3.org/2000/svg\" height=\"24px\"viewBox=\"0 0 24 24\"\n",
              "       width=\"24px\">\n",
              "    <path d=\"M0 0h24v24H0V0z\" fill=\"none\"/>\n",
              "    <path d=\"M18.56 5.44l.94 2.06.94-2.06 2.06-.94-2.06-.94-.94-2.06-.94 2.06-2.06.94zm-11 1L8.5 8.5l.94-2.06 2.06-.94-2.06-.94L8.5 2.5l-.94 2.06-2.06.94zm10 10l.94 2.06.94-2.06 2.06-.94-2.06-.94-.94-2.06-.94 2.06-2.06.94z\"/><path d=\"M17.41 7.96l-1.37-1.37c-.4-.4-.92-.59-1.43-.59-.52 0-1.04.2-1.43.59L10.3 9.45l-7.72 7.72c-.78.78-.78 2.05 0 2.83L4 21.41c.39.39.9.59 1.41.59.51 0 1.02-.2 1.41-.59l7.78-7.78 2.81-2.81c.8-.78.8-2.07 0-2.86zM5.41 20L4 18.59l7.72-7.72 1.47 1.35L5.41 20z\"/>\n",
              "  </svg>\n",
              "      </button>\n",
              "      \n",
              "  <style>\n",
              "    .colab-df-container {\n",
              "      display:flex;\n",
              "      flex-wrap:wrap;\n",
              "      gap: 12px;\n",
              "    }\n",
              "\n",
              "    .colab-df-convert {\n",
              "      background-color: #E8F0FE;\n",
              "      border: none;\n",
              "      border-radius: 50%;\n",
              "      cursor: pointer;\n",
              "      display: none;\n",
              "      fill: #1967D2;\n",
              "      height: 32px;\n",
              "      padding: 0 0 0 0;\n",
              "      width: 32px;\n",
              "    }\n",
              "\n",
              "    .colab-df-convert:hover {\n",
              "      background-color: #E2EBFA;\n",
              "      box-shadow: 0px 1px 2px rgba(60, 64, 67, 0.3), 0px 1px 3px 1px rgba(60, 64, 67, 0.15);\n",
              "      fill: #174EA6;\n",
              "    }\n",
              "\n",
              "    [theme=dark] .colab-df-convert {\n",
              "      background-color: #3B4455;\n",
              "      fill: #D2E3FC;\n",
              "    }\n",
              "\n",
              "    [theme=dark] .colab-df-convert:hover {\n",
              "      background-color: #434B5C;\n",
              "      box-shadow: 0px 1px 3px 1px rgba(0, 0, 0, 0.15);\n",
              "      filter: drop-shadow(0px 1px 2px rgba(0, 0, 0, 0.3));\n",
              "      fill: #FFFFFF;\n",
              "    }\n",
              "  </style>\n",
              "\n",
              "      <script>\n",
              "        const buttonEl =\n",
              "          document.querySelector('#df-9b2344c7-fe3b-4fc0-b5af-81290950d42c button.colab-df-convert');\n",
              "        buttonEl.style.display =\n",
              "          google.colab.kernel.accessAllowed ? 'block' : 'none';\n",
              "\n",
              "        async function convertToInteractive(key) {\n",
              "          const element = document.querySelector('#df-9b2344c7-fe3b-4fc0-b5af-81290950d42c');\n",
              "          const dataTable =\n",
              "            await google.colab.kernel.invokeFunction('convertToInteractive',\n",
              "                                                     [key], {});\n",
              "          if (!dataTable) return;\n",
              "\n",
              "          const docLinkHtml = 'Like what you see? Visit the ' +\n",
              "            '<a target=\"_blank\" href=https://colab.research.google.com/notebooks/data_table.ipynb>data table notebook</a>'\n",
              "            + ' to learn more about interactive tables.';\n",
              "          element.innerHTML = '';\n",
              "          dataTable['output_type'] = 'display_data';\n",
              "          await google.colab.output.renderOutput(dataTable, element);\n",
              "          const docLink = document.createElement('div');\n",
              "          docLink.innerHTML = docLinkHtml;\n",
              "          element.appendChild(docLink);\n",
              "        }\n",
              "      </script>\n",
              "    </div>\n",
              "  </div>\n",
              "  "
            ]
          },
          "metadata": {},
          "execution_count": 7
        }
      ]
    },
    {
      "cell_type": "markdown",
      "source": [
        "# Split data"
      ],
      "metadata": {
        "id": "uyh6C78Pw2Xh"
      }
    },
    {
      "cell_type": "code",
      "source": [
        "#Set x and y\n",
        "y = sample['Class']\n",
        "X = sample.drop('Class', axis = 1)\n",
        "\n",
        "#Split data into training and test sets\n",
        "X_train, X_test, y_train, y_test = train_test_split(X, y, test_size=0.3, random_state = 42)"
      ],
      "metadata": {
        "id": "8KMcPWxew4V8"
      },
      "execution_count": 8,
      "outputs": []
    },
    {
      "cell_type": "code",
      "source": [
        "#check shape\n",
        "X_train.shape, y_train.shape"
      ],
      "metadata": {
        "colab": {
          "base_uri": "https://localhost:8080/"
        },
        "id": "L38KHzA3_TgT",
        "outputId": "0eeb40c3-9a5b-4dbc-a51b-d846beafdbc8"
      },
      "execution_count": 9,
      "outputs": [
        {
          "output_type": "execute_result",
          "data": {
            "text/plain": [
              "((262500, 12), (262500,))"
            ]
          },
          "metadata": {},
          "execution_count": 9
        }
      ]
    },
    {
      "cell_type": "markdown",
      "source": [
        "# Create Pipelines"
      ],
      "metadata": {
        "id": "iVs8rFmNqJgp"
      }
    },
    {
      "cell_type": "code",
      "source": [
        "#Functions for Pipeline\n",
        "def add_layers(df):\n",
        "  \"\"\"\n",
        "  This function takes in a dataframe and calculates the NDVI, Moisture Index, NDWI and NDSI\n",
        "  Outputs = dataframe with added layer columns \n",
        "  \"\"\"\n",
        "  #Create NDVI column (B08-B04)/(B08+B04)\n",
        "  df['NDVI'] = (df.B08 - df.B04)/(df.B08 + df.B04)\n",
        "  #Create Moisture index (B8A-B11)/(B8A+B11)\n",
        "  df['Moisture'] = (df.B8A - df.B11)/(df.B8A + df.B11)\n",
        "  #Create NDWI (B3-B8)/(B3+B8)\n",
        "  df['NDWI'] = (df.B03 - df.B08)/(df.B03 + df.B08)\n",
        "  #create NDSI (B3-B11)/(B3+B11)\n",
        "  df['NDSI'] = (df.B03 - df.B11)/(df.B03 + df.B11)\n",
        "\n",
        "  return df\n",
        "\n",
        "def replace_values(df):\n",
        "  \"\"\"\n",
        "  This function replaces the infinity values with Nan then replaces that with new infinity values\n",
        "  \"\"\"\n",
        "  #Replace infinity values with Nan\n",
        "  df.replace([np.inf, -np.inf], np.NAN, inplace=True)\n",
        "\n",
        "  #Fill in null values\n",
        "  df.fillna(999, inplace=True)\n",
        "\n",
        "  return df\n",
        "\n",
        "\n",
        "#Define object transformer class\n",
        "class objectTransformer:\n",
        "    \"\"\"\n",
        "    Class object transformer, takes in function to apply in preprocessing step of Pipeline\n",
        "    \"\"\"\n",
        "    def __init__(self, func):\n",
        "        self.func = func\n",
        "        \n",
        "    def fit(self, X, y=None, **fit_params):\n",
        "        return self\n",
        "    \n",
        "    def transform(self, X, **fit_params):\n",
        "        return self.func(X)"
      ],
      "metadata": {
        "id": "0RsWyU48mqy2"
      },
      "execution_count": 10,
      "outputs": []
    },
    {
      "cell_type": "markdown",
      "source": [
        "## Test PCA and Feature Union"
      ],
      "metadata": {
        "id": "AY-uZ7ylv_FR"
      }
    },
    {
      "cell_type": "code",
      "source": [
        "#Create Pre-Processing Pipeline\n",
        "preprocess = Pipeline([(\"add_layers\", objectTransformer(add_layers)),\n",
        "                       (\"replace_values\", objectTransformer(replace_values))])\n",
        "\n",
        "#Create Feature Union\n",
        "feature_union = FeatureUnion([(\"PCA\", PCA(n_components=6)),\n",
        "                              (\"kKBest\", SelectKBest(k=2))])\n"
      ],
      "metadata": {
        "id": "QHCIIo7enl5R"
      },
      "execution_count": 11,
      "outputs": []
    },
    {
      "cell_type": "code",
      "source": [
        "#Define pipelines\n",
        "model_1 = Pipeline([('preprocessing', preprocess),\n",
        "                    ('RFC', RandomForestClassifier(random_state = 123))])\n",
        "\n",
        "model_2 = Pipeline([('preprocessing', preprocess),\n",
        "                    ('features', feature_union),\n",
        "                    ('RFC', RandomForestClassifier(random_state = 123))])\n",
        "\n",
        "model_3 = Pipeline([('preprocessing', preprocess),\n",
        "                    ('pca', PCA(n_components=6)),\n",
        "                    ('RFC', RandomForestClassifier(random_state = 123))])"
      ],
      "metadata": {
        "id": "rGMhuMOAobAE"
      },
      "execution_count": null,
      "outputs": []
    },
    {
      "cell_type": "code",
      "source": [
        "#fit pipes to check which is best\n",
        "pipes = [model_1, model_2, model_3]\n",
        "\n",
        "for pipe in pipes:\n",
        "  pipe.fit(X_train, y_train)\n",
        "\n",
        "#compare accuracies \n",
        "#make dictionary\n",
        "pipe_dict = {0: 'No Feature Union', 1: 'With Feature Union', 2: 'Only PCA'}\n",
        "\n",
        "#create for loop to find scores\n",
        "for i, model in enumerate(pipes):\n",
        "    print('{} Test Accuracy: {}'.format(pipe_dict[i], model.score(X_test, y_test)))"
      ],
      "metadata": {
        "colab": {
          "base_uri": "https://localhost:8080/"
        },
        "id": "0X_2TQXWynva",
        "outputId": "c2e3a55c-af6d-4592-8917-33b81e1b9ab7"
      },
      "execution_count": null,
      "outputs": [
        {
          "output_type": "stream",
          "name": "stdout",
          "text": [
            "No Feature Union Test Accuracy: 0.6150577777777778\n",
            "With Feature Union Test Accuracy: 0.5676888888888889\n",
            "Only PCA Test Accuracy: 0.5371822222222222\n"
          ]
        }
      ]
    },
    {
      "cell_type": "markdown",
      "source": [
        "## Compare SVC, Random Forest, XGBoost"
      ],
      "metadata": {
        "id": "uqrNuEPiwEn1"
      }
    },
    {
      "cell_type": "code",
      "source": [
        "#Compare three model types\n",
        "svc_pipe = Pipeline([('preprocessing', preprocess),\n",
        "                    ('SVC', SVC(random_state = 123))])\n",
        "\n",
        "knn_pipe = Pipeline([('preprocessing', preprocess),\n",
        "                    ('KNN', KNeighborsClassifier())])\n",
        "\n",
        "rfc_pipe = Pipeline([('preprocessing', preprocess),\n",
        "                    ('RFC', RandomForestClassifier(random_state = 123))])\n",
        "\n",
        "xgb_pipe = Pipeline([('preprocessing', preprocess),\n",
        "                    ('XGB', XGBClassifier(random_state = 123))])\n",
        "\n",
        "gbc_pipe = Pipeline([('preprocessing', preprocess),\n",
        "                    ('GB', GradientBoostingClassifier(random_state = 123))])"
      ],
      "metadata": {
        "id": "jZASfAAwsZyL"
      },
      "execution_count": 13,
      "outputs": []
    },
    {
      "cell_type": "code",
      "source": [
        "#fit pipes to check which is best\n",
        "pipes = [svc_pipe, knn_pipe, rfc_pipe, xgb_pipe, gbc_pipe]\n",
        "\n",
        "for pipe in pipes:\n",
        "  pipe.fit(X_train, y_train)\n",
        "\n",
        "#compare accuracies \n",
        "#make dictionary\n",
        "pipe_dict = {0: 'SVC', 1: 'KNN', 2: 'Random Forest', 3: 'XGBoost', 4:'GradientBoost'}\n",
        "\n",
        "#create for loop to find scores\n",
        "for i, model in enumerate(pipes):\n",
        "    print('{} Test Accuracy: {}'.format(pipe_dict[i], model.score(X_test, y_test)))"
      ],
      "metadata": {
        "colab": {
          "base_uri": "https://localhost:8080/"
        },
        "id": "QQCNRxdMsyP_",
        "outputId": "9386588a-9b7d-40dc-fa97-ea1a4d0cb455"
      },
      "execution_count": 14,
      "outputs": [
        {
          "output_type": "stream",
          "name": "stdout",
          "text": [
            "SVC Test Accuracy: 0.39123555555555556\n",
            "KNN Test Accuracy: 0.5426755555555556\n",
            "Random Forest Test Accuracy: 0.6166755555555555\n",
            "XGBoost Test Accuracy: 0.5533155555555556\n",
            "GradientBoost Test Accuracy: 0.5793244444444444\n"
          ]
        }
      ]
    },
    {
      "cell_type": "code",
      "source": [
        "#create for loop to find balanced accuracy scores\n",
        "for i, model in enumerate(pipes):\n",
        "  y_pred = model.predict(X_test)\n",
        "  print('{} Test Accuracy: {}'.format(pipe_dict[i], balanced_accuracy_score(y_test, y_pred)))"
      ],
      "metadata": {
        "id": "X_JeY_FoqmKM"
      },
      "execution_count": null,
      "outputs": []
    },
    {
      "cell_type": "markdown",
      "source": [
        "## Test scalers"
      ],
      "metadata": {
        "id": "L6-lZVnBkZbi"
      }
    },
    {
      "cell_type": "code",
      "source": [
        "#Define pipelines\n",
        "stand = Pipeline([('preprocessing', preprocess),\n",
        "                     ('scale', StandardScaler()),\n",
        "                    ('RFC', RandomForestClassifier(random_state = 123))])\n",
        "\n",
        "minmax = Pipeline([('preprocessing', preprocess),\n",
        "                     ('scale', MinMaxScaler()),\n",
        "                    ('RFC', RandomForestClassifier(random_state = 123))])\n",
        "\n",
        "maxab = Pipeline([('preprocessing', preprocess),\n",
        "                     ('scale', MaxAbsScaler()),\n",
        "                    ('RFC', RandomForestClassifier(random_state = 123))])\n",
        "\n",
        "robust = Pipeline([('preprocessing', preprocess),\n",
        "                     ('scale', RobustScaler()),\n",
        "                    ('RFC', RandomForestClassifier(random_state = 123))])"
      ],
      "metadata": {
        "id": "ERD0UQLnkjeX"
      },
      "execution_count": 12,
      "outputs": []
    },
    {
      "cell_type": "code",
      "source": [
        "#fit pipes to check which is best\n",
        "pipes = [stand, minmax, maxab, robust]\n",
        "\n",
        "for pipe in pipes:\n",
        "  pipe.fit(X_train, y_train)\n",
        "\n",
        "#compare accuracies \n",
        "#make dictionary\n",
        "pipe_dict = {0: 'StandardScaler', 1: 'MinMaxScaler', 2: 'MaxAbsScaler', 3: 'RobustScaler'}\n",
        "\n",
        "#create for loop to find scores\n",
        "for i, model in enumerate(pipes):\n",
        "    print('{} Test Accuracy: {}'.format(pipe_dict[i], model.score(X_test, y_test)))"
      ],
      "metadata": {
        "colab": {
          "base_uri": "https://localhost:8080/"
        },
        "id": "ZyXttkxekjUC",
        "outputId": "520565b0-7be1-46f5-de6d-a78c8745ad32"
      },
      "execution_count": 13,
      "outputs": [
        {
          "output_type": "stream",
          "name": "stdout",
          "text": [
            "StandardScaler Test Accuracy: 0.6147822222222222\n",
            "MinMaxScaler Test Accuracy: 0.6136177777777778\n",
            "MaxAbsScaler Test Accuracy: 0.6133955555555556\n",
            "RobustScaler Test Accuracy: 0.6144\n"
          ]
        }
      ]
    },
    {
      "cell_type": "markdown",
      "source": [
        "## Pickle base random forest for trial on AISC data"
      ],
      "metadata": {
        "id": "CjNfsfY-_ZRN"
      }
    },
    {
      "cell_type": "code",
      "source": [
        "#Instantiate pipeline\n",
        "rfc = Pipeline([('RFC', RandomForestClassifier(random_state = 123))])\n",
        "\n",
        "#Fit model\n",
        "rfc.fit(X_train, y_train)\n",
        "\n",
        "#Double check accuracy\n",
        "rfc.score(X_test, y_test)"
      ],
      "metadata": {
        "id": "zL8il7wfOSjy",
        "outputId": "f62fe48c-93f9-45b4-eb59-d58f1342ad09",
        "colab": {
          "base_uri": "https://localhost:8080/"
        }
      },
      "execution_count": null,
      "outputs": [
        {
          "output_type": "execute_result",
          "data": {
            "text/plain": [
              "0.6176711111111111"
            ]
          },
          "metadata": {},
          "execution_count": 12
        }
      ]
    },
    {
      "cell_type": "code",
      "source": [
        "#Save as pickle file\n",
        "pickle.dump(rfc, open('/content/drive/MyDrive/classifier.pickle', 'wb'))"
      ],
      "metadata": {
        "id": "wLXvar88ad5_"
      },
      "execution_count": null,
      "outputs": []
    },
    {
      "cell_type": "code",
      "source": [
        "#Load pickle\n",
        "with open('/content/drive/MyDrive/classifier.pickle', 'rb') as f:\n",
        "  classifier = pickle.load(f)\n",
        "\n",
        "classifier.score(X_test, y_test)"
      ],
      "metadata": {
        "id": "Xv6qAsnCafgB",
        "outputId": "66af5d98-21eb-4bd3-9b03-73c4b5fc908f",
        "colab": {
          "base_uri": "https://localhost:8080/"
        }
      },
      "execution_count": null,
      "outputs": [
        {
          "output_type": "execute_result",
          "data": {
            "text/plain": [
              "0.6176711111111111"
            ]
          },
          "metadata": {},
          "execution_count": 14
        }
      ]
    },
    {
      "cell_type": "code",
      "source": [
        "#Instantiate pipeline\n",
        "rfc_model = Pipeline([('preprocessing', preprocess),\n",
        "                    ('RFC', RandomForestClassifier(random_state = 123))])\n",
        "\n",
        "#Fit model\n",
        "rfc_model.fit(X_train, y_train)\n",
        "\n",
        "#Double check accuracy\n",
        "rfc_model.score(X_test, y_test)"
      ],
      "metadata": {
        "colab": {
          "base_uri": "https://localhost:8080/"
        },
        "id": "Il44zrhv_gWv",
        "outputId": "6fca95c4-0317-44ea-be13-cee62ae76981"
      },
      "execution_count": null,
      "outputs": [
        {
          "output_type": "execute_result",
          "data": {
            "text/plain": [
              "0.6150844444444444"
            ]
          },
          "metadata": {},
          "execution_count": 17
        }
      ]
    },
    {
      "cell_type": "code",
      "source": [
        "#Save as pickle file\n",
        "pickle.dump(rfc_model, open('/content/drive/MyDrive/model.pickle', 'wb'))"
      ],
      "metadata": {
        "id": "-6l8ZiwNCLM1"
      },
      "execution_count": null,
      "outputs": []
    },
    {
      "cell_type": "code",
      "source": [
        "#Load pickle\n",
        "with open('/content/drive/MyDrive/model.pickle', 'rb') as p:\n",
        "  model = pickle.load(p)\n",
        "\n",
        "model.score(X_test, y_test)"
      ],
      "metadata": {
        "colab": {
          "base_uri": "https://localhost:8080/"
        },
        "id": "EijTvKV7C3Rb",
        "outputId": "ad4efb1e-d9d1-44ad-d6de-fb5f9c6ba44a"
      },
      "execution_count": null,
      "outputs": [
        {
          "output_type": "execute_result",
          "data": {
            "text/plain": [
              "0.6150844444444444"
            ]
          },
          "metadata": {},
          "execution_count": 19
        }
      ]
    },
    {
      "cell_type": "code",
      "source": [
        ""
      ],
      "metadata": {
        "id": "M70eoyK3DUhp"
      },
      "execution_count": null,
      "outputs": []
    }
  ]
}