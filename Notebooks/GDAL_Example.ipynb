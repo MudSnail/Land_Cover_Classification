{
 "cells": [
  {
   "cell_type": "code",
   "execution_count": null,
   "metadata": {},
   "outputs": [],
   "source": [
    "#Load Libraries\n",
    "\n",
    "#import\n",
    "import numpy as np\n",
    "import pandas as pd\n",
    "\n",
    "#system packages\n",
    "import os\n",
    "\n",
    "#loading images\n",
    "from osgeo.gdalconst import *\n",
    "from osgeo import gdal\n",
    "from affine import Affine\n",
    "\n",
    "from skimage import feature"
   ]
  },
  {
   "cell_type": "markdown",
   "metadata": {},
   "source": [
    "## Custom Function"
   ]
  },
  {
   "cell_type": "code",
   "execution_count": null,
   "metadata": {},
   "outputs": [],
   "source": [
    "#Turn raws into dataframe from directory path using gdal\n",
    "def gdal_to_dataframe(dir_path, nrcan_name = 'NRCAN_transformed.tif', index = [-14, -11], calculate_edge = None, sigma = 3):\n",
    "    \"\"\"\n",
    "    Use gdal to create a labelled dataframe of Sentinal-2 band values from a folder of raw band geotiffs using land cover\n",
    "    classification from NRCAN. NRCAN extent must be in directory above raw directory. It should be processed using GIS to be \n",
    "    the same width, height, projection and resolution as clipped raws extents.\n",
    "    INPUT\n",
    "    -----\n",
    "    `dir_path`: string with path to the raw files directory\n",
    "    `nrcan_name`: file name of the accompanying nrcan classification extent. File must be in directory above raw directory\n",
    "    `index`: Index within raw band file names where the band name is found. For files downloaded directly from EO browser\n",
    "    without being renamed this will be [-14, -11], hence it is the default\n",
    "    `calculate_edge`: Intakes the string of a raw band name on which to perform sklearn canny edge detection.\n",
    "    Returns the feature edge. Default set to None where it will not add this feature.\n",
    "    `sigma`: Modifier for the canny edge detection. If edge detection is performed sigma is for canny is inputted sigma.\n",
    "    Defaults to 3\n",
    "    \n",
    "    OUTPUT\n",
    "    ------\n",
    "    Pandas DataFrame containing a column for each raw band within input directory. \n",
    "    If calculate_edge is not None dataframe includes column 'edge'\n",
    "    \"\"\"\n",
    "    \n",
    "    raw_names = list(os.listdir(dir_path))\n",
    "    \n",
    "    raw_df = pd.DataFrame()\n",
    "    \n",
    "    for i in raw_names:\n",
    "        raw_img = gdal.Open(os.path.join(dir_path, i))\n",
    "        raw_array = np.array(raw_img.ReadAsArray())\n",
    "        band = i[index[0]:index[1]]\n",
    "        raw_df[band] = raw_array.flatten()\n",
    "        \n",
    "        #if calculate edge is equal to band name, take that band image and get canny edge\n",
    "        if calculate_edge == band:\n",
    "            print('getting edge')\n",
    "            edge = feature.canny(raw_array, sigma = sigma)\n",
    "            edge = edge.astype(int)\n",
    "    \n",
    "    try:\n",
    "        raw_df['edge'] = edge.flatten()\n",
    "        raw_df['edge'] = raw_df['edge'].astype('int')\n",
    "    except:\n",
    "        pass\n",
    "    \n",
    "    nrcan = gdal.Open(os.path.join(dir_path, '..', nrcan_name))\n",
    "    nrcan_array = np.array(nrcan.ReadAsArray())\n",
    "    \n",
    "    raw_df['y'] = nrcan_array.flatten()\n",
    "    \n",
    "    return raw_df"
   ]
  },
  {
   "cell_type": "markdown",
   "metadata": {},
   "source": [
    "## Download Data"
   ]
  },
  {
   "cell_type": "code",
   "execution_count": null,
   "metadata": {},
   "outputs": [],
   "source": [
    "#load raws into dataframe\n",
    "\n",
    "#Choose band to generate canny edge from, select None to skip edge generation\n",
    "target_edge = 'B8A'\n",
    "\n",
    "#defines canny edge sigma\n",
    "sigma = 3\n",
    "\n",
    "#run for all possible extents\n",
    "sim_raws = gdal_to_dataframe('../data_tests/simcoe_york/raws', nrcan_name = 'Simcoe_York_2019.tif', calculate_edge = target_edge, sigma = sigma)\n",
    "lab_raws = gdal_to_dataframe('../data_tests/labrador/raws', sigma = sigma)\n",
    "james_raws = gdal_to_dataframe('../data_tests/james_bay/raws', nrcan_name = 'James_Bay_Med.tif', calculate_edge = target_edge, sigma = sigma)\n",
    "tor_raws = gdal_to_dataframe('../data_tests/toronto/raws', calculate_edge = target_edge, sigma = sigma)\n",
    "sjames_raws = gdal_to_dataframe('../data_tests/james_south/raws', calculate_edge = target_edge, sigma = sigma)\n",
    "cal_raws = gdal_to_dataframe('../data_tests/calgary/raws', calculate_edge = target_edge, sigma = sigma)\n",
    "trois_raws = gdal_to_dataframe('../data_tests/trois/raws', calculate_edge = target_edge, sigma = sigma)\n",
    "winn_raws = gdal_to_dataframe('../data_tests/winnipeg/raws', calculate_edge = target_edge, sigma = sigma)\n",
    "sask_raws = gdal_to_dataframe('../data_tests/sasketchewan/raws', calculate_edge = target_edge, sigma = sigma)\n",
    "newf_raws = gdal_to_dataframe('../data_tests/newfoundland/raws', calculate_edge = target_edge, sigma = sigma)"
   ]
  }
 ],
 "metadata": {
  "kernelspec": {
   "display_name": "Python 3.10.1 64-bit",
   "language": "python",
   "name": "python3"
  },
  "language_info": {
   "name": "python",
   "version": "3.10.1"
  },
  "orig_nbformat": 4,
  "vscode": {
   "interpreter": {
    "hash": "aee8b7b246df8f9039afb4144a1f6fd8d2ca17a180786b69acc140d282b71a49"
   }
  }
 },
 "nbformat": 4,
 "nbformat_minor": 2
}
