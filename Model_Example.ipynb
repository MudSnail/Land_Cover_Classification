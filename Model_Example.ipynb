{
  "nbformat": 4,
  "nbformat_minor": 0,
  "metadata": {
    "colab": {
      "name": "Untitled2.ipynb",
      "provenance": [],
      "collapsed_sections": [],
      "machine_shape": "hm",
      "authorship_tag": "ABX9TyMSIxCBBq9bW7sk7IDEK2e1",
      "include_colab_link": true
    },
    "kernelspec": {
      "name": "python3",
      "display_name": "Python 3"
    },
    "language_info": {
      "name": "python"
    }
  },
  "cells": [
    {
      "cell_type": "markdown",
      "metadata": {
        "id": "view-in-github",
        "colab_type": "text"
      },
      "source": [
        "<a href=\"https://colab.research.google.com/github/MudSnail/Land_Cover_Classification/blob/main/Model_Example.ipynb\" target=\"_parent\"><img src=\"https://colab.research.google.com/assets/colab-badge.svg\" alt=\"Open In Colab\"/></a>"
      ]
    },
    {
      "cell_type": "code",
      "source": [
        "#Increase RAM size \n",
        "a = []\n",
        "while(1):\n",
        "  a.append('1')"
      ],
      "metadata": {
        "id": "YBaFJg_fyFD2"
      },
      "execution_count": null,
      "outputs": []
    },
    {
      "cell_type": "code",
      "execution_count": 41,
      "metadata": {
        "colab": {
          "base_uri": "https://localhost:8080/"
        },
        "id": "xtUtdbAgpWgZ",
        "outputId": "6afbbebb-4454-413b-e56e-99028fb847ba"
      },
      "outputs": [
        {
          "output_type": "stream",
          "name": "stdout",
          "text": [
            "Drive already mounted at /content/drive; to attempt to forcibly remount, call drive.mount(\"/content/drive\", force_remount=True).\n"
          ]
        }
      ],
      "source": [
        "#Mount to Drive\n",
        "from google.colab import drive\n",
        "drive.mount('/content/drive')\n",
        "\n",
        "#Import Pandas and Numpy\n",
        "import pandas as pd\n",
        "import numpy as np\n",
        "\n",
        "#Import Sklearn\n",
        "from sklearn.preprocessing import StandardScaler\n",
        "from sklearn.model_selection import train_test_split\n",
        "from sklearn.ensemble import RandomForestClassifier\n",
        "from sklearn.metrics import accuracy_score, classification_report, confusion_matrix, f1_score, roc_auc_score, precision_score, recall_score\n",
        "\n",
        "#Visualizations\n",
        "import matplotlib.pyplot as plt\n",
        "import seaborn as sns\n",
        "\n",
        "#misc\n",
        "import copy\n",
        "import warnings\n",
        "warnings.filterwarnings('ignore')"
      ]
    },
    {
      "cell_type": "code",
      "source": [
        "#Load Data\n",
        "data = pd.read_csv('/content/drive/MyDrive/james_bay_data.csv')\n",
        "data.head()"
      ],
      "metadata": {
        "colab": {
          "base_uri": "https://localhost:8080/",
          "height": 204
        },
        "id": "NXO0fcicqBqS",
        "outputId": "261fba64-8c0f-40bb-ac03-2dfa32d4ddc1"
      },
      "execution_count": 66,
      "outputs": [
        {
          "output_type": "execute_result",
          "data": {
            "text/plain": [
              "      B01     B06     B11     B07     B05     B03     B09     B12     B8A  \\\n",
              "0  0.0055  0.0017  0.0009  0.0016  0.0026  0.0056  0.0001  0.0009  0.0003   \n",
              "1  0.0054  0.0020  0.0009  0.0017  0.0021  0.0060  0.0001  0.0005  0.0007   \n",
              "2  0.0058  0.0018  0.0007  0.0016  0.0028  0.0060  0.0001  0.0008  0.0007   \n",
              "3  0.0057  0.0016  0.0007  0.0016  0.0023  0.0058  0.0001  0.0012  0.0006   \n",
              "4  0.0066  0.0013  0.0008  0.0020  0.0029  0.0059  0.0001  0.0008  0.0005   \n",
              "\n",
              "      B04     B08     B02  Class  \n",
              "0  0.0032  0.0012  0.0114      0  \n",
              "1  0.0028  0.0014  0.0115      0  \n",
              "2  0.0030  0.0012  0.0124      0  \n",
              "3  0.0031  0.0011  0.0119      0  \n",
              "4  0.0030  0.0014  0.0115      0  "
            ],
            "text/html": [
              "\n",
              "  <div id=\"df-1b34b02d-e44e-4157-bae5-269eb3be73e9\">\n",
              "    <div class=\"colab-df-container\">\n",
              "      <div>\n",
              "<style scoped>\n",
              "    .dataframe tbody tr th:only-of-type {\n",
              "        vertical-align: middle;\n",
              "    }\n",
              "\n",
              "    .dataframe tbody tr th {\n",
              "        vertical-align: top;\n",
              "    }\n",
              "\n",
              "    .dataframe thead th {\n",
              "        text-align: right;\n",
              "    }\n",
              "</style>\n",
              "<table border=\"1\" class=\"dataframe\">\n",
              "  <thead>\n",
              "    <tr style=\"text-align: right;\">\n",
              "      <th></th>\n",
              "      <th>B01</th>\n",
              "      <th>B06</th>\n",
              "      <th>B11</th>\n",
              "      <th>B07</th>\n",
              "      <th>B05</th>\n",
              "      <th>B03</th>\n",
              "      <th>B09</th>\n",
              "      <th>B12</th>\n",
              "      <th>B8A</th>\n",
              "      <th>B04</th>\n",
              "      <th>B08</th>\n",
              "      <th>B02</th>\n",
              "      <th>Class</th>\n",
              "    </tr>\n",
              "  </thead>\n",
              "  <tbody>\n",
              "    <tr>\n",
              "      <th>0</th>\n",
              "      <td>0.0055</td>\n",
              "      <td>0.0017</td>\n",
              "      <td>0.0009</td>\n",
              "      <td>0.0016</td>\n",
              "      <td>0.0026</td>\n",
              "      <td>0.0056</td>\n",
              "      <td>0.0001</td>\n",
              "      <td>0.0009</td>\n",
              "      <td>0.0003</td>\n",
              "      <td>0.0032</td>\n",
              "      <td>0.0012</td>\n",
              "      <td>0.0114</td>\n",
              "      <td>0</td>\n",
              "    </tr>\n",
              "    <tr>\n",
              "      <th>1</th>\n",
              "      <td>0.0054</td>\n",
              "      <td>0.0020</td>\n",
              "      <td>0.0009</td>\n",
              "      <td>0.0017</td>\n",
              "      <td>0.0021</td>\n",
              "      <td>0.0060</td>\n",
              "      <td>0.0001</td>\n",
              "      <td>0.0005</td>\n",
              "      <td>0.0007</td>\n",
              "      <td>0.0028</td>\n",
              "      <td>0.0014</td>\n",
              "      <td>0.0115</td>\n",
              "      <td>0</td>\n",
              "    </tr>\n",
              "    <tr>\n",
              "      <th>2</th>\n",
              "      <td>0.0058</td>\n",
              "      <td>0.0018</td>\n",
              "      <td>0.0007</td>\n",
              "      <td>0.0016</td>\n",
              "      <td>0.0028</td>\n",
              "      <td>0.0060</td>\n",
              "      <td>0.0001</td>\n",
              "      <td>0.0008</td>\n",
              "      <td>0.0007</td>\n",
              "      <td>0.0030</td>\n",
              "      <td>0.0012</td>\n",
              "      <td>0.0124</td>\n",
              "      <td>0</td>\n",
              "    </tr>\n",
              "    <tr>\n",
              "      <th>3</th>\n",
              "      <td>0.0057</td>\n",
              "      <td>0.0016</td>\n",
              "      <td>0.0007</td>\n",
              "      <td>0.0016</td>\n",
              "      <td>0.0023</td>\n",
              "      <td>0.0058</td>\n",
              "      <td>0.0001</td>\n",
              "      <td>0.0012</td>\n",
              "      <td>0.0006</td>\n",
              "      <td>0.0031</td>\n",
              "      <td>0.0011</td>\n",
              "      <td>0.0119</td>\n",
              "      <td>0</td>\n",
              "    </tr>\n",
              "    <tr>\n",
              "      <th>4</th>\n",
              "      <td>0.0066</td>\n",
              "      <td>0.0013</td>\n",
              "      <td>0.0008</td>\n",
              "      <td>0.0020</td>\n",
              "      <td>0.0029</td>\n",
              "      <td>0.0059</td>\n",
              "      <td>0.0001</td>\n",
              "      <td>0.0008</td>\n",
              "      <td>0.0005</td>\n",
              "      <td>0.0030</td>\n",
              "      <td>0.0014</td>\n",
              "      <td>0.0115</td>\n",
              "      <td>0</td>\n",
              "    </tr>\n",
              "  </tbody>\n",
              "</table>\n",
              "</div>\n",
              "      <button class=\"colab-df-convert\" onclick=\"convertToInteractive('df-1b34b02d-e44e-4157-bae5-269eb3be73e9')\"\n",
              "              title=\"Convert this dataframe to an interactive table.\"\n",
              "              style=\"display:none;\">\n",
              "        \n",
              "  <svg xmlns=\"http://www.w3.org/2000/svg\" height=\"24px\"viewBox=\"0 0 24 24\"\n",
              "       width=\"24px\">\n",
              "    <path d=\"M0 0h24v24H0V0z\" fill=\"none\"/>\n",
              "    <path d=\"M18.56 5.44l.94 2.06.94-2.06 2.06-.94-2.06-.94-.94-2.06-.94 2.06-2.06.94zm-11 1L8.5 8.5l.94-2.06 2.06-.94-2.06-.94L8.5 2.5l-.94 2.06-2.06.94zm10 10l.94 2.06.94-2.06 2.06-.94-2.06-.94-.94-2.06-.94 2.06-2.06.94z\"/><path d=\"M17.41 7.96l-1.37-1.37c-.4-.4-.92-.59-1.43-.59-.52 0-1.04.2-1.43.59L10.3 9.45l-7.72 7.72c-.78.78-.78 2.05 0 2.83L4 21.41c.39.39.9.59 1.41.59.51 0 1.02-.2 1.41-.59l7.78-7.78 2.81-2.81c.8-.78.8-2.07 0-2.86zM5.41 20L4 18.59l7.72-7.72 1.47 1.35L5.41 20z\"/>\n",
              "  </svg>\n",
              "      </button>\n",
              "      \n",
              "  <style>\n",
              "    .colab-df-container {\n",
              "      display:flex;\n",
              "      flex-wrap:wrap;\n",
              "      gap: 12px;\n",
              "    }\n",
              "\n",
              "    .colab-df-convert {\n",
              "      background-color: #E8F0FE;\n",
              "      border: none;\n",
              "      border-radius: 50%;\n",
              "      cursor: pointer;\n",
              "      display: none;\n",
              "      fill: #1967D2;\n",
              "      height: 32px;\n",
              "      padding: 0 0 0 0;\n",
              "      width: 32px;\n",
              "    }\n",
              "\n",
              "    .colab-df-convert:hover {\n",
              "      background-color: #E2EBFA;\n",
              "      box-shadow: 0px 1px 2px rgba(60, 64, 67, 0.3), 0px 1px 3px 1px rgba(60, 64, 67, 0.15);\n",
              "      fill: #174EA6;\n",
              "    }\n",
              "\n",
              "    [theme=dark] .colab-df-convert {\n",
              "      background-color: #3B4455;\n",
              "      fill: #D2E3FC;\n",
              "    }\n",
              "\n",
              "    [theme=dark] .colab-df-convert:hover {\n",
              "      background-color: #434B5C;\n",
              "      box-shadow: 0px 1px 3px 1px rgba(0, 0, 0, 0.15);\n",
              "      filter: drop-shadow(0px 1px 2px rgba(0, 0, 0, 0.3));\n",
              "      fill: #FFFFFF;\n",
              "    }\n",
              "  </style>\n",
              "\n",
              "      <script>\n",
              "        const buttonEl =\n",
              "          document.querySelector('#df-1b34b02d-e44e-4157-bae5-269eb3be73e9 button.colab-df-convert');\n",
              "        buttonEl.style.display =\n",
              "          google.colab.kernel.accessAllowed ? 'block' : 'none';\n",
              "\n",
              "        async function convertToInteractive(key) {\n",
              "          const element = document.querySelector('#df-1b34b02d-e44e-4157-bae5-269eb3be73e9');\n",
              "          const dataTable =\n",
              "            await google.colab.kernel.invokeFunction('convertToInteractive',\n",
              "                                                     [key], {});\n",
              "          if (!dataTable) return;\n",
              "\n",
              "          const docLinkHtml = 'Like what you see? Visit the ' +\n",
              "            '<a target=\"_blank\" href=https://colab.research.google.com/notebooks/data_table.ipynb>data table notebook</a>'\n",
              "            + ' to learn more about interactive tables.';\n",
              "          element.innerHTML = '';\n",
              "          dataTable['output_type'] = 'display_data';\n",
              "          await google.colab.output.renderOutput(dataTable, element);\n",
              "          const docLink = document.createElement('div');\n",
              "          docLink.innerHTML = docLinkHtml;\n",
              "          element.appendChild(docLink);\n",
              "        }\n",
              "      </script>\n",
              "    </div>\n",
              "  </div>\n",
              "  "
            ]
          },
          "metadata": {},
          "execution_count": 66
        }
      ]
    },
    {
      "cell_type": "code",
      "source": [
        "#Check value counts\n",
        "data.Class.value_counts()"
      ],
      "metadata": {
        "colab": {
          "base_uri": "https://localhost:8080/"
        },
        "id": "Q6X0zbDv2Rh6",
        "outputId": "81afdce2-473e-4f35-d97b-5d280307b7c2"
      },
      "execution_count": 67,
      "outputs": [
        {
          "output_type": "execute_result",
          "data": {
            "text/plain": [
              "1     582967\n",
              "8     508063\n",
              "18    260790\n",
              "2     134079\n",
              "12    113461\n",
              "10     67576\n",
              "5      54330\n",
              "16     32239\n",
              "13     13597\n",
              "14      1986\n",
              "0        773\n",
              "6        591\n",
              "17       512\n",
              "11       286\n",
              "Name: Class, dtype: int64"
            ]
          },
          "metadata": {},
          "execution_count": 67
        }
      ]
    },
    {
      "cell_type": "code",
      "source": [
        "#Remove rows with classes < 15000 data points\n",
        "values = [0,6,11,13,14,17]\n",
        "data = data[data.Class.isin(values) == False]\n",
        "\n",
        "#Check value counts\n",
        "data.Class.value_counts()"
      ],
      "metadata": {
        "id": "PlIqoMu8cuZV",
        "outputId": "eeffa6f9-72b7-4854-b980-32a8af48fe94",
        "colab": {
          "base_uri": "https://localhost:8080/"
        }
      },
      "execution_count": 69,
      "outputs": [
        {
          "output_type": "execute_result",
          "data": {
            "text/plain": [
              "1     582967\n",
              "8     508063\n",
              "18    260790\n",
              "2     134079\n",
              "12    113461\n",
              "10     67576\n",
              "5      54330\n",
              "16     32239\n",
              "Name: Class, dtype: int64"
            ]
          },
          "metadata": {},
          "execution_count": 69
        }
      ]
    },
    {
      "cell_type": "code",
      "source": [
        "#SubSample ~100 000 for each class\n",
        "sample = data.groupby('Class').apply(lambda x: x.sample(n=30000)).reset_index(drop=True)\n",
        "sample.head(4)"
      ],
      "metadata": {
        "colab": {
          "base_uri": "https://localhost:8080/",
          "height": 173
        },
        "id": "uECRFzC9-VyK",
        "outputId": "4f744d8c-6156-4629-a5ad-8a4ecb41c88d"
      },
      "execution_count": 70,
      "outputs": [
        {
          "output_type": "execute_result",
          "data": {
            "text/plain": [
              "      B01     B06     B11     B07     B05     B03     B09     B12     B8A  \\\n",
              "0  0.0226  0.1495  0.1600  0.1666  0.0966  0.0509  0.1806  0.0935  0.1843   \n",
              "1  0.0130  0.1448  0.1291  0.1687  0.0863  0.0338  0.1970  0.0704  0.1946   \n",
              "2  0.0231  0.1414  0.1253  0.1570  0.0802  0.0449  0.1731  0.0707  0.1706   \n",
              "3  0.0068  0.1265  0.1017  0.1455  0.0609  0.0297  0.1610  0.0532  0.1581   \n",
              "\n",
              "      B04     B08     B02  Class  \n",
              "0  0.0513  0.1780  0.0384      1  \n",
              "1  0.0370  0.1859  0.0214      1  \n",
              "2  0.0387  0.1655  0.0311      1  \n",
              "3  0.0227  0.1547  0.0171      1  "
            ],
            "text/html": [
              "\n",
              "  <div id=\"df-200ebe7f-b7dc-4f07-9f75-4f70efea0356\">\n",
              "    <div class=\"colab-df-container\">\n",
              "      <div>\n",
              "<style scoped>\n",
              "    .dataframe tbody tr th:only-of-type {\n",
              "        vertical-align: middle;\n",
              "    }\n",
              "\n",
              "    .dataframe tbody tr th {\n",
              "        vertical-align: top;\n",
              "    }\n",
              "\n",
              "    .dataframe thead th {\n",
              "        text-align: right;\n",
              "    }\n",
              "</style>\n",
              "<table border=\"1\" class=\"dataframe\">\n",
              "  <thead>\n",
              "    <tr style=\"text-align: right;\">\n",
              "      <th></th>\n",
              "      <th>B01</th>\n",
              "      <th>B06</th>\n",
              "      <th>B11</th>\n",
              "      <th>B07</th>\n",
              "      <th>B05</th>\n",
              "      <th>B03</th>\n",
              "      <th>B09</th>\n",
              "      <th>B12</th>\n",
              "      <th>B8A</th>\n",
              "      <th>B04</th>\n",
              "      <th>B08</th>\n",
              "      <th>B02</th>\n",
              "      <th>Class</th>\n",
              "    </tr>\n",
              "  </thead>\n",
              "  <tbody>\n",
              "    <tr>\n",
              "      <th>0</th>\n",
              "      <td>0.0226</td>\n",
              "      <td>0.1495</td>\n",
              "      <td>0.1600</td>\n",
              "      <td>0.1666</td>\n",
              "      <td>0.0966</td>\n",
              "      <td>0.0509</td>\n",
              "      <td>0.1806</td>\n",
              "      <td>0.0935</td>\n",
              "      <td>0.1843</td>\n",
              "      <td>0.0513</td>\n",
              "      <td>0.1780</td>\n",
              "      <td>0.0384</td>\n",
              "      <td>1</td>\n",
              "    </tr>\n",
              "    <tr>\n",
              "      <th>1</th>\n",
              "      <td>0.0130</td>\n",
              "      <td>0.1448</td>\n",
              "      <td>0.1291</td>\n",
              "      <td>0.1687</td>\n",
              "      <td>0.0863</td>\n",
              "      <td>0.0338</td>\n",
              "      <td>0.1970</td>\n",
              "      <td>0.0704</td>\n",
              "      <td>0.1946</td>\n",
              "      <td>0.0370</td>\n",
              "      <td>0.1859</td>\n",
              "      <td>0.0214</td>\n",
              "      <td>1</td>\n",
              "    </tr>\n",
              "    <tr>\n",
              "      <th>2</th>\n",
              "      <td>0.0231</td>\n",
              "      <td>0.1414</td>\n",
              "      <td>0.1253</td>\n",
              "      <td>0.1570</td>\n",
              "      <td>0.0802</td>\n",
              "      <td>0.0449</td>\n",
              "      <td>0.1731</td>\n",
              "      <td>0.0707</td>\n",
              "      <td>0.1706</td>\n",
              "      <td>0.0387</td>\n",
              "      <td>0.1655</td>\n",
              "      <td>0.0311</td>\n",
              "      <td>1</td>\n",
              "    </tr>\n",
              "    <tr>\n",
              "      <th>3</th>\n",
              "      <td>0.0068</td>\n",
              "      <td>0.1265</td>\n",
              "      <td>0.1017</td>\n",
              "      <td>0.1455</td>\n",
              "      <td>0.0609</td>\n",
              "      <td>0.0297</td>\n",
              "      <td>0.1610</td>\n",
              "      <td>0.0532</td>\n",
              "      <td>0.1581</td>\n",
              "      <td>0.0227</td>\n",
              "      <td>0.1547</td>\n",
              "      <td>0.0171</td>\n",
              "      <td>1</td>\n",
              "    </tr>\n",
              "  </tbody>\n",
              "</table>\n",
              "</div>\n",
              "      <button class=\"colab-df-convert\" onclick=\"convertToInteractive('df-200ebe7f-b7dc-4f07-9f75-4f70efea0356')\"\n",
              "              title=\"Convert this dataframe to an interactive table.\"\n",
              "              style=\"display:none;\">\n",
              "        \n",
              "  <svg xmlns=\"http://www.w3.org/2000/svg\" height=\"24px\"viewBox=\"0 0 24 24\"\n",
              "       width=\"24px\">\n",
              "    <path d=\"M0 0h24v24H0V0z\" fill=\"none\"/>\n",
              "    <path d=\"M18.56 5.44l.94 2.06.94-2.06 2.06-.94-2.06-.94-.94-2.06-.94 2.06-2.06.94zm-11 1L8.5 8.5l.94-2.06 2.06-.94-2.06-.94L8.5 2.5l-.94 2.06-2.06.94zm10 10l.94 2.06.94-2.06 2.06-.94-2.06-.94-.94-2.06-.94 2.06-2.06.94z\"/><path d=\"M17.41 7.96l-1.37-1.37c-.4-.4-.92-.59-1.43-.59-.52 0-1.04.2-1.43.59L10.3 9.45l-7.72 7.72c-.78.78-.78 2.05 0 2.83L4 21.41c.39.39.9.59 1.41.59.51 0 1.02-.2 1.41-.59l7.78-7.78 2.81-2.81c.8-.78.8-2.07 0-2.86zM5.41 20L4 18.59l7.72-7.72 1.47 1.35L5.41 20z\"/>\n",
              "  </svg>\n",
              "      </button>\n",
              "      \n",
              "  <style>\n",
              "    .colab-df-container {\n",
              "      display:flex;\n",
              "      flex-wrap:wrap;\n",
              "      gap: 12px;\n",
              "    }\n",
              "\n",
              "    .colab-df-convert {\n",
              "      background-color: #E8F0FE;\n",
              "      border: none;\n",
              "      border-radius: 50%;\n",
              "      cursor: pointer;\n",
              "      display: none;\n",
              "      fill: #1967D2;\n",
              "      height: 32px;\n",
              "      padding: 0 0 0 0;\n",
              "      width: 32px;\n",
              "    }\n",
              "\n",
              "    .colab-df-convert:hover {\n",
              "      background-color: #E2EBFA;\n",
              "      box-shadow: 0px 1px 2px rgba(60, 64, 67, 0.3), 0px 1px 3px 1px rgba(60, 64, 67, 0.15);\n",
              "      fill: #174EA6;\n",
              "    }\n",
              "\n",
              "    [theme=dark] .colab-df-convert {\n",
              "      background-color: #3B4455;\n",
              "      fill: #D2E3FC;\n",
              "    }\n",
              "\n",
              "    [theme=dark] .colab-df-convert:hover {\n",
              "      background-color: #434B5C;\n",
              "      box-shadow: 0px 1px 3px 1px rgba(0, 0, 0, 0.15);\n",
              "      filter: drop-shadow(0px 1px 2px rgba(0, 0, 0, 0.3));\n",
              "      fill: #FFFFFF;\n",
              "    }\n",
              "  </style>\n",
              "\n",
              "      <script>\n",
              "        const buttonEl =\n",
              "          document.querySelector('#df-200ebe7f-b7dc-4f07-9f75-4f70efea0356 button.colab-df-convert');\n",
              "        buttonEl.style.display =\n",
              "          google.colab.kernel.accessAllowed ? 'block' : 'none';\n",
              "\n",
              "        async function convertToInteractive(key) {\n",
              "          const element = document.querySelector('#df-200ebe7f-b7dc-4f07-9f75-4f70efea0356');\n",
              "          const dataTable =\n",
              "            await google.colab.kernel.invokeFunction('convertToInteractive',\n",
              "                                                     [key], {});\n",
              "          if (!dataTable) return;\n",
              "\n",
              "          const docLinkHtml = 'Like what you see? Visit the ' +\n",
              "            '<a target=\"_blank\" href=https://colab.research.google.com/notebooks/data_table.ipynb>data table notebook</a>'\n",
              "            + ' to learn more about interactive tables.';\n",
              "          element.innerHTML = '';\n",
              "          dataTable['output_type'] = 'display_data';\n",
              "          await google.colab.output.renderOutput(dataTable, element);\n",
              "          const docLink = document.createElement('div');\n",
              "          docLink.innerHTML = docLinkHtml;\n",
              "          element.appendChild(docLink);\n",
              "        }\n",
              "      </script>\n",
              "    </div>\n",
              "  </div>\n",
              "  "
            ]
          },
          "metadata": {},
          "execution_count": 70
        }
      ]
    },
    {
      "cell_type": "code",
      "source": [
        "#Create NDVI column (B08-B04)/(B08+B04)\n",
        "sample['NDVI'] = (sample.B08-sample.B04)/(sample.B08+sample.B04)\n",
        "#Create Moisture index (B8A-B11)/(B8A+B11)\n",
        "sample['Moisture'] = (sample.B8A-sample.B11)/(sample.B8A+sample.B11)\n",
        "#Create NDWI (B3-B8)/(B3+B8)\n",
        "sample['NDWI'] = (sample.B03-sample.B08)/(sample.B03+sample.B08)\n",
        "#create NDSI (B3-B11)/(B3+B11)\n",
        "sample['NDSI'] = (sample.B03-sample.B11)/(sample.B03+sample.B11)"
      ],
      "metadata": {
        "id": "S8hsyKnwwxNQ"
      },
      "execution_count": 71,
      "outputs": []
    },
    {
      "cell_type": "code",
      "source": [
        "#View new dataframe\n",
        "sample.head()"
      ],
      "metadata": {
        "colab": {
          "base_uri": "https://localhost:8080/",
          "height": 204
        },
        "id": "zizsoY0Jx3UH",
        "outputId": "d3c65c5a-f73e-42d6-959f-220b6711b03f"
      },
      "execution_count": 72,
      "outputs": [
        {
          "output_type": "execute_result",
          "data": {
            "text/plain": [
              "      B01     B06     B11     B07     B05     B03     B09     B12     B8A  \\\n",
              "0  0.0226  0.1495  0.1600  0.1666  0.0966  0.0509  0.1806  0.0935  0.1843   \n",
              "1  0.0130  0.1448  0.1291  0.1687  0.0863  0.0338  0.1970  0.0704  0.1946   \n",
              "2  0.0231  0.1414  0.1253  0.1570  0.0802  0.0449  0.1731  0.0707  0.1706   \n",
              "3  0.0068  0.1265  0.1017  0.1455  0.0609  0.0297  0.1610  0.0532  0.1581   \n",
              "4  0.0144  0.1571  0.1286  0.1728  0.0879  0.0410  0.2000  0.0676  0.1907   \n",
              "\n",
              "      B04     B08     B02  Class      NDVI  Moisture      NDWI      NDSI  \n",
              "0  0.0513  0.1780  0.0384      1  0.552551  0.070578 -0.555264 -0.517307  \n",
              "1  0.0370  0.1859  0.0214      1  0.668013  0.202348 -0.692308 -0.585021  \n",
              "2  0.0387  0.1655  0.0311      1  0.620960  0.153092 -0.573194 -0.472385  \n",
              "3  0.0227  0.1547  0.0171      1  0.744081  0.217090 -0.677874 -0.547945  \n",
              "4  0.0381  0.1873  0.0265      1  0.661934  0.194488 -0.640823 -0.516509  "
            ],
            "text/html": [
              "\n",
              "  <div id=\"df-69a61482-f61b-42f5-9f33-319361012237\">\n",
              "    <div class=\"colab-df-container\">\n",
              "      <div>\n",
              "<style scoped>\n",
              "    .dataframe tbody tr th:only-of-type {\n",
              "        vertical-align: middle;\n",
              "    }\n",
              "\n",
              "    .dataframe tbody tr th {\n",
              "        vertical-align: top;\n",
              "    }\n",
              "\n",
              "    .dataframe thead th {\n",
              "        text-align: right;\n",
              "    }\n",
              "</style>\n",
              "<table border=\"1\" class=\"dataframe\">\n",
              "  <thead>\n",
              "    <tr style=\"text-align: right;\">\n",
              "      <th></th>\n",
              "      <th>B01</th>\n",
              "      <th>B06</th>\n",
              "      <th>B11</th>\n",
              "      <th>B07</th>\n",
              "      <th>B05</th>\n",
              "      <th>B03</th>\n",
              "      <th>B09</th>\n",
              "      <th>B12</th>\n",
              "      <th>B8A</th>\n",
              "      <th>B04</th>\n",
              "      <th>B08</th>\n",
              "      <th>B02</th>\n",
              "      <th>Class</th>\n",
              "      <th>NDVI</th>\n",
              "      <th>Moisture</th>\n",
              "      <th>NDWI</th>\n",
              "      <th>NDSI</th>\n",
              "    </tr>\n",
              "  </thead>\n",
              "  <tbody>\n",
              "    <tr>\n",
              "      <th>0</th>\n",
              "      <td>0.0226</td>\n",
              "      <td>0.1495</td>\n",
              "      <td>0.1600</td>\n",
              "      <td>0.1666</td>\n",
              "      <td>0.0966</td>\n",
              "      <td>0.0509</td>\n",
              "      <td>0.1806</td>\n",
              "      <td>0.0935</td>\n",
              "      <td>0.1843</td>\n",
              "      <td>0.0513</td>\n",
              "      <td>0.1780</td>\n",
              "      <td>0.0384</td>\n",
              "      <td>1</td>\n",
              "      <td>0.552551</td>\n",
              "      <td>0.070578</td>\n",
              "      <td>-0.555264</td>\n",
              "      <td>-0.517307</td>\n",
              "    </tr>\n",
              "    <tr>\n",
              "      <th>1</th>\n",
              "      <td>0.0130</td>\n",
              "      <td>0.1448</td>\n",
              "      <td>0.1291</td>\n",
              "      <td>0.1687</td>\n",
              "      <td>0.0863</td>\n",
              "      <td>0.0338</td>\n",
              "      <td>0.1970</td>\n",
              "      <td>0.0704</td>\n",
              "      <td>0.1946</td>\n",
              "      <td>0.0370</td>\n",
              "      <td>0.1859</td>\n",
              "      <td>0.0214</td>\n",
              "      <td>1</td>\n",
              "      <td>0.668013</td>\n",
              "      <td>0.202348</td>\n",
              "      <td>-0.692308</td>\n",
              "      <td>-0.585021</td>\n",
              "    </tr>\n",
              "    <tr>\n",
              "      <th>2</th>\n",
              "      <td>0.0231</td>\n",
              "      <td>0.1414</td>\n",
              "      <td>0.1253</td>\n",
              "      <td>0.1570</td>\n",
              "      <td>0.0802</td>\n",
              "      <td>0.0449</td>\n",
              "      <td>0.1731</td>\n",
              "      <td>0.0707</td>\n",
              "      <td>0.1706</td>\n",
              "      <td>0.0387</td>\n",
              "      <td>0.1655</td>\n",
              "      <td>0.0311</td>\n",
              "      <td>1</td>\n",
              "      <td>0.620960</td>\n",
              "      <td>0.153092</td>\n",
              "      <td>-0.573194</td>\n",
              "      <td>-0.472385</td>\n",
              "    </tr>\n",
              "    <tr>\n",
              "      <th>3</th>\n",
              "      <td>0.0068</td>\n",
              "      <td>0.1265</td>\n",
              "      <td>0.1017</td>\n",
              "      <td>0.1455</td>\n",
              "      <td>0.0609</td>\n",
              "      <td>0.0297</td>\n",
              "      <td>0.1610</td>\n",
              "      <td>0.0532</td>\n",
              "      <td>0.1581</td>\n",
              "      <td>0.0227</td>\n",
              "      <td>0.1547</td>\n",
              "      <td>0.0171</td>\n",
              "      <td>1</td>\n",
              "      <td>0.744081</td>\n",
              "      <td>0.217090</td>\n",
              "      <td>-0.677874</td>\n",
              "      <td>-0.547945</td>\n",
              "    </tr>\n",
              "    <tr>\n",
              "      <th>4</th>\n",
              "      <td>0.0144</td>\n",
              "      <td>0.1571</td>\n",
              "      <td>0.1286</td>\n",
              "      <td>0.1728</td>\n",
              "      <td>0.0879</td>\n",
              "      <td>0.0410</td>\n",
              "      <td>0.2000</td>\n",
              "      <td>0.0676</td>\n",
              "      <td>0.1907</td>\n",
              "      <td>0.0381</td>\n",
              "      <td>0.1873</td>\n",
              "      <td>0.0265</td>\n",
              "      <td>1</td>\n",
              "      <td>0.661934</td>\n",
              "      <td>0.194488</td>\n",
              "      <td>-0.640823</td>\n",
              "      <td>-0.516509</td>\n",
              "    </tr>\n",
              "  </tbody>\n",
              "</table>\n",
              "</div>\n",
              "      <button class=\"colab-df-convert\" onclick=\"convertToInteractive('df-69a61482-f61b-42f5-9f33-319361012237')\"\n",
              "              title=\"Convert this dataframe to an interactive table.\"\n",
              "              style=\"display:none;\">\n",
              "        \n",
              "  <svg xmlns=\"http://www.w3.org/2000/svg\" height=\"24px\"viewBox=\"0 0 24 24\"\n",
              "       width=\"24px\">\n",
              "    <path d=\"M0 0h24v24H0V0z\" fill=\"none\"/>\n",
              "    <path d=\"M18.56 5.44l.94 2.06.94-2.06 2.06-.94-2.06-.94-.94-2.06-.94 2.06-2.06.94zm-11 1L8.5 8.5l.94-2.06 2.06-.94-2.06-.94L8.5 2.5l-.94 2.06-2.06.94zm10 10l.94 2.06.94-2.06 2.06-.94-2.06-.94-.94-2.06-.94 2.06-2.06.94z\"/><path d=\"M17.41 7.96l-1.37-1.37c-.4-.4-.92-.59-1.43-.59-.52 0-1.04.2-1.43.59L10.3 9.45l-7.72 7.72c-.78.78-.78 2.05 0 2.83L4 21.41c.39.39.9.59 1.41.59.51 0 1.02-.2 1.41-.59l7.78-7.78 2.81-2.81c.8-.78.8-2.07 0-2.86zM5.41 20L4 18.59l7.72-7.72 1.47 1.35L5.41 20z\"/>\n",
              "  </svg>\n",
              "      </button>\n",
              "      \n",
              "  <style>\n",
              "    .colab-df-container {\n",
              "      display:flex;\n",
              "      flex-wrap:wrap;\n",
              "      gap: 12px;\n",
              "    }\n",
              "\n",
              "    .colab-df-convert {\n",
              "      background-color: #E8F0FE;\n",
              "      border: none;\n",
              "      border-radius: 50%;\n",
              "      cursor: pointer;\n",
              "      display: none;\n",
              "      fill: #1967D2;\n",
              "      height: 32px;\n",
              "      padding: 0 0 0 0;\n",
              "      width: 32px;\n",
              "    }\n",
              "\n",
              "    .colab-df-convert:hover {\n",
              "      background-color: #E2EBFA;\n",
              "      box-shadow: 0px 1px 2px rgba(60, 64, 67, 0.3), 0px 1px 3px 1px rgba(60, 64, 67, 0.15);\n",
              "      fill: #174EA6;\n",
              "    }\n",
              "\n",
              "    [theme=dark] .colab-df-convert {\n",
              "      background-color: #3B4455;\n",
              "      fill: #D2E3FC;\n",
              "    }\n",
              "\n",
              "    [theme=dark] .colab-df-convert:hover {\n",
              "      background-color: #434B5C;\n",
              "      box-shadow: 0px 1px 3px 1px rgba(0, 0, 0, 0.15);\n",
              "      filter: drop-shadow(0px 1px 2px rgba(0, 0, 0, 0.3));\n",
              "      fill: #FFFFFF;\n",
              "    }\n",
              "  </style>\n",
              "\n",
              "      <script>\n",
              "        const buttonEl =\n",
              "          document.querySelector('#df-69a61482-f61b-42f5-9f33-319361012237 button.colab-df-convert');\n",
              "        buttonEl.style.display =\n",
              "          google.colab.kernel.accessAllowed ? 'block' : 'none';\n",
              "\n",
              "        async function convertToInteractive(key) {\n",
              "          const element = document.querySelector('#df-69a61482-f61b-42f5-9f33-319361012237');\n",
              "          const dataTable =\n",
              "            await google.colab.kernel.invokeFunction('convertToInteractive',\n",
              "                                                     [key], {});\n",
              "          if (!dataTable) return;\n",
              "\n",
              "          const docLinkHtml = 'Like what you see? Visit the ' +\n",
              "            '<a target=\"_blank\" href=https://colab.research.google.com/notebooks/data_table.ipynb>data table notebook</a>'\n",
              "            + ' to learn more about interactive tables.';\n",
              "          element.innerHTML = '';\n",
              "          dataTable['output_type'] = 'display_data';\n",
              "          await google.colab.output.renderOutput(dataTable, element);\n",
              "          const docLink = document.createElement('div');\n",
              "          docLink.innerHTML = docLinkHtml;\n",
              "          element.appendChild(docLink);\n",
              "        }\n",
              "      </script>\n",
              "    </div>\n",
              "  </div>\n",
              "  "
            ]
          },
          "metadata": {},
          "execution_count": 72
        }
      ]
    },
    {
      "cell_type": "code",
      "source": [
        "#Replace infinity values with Nan\n",
        "sample.replace([np.inf, -np.inf], np.nan, inplace=True)\n",
        "\n",
        "#Fill in infinity values\n",
        "sample.fillna(999, inplace=True)"
      ],
      "metadata": {
        "id": "5Ber47DXfkVn"
      },
      "execution_count": 73,
      "outputs": []
    },
    {
      "cell_type": "code",
      "source": [
        "#Split the Data\n",
        "y = sample['Class']\n",
        "X = sample.drop(['Class'], axis = 1)"
      ],
      "metadata": {
        "id": "jDW1ruIRqJwQ"
      },
      "execution_count": 74,
      "outputs": []
    },
    {
      "cell_type": "code",
      "source": [
        "#Print data shapes\n",
        "print(X.shape)\n",
        "print(y.shape)"
      ],
      "metadata": {
        "colab": {
          "base_uri": "https://localhost:8080/"
        },
        "id": "EbMtf6Ttsm9v",
        "outputId": "91caa459-1e38-4d40-cab7-d2c635db3a6d"
      },
      "execution_count": 75,
      "outputs": [
        {
          "output_type": "stream",
          "name": "stdout",
          "text": [
            "(240000, 16)\n",
            "(240000,)\n"
          ]
        }
      ]
    },
    {
      "cell_type": "code",
      "source": [
        "#Split into training and test data\n",
        "X_train, X_test, y_train, y_test = train_test_split(X, y, \n",
        "                                                    test_size = 0.3, \n",
        "                                                    stratify = y, \n",
        "                                                    random_state=42)"
      ],
      "metadata": {
        "id": "39Wtn8ewtI_v"
      },
      "execution_count": 76,
      "outputs": []
    },
    {
      "cell_type": "code",
      "source": [
        "#Instantiate Random Fore\n",
        "rfc = RandomForestClassifier(random_state=42)\n",
        "\n",
        "#Fit training data\n",
        "rfc.fit(X_train, y_train)"
      ],
      "metadata": {
        "colab": {
          "base_uri": "https://localhost:8080/"
        },
        "id": "E6LuNuqiss81",
        "outputId": "2904315e-8453-4071-f323-0c698bca8f75"
      },
      "execution_count": 77,
      "outputs": [
        {
          "output_type": "execute_result",
          "data": {
            "text/plain": [
              "RandomForestClassifier(random_state=42)"
            ]
          },
          "metadata": {},
          "execution_count": 77
        }
      ]
    },
    {
      "cell_type": "code",
      "source": [
        "#Predict X_test\n",
        "y_prediction = rfc.predict(X_test)\n",
        "\n",
        "#Print measure scores\n",
        "print(f\"Accuracy: {accuracy_score(y_test, y_prediction)}\")\n",
        "print(f\"F1 Score: {f1_score(y_test, y_prediction, average='micro')}\")\n",
        "print(f\"Precision Score: {precision_score(y_test, y_prediction, average='micro')}\")\n",
        "print(f\"Recall Score: {recall_score(y_test, y_prediction, average='micro')}\")\n",
        "print(f\"ROC AUC Score: {roc_auc_score(y_test, rfc.predict_proba(X_test),multi_class='ovr', average='macro')}\")\n",
        "\n",
        "#print full classification report\n",
        "print(classification_report(y_test, y_prediction))"
      ],
      "metadata": {
        "id": "tYL0OTbPtxOs",
        "colab": {
          "base_uri": "https://localhost:8080/"
        },
        "outputId": "711ca9f3-8fa2-4b28-8a78-b61106d84e20"
      },
      "execution_count": 78,
      "outputs": [
        {
          "output_type": "stream",
          "name": "stdout",
          "text": [
            "Accuracy: 0.6048333333333333\n",
            "F1 Score: 0.6048333333333333\n",
            "Precision Score: 0.6048333333333333\n",
            "Recall Score: 0.6048333333333333\n",
            "ROC AUC Score: 0.9001204548059965\n",
            "              precision    recall  f1-score   support\n",
            "\n",
            "           1       0.56      0.55      0.56      9000\n",
            "           2       0.53      0.66      0.59      9000\n",
            "           5       0.77      0.78      0.77      9000\n",
            "           8       0.41      0.36      0.39      9000\n",
            "          10       0.60      0.61      0.61      9000\n",
            "          12       0.43      0.39      0.41      9000\n",
            "          16       0.63      0.58      0.60      9000\n",
            "          18       0.88      0.90      0.89      9000\n",
            "\n",
            "    accuracy                           0.60     72000\n",
            "   macro avg       0.60      0.60      0.60     72000\n",
            "weighted avg       0.60      0.60      0.60     72000\n",
            "\n"
          ]
        }
      ]
    },
    {
      "cell_type": "code",
      "source": [
        "#Create a confusion matrix\n",
        "matrix = confusion_matrix(y_test, y_prediction)\n",
        "\n",
        "#Visualize the matrix with Seaborn\n",
        "\n",
        "#Write title to display accuracy score\n",
        "score = accuracy_score(y_test, y_prediction)\n",
        "all_sample_title = 'RF Accuracy Score: {0}%'.format(round(score,3)*100)\n",
        "\n",
        "#Set figure shape\n",
        "plt.figure(figsize=(9,9))\n",
        "\n",
        "#Use heatmap\n",
        "p = sns.heatmap(matrix, annot=True, fmt=\".1f\", linewidths=0.5, square=True, cmap=\"mako\")\n",
        "\n",
        "#Label the plot\n",
        "label = [1,2,5,8,10,12,16,18]\n",
        "p.set_ylabel('Actual Label', size=16)\n",
        "p.set_xlabel('Predicted Label', size = 16)\n",
        "p.set_xticklabels(label)\n",
        "p.set_yticklabels(label)\n",
        "p.set_title(all_sample_title, size = 18)\n",
        "\n",
        "#save\n",
        "fig = p.get_figure()\n",
        "fig.savefig('/content/drive/MyDrive/james_bay_Cmatrix.png')"
      ],
      "metadata": {
        "id": "_2-xBVulunIT",
        "colab": {
          "base_uri": "https://localhost:8080/",
          "height": 520
        },
        "outputId": "1377da00-a1f7-48ff-bdf5-7eda9cc97ede"
      },
      "execution_count": 79,
      "outputs": [
        {
          "output_type": "display_data",
          "data": {
            "text/plain": [
              "<Figure size 648x648 with 2 Axes>"
            ],
            "image/png": "[encoded data removed]"
          },
          "metadata": {
            "needs_background": "light"
          }
        }
      ]
    },
    {
      "cell_type": "code",
      "source": [
        "#Find which features were most important\n",
        "importances = rfc.feature_importances_\n",
        "std = np.std([tree.feature_importances_ for tree in rfc.estimators_], axis=0)\n",
        "feature_names = [f\"feature {i}\" for i in range(X.shape[1])]\n",
        "\n",
        "forest_importances = pd.Series(importances, index=feature_names)\n",
        "\n",
        "fig, ax = plt.subplots()\n",
        "forest_importances.plot.bar(yerr=std, ax=ax)\n",
        "ax.set_title(\"Feature importances using MDI\")\n",
        "ax.set_ylabel(\"Mean decrease in impurity\")\n",
        "fig.tight_layout()"
      ],
      "metadata": {
        "colab": {
          "base_uri": "https://localhost:8080/",
          "height": 297
        },
        "id": "ksl0DiaV0KDe",
        "outputId": "24e6859e-7bcf-4f92-c36e-ef50aecf1e9b"
      },
      "execution_count": 80,
      "outputs": [
        {
          "output_type": "display_data",
          "data": {
            "text/plain": [
              "<Figure size 432x288 with 1 Axes>"
            ],
            "image/png": "[encoded data removed]"
          },
          "metadata": {
            "needs_background": "light"
          }
        }
      ]
    },
    {
      "cell_type": "code",
      "source": [
        ""
      ],
      "metadata": {
        "id": "s0DyQZm50Ve5"
      },
      "execution_count": null,
      "outputs": []
    }
  ]
}