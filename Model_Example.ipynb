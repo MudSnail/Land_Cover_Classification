{
  "nbformat": 4,
  "nbformat_minor": 0,
  "metadata": {
    "colab": {
      "name": "Untitled2.ipynb",
      "provenance": [],
      "collapsed_sections": [],
      "machine_shape": "hm",
      "authorship_tag": "ABX9TyMJCwoEM459zbbilA8JQVh3",
      "include_colab_link": true
    },
    "kernelspec": {
      "name": "python3",
      "display_name": "Python 3"
    },
    "language_info": {
      "name": "python"
    }
  },
  "cells": [
    {
      "cell_type": "markdown",
      "metadata": {
        "id": "view-in-github",
        "colab_type": "text"
      },
      "source": [
        "<a href=\"https://colab.research.google.com/github/MudSnail/Land_Cover_Classification/blob/main/Model_Example.ipynb\" target=\"_parent\"><img src=\"https://colab.research.google.com/assets/colab-badge.svg\" alt=\"Open In Colab\"/></a>"
      ]
    },
    {
      "cell_type": "code",
      "source": [
        "#Increase RAM size \n",
        "a = []\n",
        "while(1):\n",
        "  a.append('1')"
      ],
      "metadata": {
        "id": "YBaFJg_fyFD2"
      },
      "execution_count": null,
      "outputs": []
    },
    {
      "cell_type": "code",
      "execution_count": 1,
      "metadata": {
        "colab": {
          "base_uri": "https://localhost:8080/"
        },
        "id": "xtUtdbAgpWgZ",
        "outputId": "085404a9-fa6f-475e-9d46-2321a8adc26b"
      },
      "outputs": [
        {
          "output_type": "stream",
          "name": "stdout",
          "text": [
            "Drive already mounted at /content/drive; to attempt to forcibly remount, call drive.mount(\"/content/drive\", force_remount=True).\n"
          ]
        }
      ],
      "source": [
        "#Mount to Drive\n",
        "from google.colab import drive\n",
        "drive.mount('/content/drive')\n",
        "\n",
        "#Import Pandas and Numpy\n",
        "import pandas as pd\n",
        "import numpy as np\n",
        "\n",
        "#Import Sklearn\n",
        "from sklearn.preprocessing import StandardScaler\n",
        "from sklearn.model_selection import train_test_split\n",
        "from sklearn.ensemble import RandomForestClassifier\n",
        "from sklearn.metrics import accuracy_score, classification_report, confusion_matrix, f1_score, roc_auc_score, precision_score, recall_score\n",
        "\n",
        "#Visualizations\n",
        "import matplotlib.pyplot as plt\n",
        "import seaborn as sns\n",
        "\n",
        "#misc\n",
        "import warnings\n",
        "warnings.filterwarnings('ignore')"
      ]
    },
    {
      "cell_type": "code",
      "source": [
        "#Load Data\n",
        "data = pd.read_csv('/content/drive/MyDrive/simcoe_land_class_data.csv')\n",
        "data.head()"
      ],
      "metadata": {
        "colab": {
          "base_uri": "https://localhost:8080/",
          "height": 204
        },
        "id": "NXO0fcicqBqS",
        "outputId": "0c45897b-73b9-480f-ecb0-ab33b25dadad"
      },
      "execution_count": 2,
      "outputs": [
        {
          "output_type": "execute_result",
          "data": {
            "text/plain": [
              "       B1      B2      B3      B4      B5      B6      B7      B8      B9  \\\n",
              "0  0.1203  0.0267  0.0610  0.0693  0.0135  0.0227  0.2069  0.2206  0.2447   \n",
              "1  0.1043  0.0275  0.0519  0.0677  0.0113  0.0190  0.1623  0.1854  0.2260   \n",
              "2  0.0952  0.0209  0.0457  0.0541  0.0095  0.0179  0.1514  0.1701  0.2182   \n",
              "3  0.0989  0.0215  0.0490  0.0589  0.0096  0.0215  0.1587  0.1803  0.2283   \n",
              "4  0.1221  0.0243  0.0637  0.0633  0.0131  0.0265  0.2276  0.2227  0.2458   \n",
              "\n",
              "      B10     B11     B12  Class  \n",
              "0  0.2106  0.1763  0.0320     15  \n",
              "1  0.1844  0.1367  0.0306     15  \n",
              "2  0.1631  0.1264  0.0260     15  \n",
              "3  0.1727  0.1341  0.0267     15  \n",
              "4  0.2257  0.1910  0.0333     17  "
            ],
            "text/html": [
              "\n",
              "  <div id=\"df-3fb7775e-96a8-4e20-979f-ab3ed09901cb\">\n",
              "    <div class=\"colab-df-container\">\n",
              "      <div>\n",
              "<style scoped>\n",
              "    .dataframe tbody tr th:only-of-type {\n",
              "        vertical-align: middle;\n",
              "    }\n",
              "\n",
              "    .dataframe tbody tr th {\n",
              "        vertical-align: top;\n",
              "    }\n",
              "\n",
              "    .dataframe thead th {\n",
              "        text-align: right;\n",
              "    }\n",
              "</style>\n",
              "<table border=\"1\" class=\"dataframe\">\n",
              "  <thead>\n",
              "    <tr style=\"text-align: right;\">\n",
              "      <th></th>\n",
              "      <th>B1</th>\n",
              "      <th>B2</th>\n",
              "      <th>B3</th>\n",
              "      <th>B4</th>\n",
              "      <th>B5</th>\n",
              "      <th>B6</th>\n",
              "      <th>B7</th>\n",
              "      <th>B8</th>\n",
              "      <th>B9</th>\n",
              "      <th>B10</th>\n",
              "      <th>B11</th>\n",
              "      <th>B12</th>\n",
              "      <th>Class</th>\n",
              "    </tr>\n",
              "  </thead>\n",
              "  <tbody>\n",
              "    <tr>\n",
              "      <th>0</th>\n",
              "      <td>0.1203</td>\n",
              "      <td>0.0267</td>\n",
              "      <td>0.0610</td>\n",
              "      <td>0.0693</td>\n",
              "      <td>0.0135</td>\n",
              "      <td>0.0227</td>\n",
              "      <td>0.2069</td>\n",
              "      <td>0.2206</td>\n",
              "      <td>0.2447</td>\n",
              "      <td>0.2106</td>\n",
              "      <td>0.1763</td>\n",
              "      <td>0.0320</td>\n",
              "      <td>15</td>\n",
              "    </tr>\n",
              "    <tr>\n",
              "      <th>1</th>\n",
              "      <td>0.1043</td>\n",
              "      <td>0.0275</td>\n",
              "      <td>0.0519</td>\n",
              "      <td>0.0677</td>\n",
              "      <td>0.0113</td>\n",
              "      <td>0.0190</td>\n",
              "      <td>0.1623</td>\n",
              "      <td>0.1854</td>\n",
              "      <td>0.2260</td>\n",
              "      <td>0.1844</td>\n",
              "      <td>0.1367</td>\n",
              "      <td>0.0306</td>\n",
              "      <td>15</td>\n",
              "    </tr>\n",
              "    <tr>\n",
              "      <th>2</th>\n",
              "      <td>0.0952</td>\n",
              "      <td>0.0209</td>\n",
              "      <td>0.0457</td>\n",
              "      <td>0.0541</td>\n",
              "      <td>0.0095</td>\n",
              "      <td>0.0179</td>\n",
              "      <td>0.1514</td>\n",
              "      <td>0.1701</td>\n",
              "      <td>0.2182</td>\n",
              "      <td>0.1631</td>\n",
              "      <td>0.1264</td>\n",
              "      <td>0.0260</td>\n",
              "      <td>15</td>\n",
              "    </tr>\n",
              "    <tr>\n",
              "      <th>3</th>\n",
              "      <td>0.0989</td>\n",
              "      <td>0.0215</td>\n",
              "      <td>0.0490</td>\n",
              "      <td>0.0589</td>\n",
              "      <td>0.0096</td>\n",
              "      <td>0.0215</td>\n",
              "      <td>0.1587</td>\n",
              "      <td>0.1803</td>\n",
              "      <td>0.2283</td>\n",
              "      <td>0.1727</td>\n",
              "      <td>0.1341</td>\n",
              "      <td>0.0267</td>\n",
              "      <td>15</td>\n",
              "    </tr>\n",
              "    <tr>\n",
              "      <th>4</th>\n",
              "      <td>0.1221</td>\n",
              "      <td>0.0243</td>\n",
              "      <td>0.0637</td>\n",
              "      <td>0.0633</td>\n",
              "      <td>0.0131</td>\n",
              "      <td>0.0265</td>\n",
              "      <td>0.2276</td>\n",
              "      <td>0.2227</td>\n",
              "      <td>0.2458</td>\n",
              "      <td>0.2257</td>\n",
              "      <td>0.1910</td>\n",
              "      <td>0.0333</td>\n",
              "      <td>17</td>\n",
              "    </tr>\n",
              "  </tbody>\n",
              "</table>\n",
              "</div>\n",
              "      <button class=\"colab-df-convert\" onclick=\"convertToInteractive('df-3fb7775e-96a8-4e20-979f-ab3ed09901cb')\"\n",
              "              title=\"Convert this dataframe to an interactive table.\"\n",
              "              style=\"display:none;\">\n",
              "        \n",
              "  <svg xmlns=\"http://www.w3.org/2000/svg\" height=\"24px\"viewBox=\"0 0 24 24\"\n",
              "       width=\"24px\">\n",
              "    <path d=\"M0 0h24v24H0V0z\" fill=\"none\"/>\n",
              "    <path d=\"M18.56 5.44l.94 2.06.94-2.06 2.06-.94-2.06-.94-.94-2.06-.94 2.06-2.06.94zm-11 1L8.5 8.5l.94-2.06 2.06-.94-2.06-.94L8.5 2.5l-.94 2.06-2.06.94zm10 10l.94 2.06.94-2.06 2.06-.94-2.06-.94-.94-2.06-.94 2.06-2.06.94z\"/><path d=\"M17.41 7.96l-1.37-1.37c-.4-.4-.92-.59-1.43-.59-.52 0-1.04.2-1.43.59L10.3 9.45l-7.72 7.72c-.78.78-.78 2.05 0 2.83L4 21.41c.39.39.9.59 1.41.59.51 0 1.02-.2 1.41-.59l7.78-7.78 2.81-2.81c.8-.78.8-2.07 0-2.86zM5.41 20L4 18.59l7.72-7.72 1.47 1.35L5.41 20z\"/>\n",
              "  </svg>\n",
              "      </button>\n",
              "      \n",
              "  <style>\n",
              "    .colab-df-container {\n",
              "      display:flex;\n",
              "      flex-wrap:wrap;\n",
              "      gap: 12px;\n",
              "    }\n",
              "\n",
              "    .colab-df-convert {\n",
              "      background-color: #E8F0FE;\n",
              "      border: none;\n",
              "      border-radius: 50%;\n",
              "      cursor: pointer;\n",
              "      display: none;\n",
              "      fill: #1967D2;\n",
              "      height: 32px;\n",
              "      padding: 0 0 0 0;\n",
              "      width: 32px;\n",
              "    }\n",
              "\n",
              "    .colab-df-convert:hover {\n",
              "      background-color: #E2EBFA;\n",
              "      box-shadow: 0px 1px 2px rgba(60, 64, 67, 0.3), 0px 1px 3px 1px rgba(60, 64, 67, 0.15);\n",
              "      fill: #174EA6;\n",
              "    }\n",
              "\n",
              "    [theme=dark] .colab-df-convert {\n",
              "      background-color: #3B4455;\n",
              "      fill: #D2E3FC;\n",
              "    }\n",
              "\n",
              "    [theme=dark] .colab-df-convert:hover {\n",
              "      background-color: #434B5C;\n",
              "      box-shadow: 0px 1px 3px 1px rgba(0, 0, 0, 0.15);\n",
              "      filter: drop-shadow(0px 1px 2px rgba(0, 0, 0, 0.3));\n",
              "      fill: #FFFFFF;\n",
              "    }\n",
              "  </style>\n",
              "\n",
              "      <script>\n",
              "        const buttonEl =\n",
              "          document.querySelector('#df-3fb7775e-96a8-4e20-979f-ab3ed09901cb button.colab-df-convert');\n",
              "        buttonEl.style.display =\n",
              "          google.colab.kernel.accessAllowed ? 'block' : 'none';\n",
              "\n",
              "        async function convertToInteractive(key) {\n",
              "          const element = document.querySelector('#df-3fb7775e-96a8-4e20-979f-ab3ed09901cb');\n",
              "          const dataTable =\n",
              "            await google.colab.kernel.invokeFunction('convertToInteractive',\n",
              "                                                     [key], {});\n",
              "          if (!dataTable) return;\n",
              "\n",
              "          const docLinkHtml = 'Like what you see? Visit the ' +\n",
              "            '<a target=\"_blank\" href=https://colab.research.google.com/notebooks/data_table.ipynb>data table notebook</a>'\n",
              "            + ' to learn more about interactive tables.';\n",
              "          element.innerHTML = '';\n",
              "          dataTable['output_type'] = 'display_data';\n",
              "          await google.colab.output.renderOutput(dataTable, element);\n",
              "          const docLink = document.createElement('div');\n",
              "          docLink.innerHTML = docLinkHtml;\n",
              "          element.appendChild(docLink);\n",
              "        }\n",
              "      </script>\n",
              "    </div>\n",
              "  </div>\n",
              "  "
            ]
          },
          "metadata": {},
          "execution_count": 2
        }
      ]
    },
    {
      "cell_type": "code",
      "source": [
        "#Check value counts\n",
        "data.Class.value_counts()"
      ],
      "metadata": {
        "colab": {
          "base_uri": "https://localhost:8080/"
        },
        "id": "Q6X0zbDv2Rh6",
        "outputId": "b6a32b62-85bd-4483-e6dd-18f25adb8caf"
      },
      "execution_count": 3,
      "outputs": [
        {
          "output_type": "execute_result",
          "data": {
            "text/plain": [
              "15    2836714\n",
              "18     685749\n",
              "5      607429\n",
              "17     512418\n",
              "6      375582\n",
              "14      92096\n",
              "1       79933\n",
              "16      70525\n",
              "8       55794\n",
              "10      18760\n",
              "Name: Class, dtype: int64"
            ]
          },
          "metadata": {},
          "execution_count": 3
        }
      ]
    },
    {
      "cell_type": "code",
      "source": [
        "# find nills is your dataframe\n",
        "print(data.isnull().sum())"
      ],
      "metadata": {
        "colab": {
          "base_uri": "https://localhost:8080/"
        },
        "id": "IXWnIU59yq4S",
        "outputId": "0f2140c3-92d5-4d13-88d0-aa2e62d799aa"
      },
      "execution_count": 19,
      "outputs": [
        {
          "output_type": "stream",
          "name": "stdout",
          "text": [
            "B1       0\n",
            "B2       0\n",
            "B3       0\n",
            "B4       0\n",
            "B5       0\n",
            "B6       0\n",
            "B7       0\n",
            "B8       0\n",
            "B9       0\n",
            "B10      0\n",
            "B11      0\n",
            "B12      0\n",
            "Class    0\n",
            "dtype: int64\n"
          ]
        }
      ]
    },
    {
      "cell_type": "code",
      "source": [
        "#SubSample ~100 000 for each class\n",
        "sample = data.groupby('Class').apply(lambda x: x.sample(n=18000)).reset_index(drop=True)\n",
        "sample.head(4)"
      ],
      "metadata": {
        "colab": {
          "base_uri": "https://localhost:8080/",
          "height": 173
        },
        "id": "uECRFzC9-VyK",
        "outputId": "bf636003-bf22-49ab-96d7-676a9de1179f"
      },
      "execution_count": 21,
      "outputs": [
        {
          "output_type": "execute_result",
          "data": {
            "text/plain": [
              "       B1      B2      B3      B4      B5      B6      B7      B8      B9  \\\n",
              "0  0.0965  0.0199  0.0400  0.0634  0.0142  0.0143  0.2823  0.3088  0.3198   \n",
              "1  0.0841  0.0192  0.0348  0.0526  0.0137  0.0157  0.2201  0.2351  0.2626   \n",
              "2  0.0973  0.0229  0.0379  0.0613  0.0143  0.0127  0.1984  0.1989  0.2166   \n",
              "3  0.0755  0.0156  0.0349  0.0378  0.0110  0.0234  0.1422  0.1467  0.1938   \n",
              "\n",
              "      B10     B11     B12  Class  \n",
              "0  0.3225  0.2343  0.0352      1  \n",
              "1  0.2453  0.1767  0.0295      1  \n",
              "2  0.1819  0.1470  0.0289      1  \n",
              "3  0.1425  0.1144  0.0232      1  "
            ],
            "text/html": [
              "\n",
              "  <div id=\"df-c2a70458-c833-4b05-802d-25bd89cb8b06\">\n",
              "    <div class=\"colab-df-container\">\n",
              "      <div>\n",
              "<style scoped>\n",
              "    .dataframe tbody tr th:only-of-type {\n",
              "        vertical-align: middle;\n",
              "    }\n",
              "\n",
              "    .dataframe tbody tr th {\n",
              "        vertical-align: top;\n",
              "    }\n",
              "\n",
              "    .dataframe thead th {\n",
              "        text-align: right;\n",
              "    }\n",
              "</style>\n",
              "<table border=\"1\" class=\"dataframe\">\n",
              "  <thead>\n",
              "    <tr style=\"text-align: right;\">\n",
              "      <th></th>\n",
              "      <th>B1</th>\n",
              "      <th>B2</th>\n",
              "      <th>B3</th>\n",
              "      <th>B4</th>\n",
              "      <th>B5</th>\n",
              "      <th>B6</th>\n",
              "      <th>B7</th>\n",
              "      <th>B8</th>\n",
              "      <th>B9</th>\n",
              "      <th>B10</th>\n",
              "      <th>B11</th>\n",
              "      <th>B12</th>\n",
              "      <th>Class</th>\n",
              "    </tr>\n",
              "  </thead>\n",
              "  <tbody>\n",
              "    <tr>\n",
              "      <th>0</th>\n",
              "      <td>0.0965</td>\n",
              "      <td>0.0199</td>\n",
              "      <td>0.0400</td>\n",
              "      <td>0.0634</td>\n",
              "      <td>0.0142</td>\n",
              "      <td>0.0143</td>\n",
              "      <td>0.2823</td>\n",
              "      <td>0.3088</td>\n",
              "      <td>0.3198</td>\n",
              "      <td>0.3225</td>\n",
              "      <td>0.2343</td>\n",
              "      <td>0.0352</td>\n",
              "      <td>1</td>\n",
              "    </tr>\n",
              "    <tr>\n",
              "      <th>1</th>\n",
              "      <td>0.0841</td>\n",
              "      <td>0.0192</td>\n",
              "      <td>0.0348</td>\n",
              "      <td>0.0526</td>\n",
              "      <td>0.0137</td>\n",
              "      <td>0.0157</td>\n",
              "      <td>0.2201</td>\n",
              "      <td>0.2351</td>\n",
              "      <td>0.2626</td>\n",
              "      <td>0.2453</td>\n",
              "      <td>0.1767</td>\n",
              "      <td>0.0295</td>\n",
              "      <td>1</td>\n",
              "    </tr>\n",
              "    <tr>\n",
              "      <th>2</th>\n",
              "      <td>0.0973</td>\n",
              "      <td>0.0229</td>\n",
              "      <td>0.0379</td>\n",
              "      <td>0.0613</td>\n",
              "      <td>0.0143</td>\n",
              "      <td>0.0127</td>\n",
              "      <td>0.1984</td>\n",
              "      <td>0.1989</td>\n",
              "      <td>0.2166</td>\n",
              "      <td>0.1819</td>\n",
              "      <td>0.1470</td>\n",
              "      <td>0.0289</td>\n",
              "      <td>1</td>\n",
              "    </tr>\n",
              "    <tr>\n",
              "      <th>3</th>\n",
              "      <td>0.0755</td>\n",
              "      <td>0.0156</td>\n",
              "      <td>0.0349</td>\n",
              "      <td>0.0378</td>\n",
              "      <td>0.0110</td>\n",
              "      <td>0.0234</td>\n",
              "      <td>0.1422</td>\n",
              "      <td>0.1467</td>\n",
              "      <td>0.1938</td>\n",
              "      <td>0.1425</td>\n",
              "      <td>0.1144</td>\n",
              "      <td>0.0232</td>\n",
              "      <td>1</td>\n",
              "    </tr>\n",
              "  </tbody>\n",
              "</table>\n",
              "</div>\n",
              "      <button class=\"colab-df-convert\" onclick=\"convertToInteractive('df-c2a70458-c833-4b05-802d-25bd89cb8b06')\"\n",
              "              title=\"Convert this dataframe to an interactive table.\"\n",
              "              style=\"display:none;\">\n",
              "        \n",
              "  <svg xmlns=\"http://www.w3.org/2000/svg\" height=\"24px\"viewBox=\"0 0 24 24\"\n",
              "       width=\"24px\">\n",
              "    <path d=\"M0 0h24v24H0V0z\" fill=\"none\"/>\n",
              "    <path d=\"M18.56 5.44l.94 2.06.94-2.06 2.06-.94-2.06-.94-.94-2.06-.94 2.06-2.06.94zm-11 1L8.5 8.5l.94-2.06 2.06-.94-2.06-.94L8.5 2.5l-.94 2.06-2.06.94zm10 10l.94 2.06.94-2.06 2.06-.94-2.06-.94-.94-2.06-.94 2.06-2.06.94z\"/><path d=\"M17.41 7.96l-1.37-1.37c-.4-.4-.92-.59-1.43-.59-.52 0-1.04.2-1.43.59L10.3 9.45l-7.72 7.72c-.78.78-.78 2.05 0 2.83L4 21.41c.39.39.9.59 1.41.59.51 0 1.02-.2 1.41-.59l7.78-7.78 2.81-2.81c.8-.78.8-2.07 0-2.86zM5.41 20L4 18.59l7.72-7.72 1.47 1.35L5.41 20z\"/>\n",
              "  </svg>\n",
              "      </button>\n",
              "      \n",
              "  <style>\n",
              "    .colab-df-container {\n",
              "      display:flex;\n",
              "      flex-wrap:wrap;\n",
              "      gap: 12px;\n",
              "    }\n",
              "\n",
              "    .colab-df-convert {\n",
              "      background-color: #E8F0FE;\n",
              "      border: none;\n",
              "      border-radius: 50%;\n",
              "      cursor: pointer;\n",
              "      display: none;\n",
              "      fill: #1967D2;\n",
              "      height: 32px;\n",
              "      padding: 0 0 0 0;\n",
              "      width: 32px;\n",
              "    }\n",
              "\n",
              "    .colab-df-convert:hover {\n",
              "      background-color: #E2EBFA;\n",
              "      box-shadow: 0px 1px 2px rgba(60, 64, 67, 0.3), 0px 1px 3px 1px rgba(60, 64, 67, 0.15);\n",
              "      fill: #174EA6;\n",
              "    }\n",
              "\n",
              "    [theme=dark] .colab-df-convert {\n",
              "      background-color: #3B4455;\n",
              "      fill: #D2E3FC;\n",
              "    }\n",
              "\n",
              "    [theme=dark] .colab-df-convert:hover {\n",
              "      background-color: #434B5C;\n",
              "      box-shadow: 0px 1px 3px 1px rgba(0, 0, 0, 0.15);\n",
              "      filter: drop-shadow(0px 1px 2px rgba(0, 0, 0, 0.3));\n",
              "      fill: #FFFFFF;\n",
              "    }\n",
              "  </style>\n",
              "\n",
              "      <script>\n",
              "        const buttonEl =\n",
              "          document.querySelector('#df-c2a70458-c833-4b05-802d-25bd89cb8b06 button.colab-df-convert');\n",
              "        buttonEl.style.display =\n",
              "          google.colab.kernel.accessAllowed ? 'block' : 'none';\n",
              "\n",
              "        async function convertToInteractive(key) {\n",
              "          const element = document.querySelector('#df-c2a70458-c833-4b05-802d-25bd89cb8b06');\n",
              "          const dataTable =\n",
              "            await google.colab.kernel.invokeFunction('convertToInteractive',\n",
              "                                                     [key], {});\n",
              "          if (!dataTable) return;\n",
              "\n",
              "          const docLinkHtml = 'Like what you see? Visit the ' +\n",
              "            '<a target=\"_blank\" href=https://colab.research.google.com/notebooks/data_table.ipynb>data table notebook</a>'\n",
              "            + ' to learn more about interactive tables.';\n",
              "          element.innerHTML = '';\n",
              "          dataTable['output_type'] = 'display_data';\n",
              "          await google.colab.output.renderOutput(dataTable, element);\n",
              "          const docLink = document.createElement('div');\n",
              "          docLink.innerHTML = docLinkHtml;\n",
              "          element.appendChild(docLink);\n",
              "        }\n",
              "      </script>\n",
              "    </div>\n",
              "  </div>\n",
              "  "
            ]
          },
          "metadata": {},
          "execution_count": 21
        }
      ]
    },
    {
      "cell_type": "code",
      "source": [
        "#Create NDVI column (B8-B4)/(B8+B4)\n",
        "sample['NDVI'] = (sample.B8-sample.B4)/(sample.B8+sample.B4)\n",
        "#Create Moisture index (B8A-B11)/(B8A+B11)\n",
        "sample['Moisture'] = (sample.B12-sample.B10)/(sample.B12+sample.B10)\n",
        "#Create NDWI (B3-B8)/(B3+B8)\n",
        "sample['NDWI'] = (sample.B3-sample.B8)/(sample.B3+sample.B8)\n",
        "#create NDSI (B3-B11)/(B3+B11)\n",
        "sample['NDSI'] = (sample.B3-sample.B10)/(sample.B3+sample.B10)"
      ],
      "metadata": {
        "id": "S8hsyKnwwxNQ"
      },
      "execution_count": 22,
      "outputs": []
    },
    {
      "cell_type": "code",
      "source": [
        "#View new dataframe\n",
        "sample.head()"
      ],
      "metadata": {
        "colab": {
          "base_uri": "https://localhost:8080/",
          "height": 204
        },
        "id": "zizsoY0Jx3UH",
        "outputId": "dce8b69e-557e-480e-85f8-c4a6071b6105"
      },
      "execution_count": 23,
      "outputs": [
        {
          "output_type": "execute_result",
          "data": {
            "text/plain": [
              "       B1      B2      B3      B4      B5      B6      B7      B8      B9  \\\n",
              "0  0.0965  0.0199  0.0400  0.0634  0.0142  0.0143  0.2823  0.3088  0.3198   \n",
              "1  0.0841  0.0192  0.0348  0.0526  0.0137  0.0157  0.2201  0.2351  0.2626   \n",
              "2  0.0973  0.0229  0.0379  0.0613  0.0143  0.0127  0.1984  0.1989  0.2166   \n",
              "3  0.0755  0.0156  0.0349  0.0378  0.0110  0.0234  0.1422  0.1467  0.1938   \n",
              "4  0.1017  0.0306  0.0464  0.0777  0.0180  0.0170  0.2252  0.2512  0.2210   \n",
              "\n",
              "      B10     B11     B12  Class      NDVI  Moisture      NDWI      NDSI  \n",
              "0  0.3225  0.2343  0.0352      1  0.659323 -0.803187 -0.770642 -0.779310  \n",
              "1  0.2453  0.1767  0.0295      1  0.634341 -0.785298 -0.742127 -0.751517  \n",
              "2  0.1819  0.1470  0.0289      1  0.528824 -0.725806 -0.679899 -0.655141  \n",
              "3  0.1425  0.1144  0.0232      1  0.590244 -0.719976 -0.615639 -0.606539  \n",
              "4  0.2635  0.1950  0.0396      1  0.527516 -0.738700 -0.688172 -0.700549  "
            ],
            "text/html": [
              "\n",
              "  <div id=\"df-7945e4b9-c6ef-43ce-98d4-a15767c351d9\">\n",
              "    <div class=\"colab-df-container\">\n",
              "      <div>\n",
              "<style scoped>\n",
              "    .dataframe tbody tr th:only-of-type {\n",
              "        vertical-align: middle;\n",
              "    }\n",
              "\n",
              "    .dataframe tbody tr th {\n",
              "        vertical-align: top;\n",
              "    }\n",
              "\n",
              "    .dataframe thead th {\n",
              "        text-align: right;\n",
              "    }\n",
              "</style>\n",
              "<table border=\"1\" class=\"dataframe\">\n",
              "  <thead>\n",
              "    <tr style=\"text-align: right;\">\n",
              "      <th></th>\n",
              "      <th>B1</th>\n",
              "      <th>B2</th>\n",
              "      <th>B3</th>\n",
              "      <th>B4</th>\n",
              "      <th>B5</th>\n",
              "      <th>B6</th>\n",
              "      <th>B7</th>\n",
              "      <th>B8</th>\n",
              "      <th>B9</th>\n",
              "      <th>B10</th>\n",
              "      <th>B11</th>\n",
              "      <th>B12</th>\n",
              "      <th>Class</th>\n",
              "      <th>NDVI</th>\n",
              "      <th>Moisture</th>\n",
              "      <th>NDWI</th>\n",
              "      <th>NDSI</th>\n",
              "    </tr>\n",
              "  </thead>\n",
              "  <tbody>\n",
              "    <tr>\n",
              "      <th>0</th>\n",
              "      <td>0.0965</td>\n",
              "      <td>0.0199</td>\n",
              "      <td>0.0400</td>\n",
              "      <td>0.0634</td>\n",
              "      <td>0.0142</td>\n",
              "      <td>0.0143</td>\n",
              "      <td>0.2823</td>\n",
              "      <td>0.3088</td>\n",
              "      <td>0.3198</td>\n",
              "      <td>0.3225</td>\n",
              "      <td>0.2343</td>\n",
              "      <td>0.0352</td>\n",
              "      <td>1</td>\n",
              "      <td>0.659323</td>\n",
              "      <td>-0.803187</td>\n",
              "      <td>-0.770642</td>\n",
              "      <td>-0.779310</td>\n",
              "    </tr>\n",
              "    <tr>\n",
              "      <th>1</th>\n",
              "      <td>0.0841</td>\n",
              "      <td>0.0192</td>\n",
              "      <td>0.0348</td>\n",
              "      <td>0.0526</td>\n",
              "      <td>0.0137</td>\n",
              "      <td>0.0157</td>\n",
              "      <td>0.2201</td>\n",
              "      <td>0.2351</td>\n",
              "      <td>0.2626</td>\n",
              "      <td>0.2453</td>\n",
              "      <td>0.1767</td>\n",
              "      <td>0.0295</td>\n",
              "      <td>1</td>\n",
              "      <td>0.634341</td>\n",
              "      <td>-0.785298</td>\n",
              "      <td>-0.742127</td>\n",
              "      <td>-0.751517</td>\n",
              "    </tr>\n",
              "    <tr>\n",
              "      <th>2</th>\n",
              "      <td>0.0973</td>\n",
              "      <td>0.0229</td>\n",
              "      <td>0.0379</td>\n",
              "      <td>0.0613</td>\n",
              "      <td>0.0143</td>\n",
              "      <td>0.0127</td>\n",
              "      <td>0.1984</td>\n",
              "      <td>0.1989</td>\n",
              "      <td>0.2166</td>\n",
              "      <td>0.1819</td>\n",
              "      <td>0.1470</td>\n",
              "      <td>0.0289</td>\n",
              "      <td>1</td>\n",
              "      <td>0.528824</td>\n",
              "      <td>-0.725806</td>\n",
              "      <td>-0.679899</td>\n",
              "      <td>-0.655141</td>\n",
              "    </tr>\n",
              "    <tr>\n",
              "      <th>3</th>\n",
              "      <td>0.0755</td>\n",
              "      <td>0.0156</td>\n",
              "      <td>0.0349</td>\n",
              "      <td>0.0378</td>\n",
              "      <td>0.0110</td>\n",
              "      <td>0.0234</td>\n",
              "      <td>0.1422</td>\n",
              "      <td>0.1467</td>\n",
              "      <td>0.1938</td>\n",
              "      <td>0.1425</td>\n",
              "      <td>0.1144</td>\n",
              "      <td>0.0232</td>\n",
              "      <td>1</td>\n",
              "      <td>0.590244</td>\n",
              "      <td>-0.719976</td>\n",
              "      <td>-0.615639</td>\n",
              "      <td>-0.606539</td>\n",
              "    </tr>\n",
              "    <tr>\n",
              "      <th>4</th>\n",
              "      <td>0.1017</td>\n",
              "      <td>0.0306</td>\n",
              "      <td>0.0464</td>\n",
              "      <td>0.0777</td>\n",
              "      <td>0.0180</td>\n",
              "      <td>0.0170</td>\n",
              "      <td>0.2252</td>\n",
              "      <td>0.2512</td>\n",
              "      <td>0.2210</td>\n",
              "      <td>0.2635</td>\n",
              "      <td>0.1950</td>\n",
              "      <td>0.0396</td>\n",
              "      <td>1</td>\n",
              "      <td>0.527516</td>\n",
              "      <td>-0.738700</td>\n",
              "      <td>-0.688172</td>\n",
              "      <td>-0.700549</td>\n",
              "    </tr>\n",
              "  </tbody>\n",
              "</table>\n",
              "</div>\n",
              "      <button class=\"colab-df-convert\" onclick=\"convertToInteractive('df-7945e4b9-c6ef-43ce-98d4-a15767c351d9')\"\n",
              "              title=\"Convert this dataframe to an interactive table.\"\n",
              "              style=\"display:none;\">\n",
              "        \n",
              "  <svg xmlns=\"http://www.w3.org/2000/svg\" height=\"24px\"viewBox=\"0 0 24 24\"\n",
              "       width=\"24px\">\n",
              "    <path d=\"M0 0h24v24H0V0z\" fill=\"none\"/>\n",
              "    <path d=\"M18.56 5.44l.94 2.06.94-2.06 2.06-.94-2.06-.94-.94-2.06-.94 2.06-2.06.94zm-11 1L8.5 8.5l.94-2.06 2.06-.94-2.06-.94L8.5 2.5l-.94 2.06-2.06.94zm10 10l.94 2.06.94-2.06 2.06-.94-2.06-.94-.94-2.06-.94 2.06-2.06.94z\"/><path d=\"M17.41 7.96l-1.37-1.37c-.4-.4-.92-.59-1.43-.59-.52 0-1.04.2-1.43.59L10.3 9.45l-7.72 7.72c-.78.78-.78 2.05 0 2.83L4 21.41c.39.39.9.59 1.41.59.51 0 1.02-.2 1.41-.59l7.78-7.78 2.81-2.81c.8-.78.8-2.07 0-2.86zM5.41 20L4 18.59l7.72-7.72 1.47 1.35L5.41 20z\"/>\n",
              "  </svg>\n",
              "      </button>\n",
              "      \n",
              "  <style>\n",
              "    .colab-df-container {\n",
              "      display:flex;\n",
              "      flex-wrap:wrap;\n",
              "      gap: 12px;\n",
              "    }\n",
              "\n",
              "    .colab-df-convert {\n",
              "      background-color: #E8F0FE;\n",
              "      border: none;\n",
              "      border-radius: 50%;\n",
              "      cursor: pointer;\n",
              "      display: none;\n",
              "      fill: #1967D2;\n",
              "      height: 32px;\n",
              "      padding: 0 0 0 0;\n",
              "      width: 32px;\n",
              "    }\n",
              "\n",
              "    .colab-df-convert:hover {\n",
              "      background-color: #E2EBFA;\n",
              "      box-shadow: 0px 1px 2px rgba(60, 64, 67, 0.3), 0px 1px 3px 1px rgba(60, 64, 67, 0.15);\n",
              "      fill: #174EA6;\n",
              "    }\n",
              "\n",
              "    [theme=dark] .colab-df-convert {\n",
              "      background-color: #3B4455;\n",
              "      fill: #D2E3FC;\n",
              "    }\n",
              "\n",
              "    [theme=dark] .colab-df-convert:hover {\n",
              "      background-color: #434B5C;\n",
              "      box-shadow: 0px 1px 3px 1px rgba(0, 0, 0, 0.15);\n",
              "      filter: drop-shadow(0px 1px 2px rgba(0, 0, 0, 0.3));\n",
              "      fill: #FFFFFF;\n",
              "    }\n",
              "  </style>\n",
              "\n",
              "      <script>\n",
              "        const buttonEl =\n",
              "          document.querySelector('#df-7945e4b9-c6ef-43ce-98d4-a15767c351d9 button.colab-df-convert');\n",
              "        buttonEl.style.display =\n",
              "          google.colab.kernel.accessAllowed ? 'block' : 'none';\n",
              "\n",
              "        async function convertToInteractive(key) {\n",
              "          const element = document.querySelector('#df-7945e4b9-c6ef-43ce-98d4-a15767c351d9');\n",
              "          const dataTable =\n",
              "            await google.colab.kernel.invokeFunction('convertToInteractive',\n",
              "                                                     [key], {});\n",
              "          if (!dataTable) return;\n",
              "\n",
              "          const docLinkHtml = 'Like what you see? Visit the ' +\n",
              "            '<a target=\"_blank\" href=https://colab.research.google.com/notebooks/data_table.ipynb>data table notebook</a>'\n",
              "            + ' to learn more about interactive tables.';\n",
              "          element.innerHTML = '';\n",
              "          dataTable['output_type'] = 'display_data';\n",
              "          await google.colab.output.renderOutput(dataTable, element);\n",
              "          const docLink = document.createElement('div');\n",
              "          docLink.innerHTML = docLinkHtml;\n",
              "          element.appendChild(docLink);\n",
              "        }\n",
              "      </script>\n",
              "    </div>\n",
              "  </div>\n",
              "  "
            ]
          },
          "metadata": {},
          "execution_count": 23
        }
      ]
    },
    {
      "cell_type": "code",
      "source": [
        "#Ensure that all values are float32\n",
        "np.where(sample.values >= np.finfo(np.float32).max)"
      ],
      "metadata": {
        "colab": {
          "base_uri": "https://localhost:8080/"
        },
        "id": "8cIKFSAZzBjY",
        "outputId": "be260678-9c09-4b58-b2be-e157c7af26dc"
      },
      "execution_count": 24,
      "outputs": [
        {
          "output_type": "execute_result",
          "data": {
            "text/plain": [
              "(array([], dtype=int64), array([], dtype=int64))"
            ]
          },
          "metadata": {},
          "execution_count": 24
        }
      ]
    },
    {
      "cell_type": "code",
      "source": [
        "#Split the Data\n",
        "y = sample['Class']\n",
        "X = sample.drop(['Class'], axis = 1)"
      ],
      "metadata": {
        "id": "jDW1ruIRqJwQ"
      },
      "execution_count": 25,
      "outputs": []
    },
    {
      "cell_type": "code",
      "source": [
        "#Apply standardscaler \n",
        "scaler = StandardScaler()\n",
        "X = scaler.fit_transform(X)"
      ],
      "metadata": {
        "id": "x6fuc47dqXuw"
      },
      "execution_count": 26,
      "outputs": []
    },
    {
      "cell_type": "code",
      "source": [
        "#Print data shapes\n",
        "print(X.shape)\n",
        "print(y.shape)"
      ],
      "metadata": {
        "colab": {
          "base_uri": "https://localhost:8080/"
        },
        "id": "EbMtf6Ttsm9v",
        "outputId": "37797fa8-3f30-4e23-e106-ab2ab1ccbd71"
      },
      "execution_count": 27,
      "outputs": [
        {
          "output_type": "stream",
          "name": "stdout",
          "text": [
            "(180000, 16)\n",
            "(180000,)\n"
          ]
        }
      ]
    },
    {
      "cell_type": "code",
      "source": [
        "#Split into training and test data\n",
        "X_train, X_test, y_train, y_test = train_test_split(X, y, \n",
        "                                                    test_size = 0.3, \n",
        "                                                    stratify = y, \n",
        "                                                    random_state=42)"
      ],
      "metadata": {
        "id": "39Wtn8ewtI_v"
      },
      "execution_count": 28,
      "outputs": []
    },
    {
      "cell_type": "code",
      "source": [
        "#Instantiate Random Fore\n",
        "rfc = RandomForestClassifier(random_state=42)\n",
        "\n",
        "#Fit training data\n",
        "rfc.fit(X_train, y_train)"
      ],
      "metadata": {
        "colab": {
          "base_uri": "https://localhost:8080/"
        },
        "id": "E6LuNuqiss81",
        "outputId": "c3928b74-2f97-4df9-f92e-2eeb9968dc3d"
      },
      "execution_count": 29,
      "outputs": [
        {
          "output_type": "execute_result",
          "data": {
            "text/plain": [
              "RandomForestClassifier(random_state=42)"
            ]
          },
          "metadata": {},
          "execution_count": 29
        }
      ]
    },
    {
      "cell_type": "code",
      "source": [
        "#Predict X_test\n",
        "y_prediction = rfc.predict(X_test)\n",
        "\n",
        "#Print measure scores\n",
        "print(f\"Accuracy: {accuracy_score(y_test, y_prediction)}\")\n",
        "print(f\"F1 Score: {f1_score(y_test, y_prediction, average='micro')}\")\n",
        "print(f\"Precision Score: {precision_score(y_test, y_prediction, average='micro')}\")\n",
        "print(f\"Recall Score: {recall_score(y_test, y_prediction, average='micro')}\")\n",
        "print(f\"ROC AUC Score: {roc_auc_score(y_test, rfc.predict_proba(X_test),multi_class='ovr', average='macro')}\")\n",
        "\n",
        "#print full classification report\n",
        "print(classification_report(y_test, y_prediction))"
      ],
      "metadata": {
        "id": "tYL0OTbPtxOs",
        "colab": {
          "base_uri": "https://localhost:8080/"
        },
        "outputId": "73d3a31c-6f63-4311-db12-8fe94461cc19"
      },
      "execution_count": 30,
      "outputs": [
        {
          "output_type": "stream",
          "name": "stdout",
          "text": [
            "Accuracy: 0.5403333333333333\n",
            "F1 Score: 0.5403333333333333\n",
            "Precision Score: 0.5403333333333333\n",
            "Recall Score: 0.5403333333333333\n",
            "ROC AUC Score: 0.8846796290580704\n",
            "              precision    recall  f1-score   support\n",
            "\n",
            "           1       0.58      0.64      0.61      5400\n",
            "           5       0.43      0.47      0.45      5400\n",
            "           6       0.42      0.49      0.46      5400\n",
            "           8       0.44      0.30      0.36      5400\n",
            "          10       0.49      0.34      0.40      5400\n",
            "          14       0.66      0.73      0.70      5400\n",
            "          15       0.49      0.51      0.50      5400\n",
            "          16       0.39      0.35      0.37      5400\n",
            "          17       0.49      0.61      0.54      5400\n",
            "          18       0.98      0.96      0.97      5400\n",
            "\n",
            "    accuracy                           0.54     54000\n",
            "   macro avg       0.54      0.54      0.53     54000\n",
            "weighted avg       0.54      0.54      0.53     54000\n",
            "\n"
          ]
        }
      ]
    },
    {
      "cell_type": "code",
      "source": [
        "#Create a confusion matrix\n",
        "matrix = confusion_matrix(y_test, y_prediction)\n",
        "\n",
        "#Visualize the matrix with Seaborn\n",
        "\n",
        "#Write title to display accuracy score\n",
        "score = accuracy_score(y_test, y_prediction)\n",
        "all_sample_title = 'RF Accuracy Score: {0}'.format(score)\n",
        "\n",
        "#Set figure shape\n",
        "plt.figure(figsize=(9,9))\n",
        "\n",
        "#Use heatmap\n",
        "p = sns.heatmap(matrix, annot=True, fmt=\".3f\", linewidths=0.5, square=True, cmap=\"mako\")\n",
        "\n",
        "#Label the plot\n",
        "p.set_ylabel('Actual Label', size=16)\n",
        "p.set_xlabel('Predicted Label', size = 16)\n",
        "p.set_title(all_sample_title, size = 18)"
      ],
      "metadata": {
        "id": "_2-xBVulunIT",
        "colab": {
          "base_uri": "https://localhost:8080/",
          "height": 537
        },
        "outputId": "292b2b4b-73b7-46fc-ad7c-095e652d4aa3"
      },
      "execution_count": 31,
      "outputs": [
        {
          "output_type": "execute_result",
          "data": {
            "text/plain": [
              "Text(0.5, 1.0, 'RF Accuracy Score: 0.5403333333333333')"
            ]
          },
          "metadata": {},
          "execution_count": 31
        },
        {
          "output_type": "display_data",
          "data": {
            "text/plain": [
              "<Figure size 648x648 with 2 Axes>"
            ],
            "image/png": "[encoded data removed]"
          },
          "metadata": {
            "needs_background": "light"
          }
        }
      ]
    },
    {
      "cell_type": "code",
      "source": [
        "#Find which features were most important\n",
        "importances = rfc.feature_importances_\n",
        "std = np.std([tree.feature_importances_ for tree in rfc.estimators_], axis=0)\n",
        "feature_names = [f\"feature {i}\" for i in range(X.shape[1])]\n",
        "\n",
        "forest_importances = pd.Series(importances, index=feature_names)\n",
        "\n",
        "fig, ax = plt.subplots()\n",
        "forest_importances.plot.bar(yerr=std, ax=ax)\n",
        "ax.set_title(\"Feature importances using MDI\")\n",
        "ax.set_ylabel(\"Mean decrease in impurity\")\n",
        "fig.tight_layout()"
      ],
      "metadata": {
        "colab": {
          "base_uri": "https://localhost:8080/",
          "height": 297
        },
        "id": "ksl0DiaV0KDe",
        "outputId": "58d57f15-fa08-4be5-8c0a-7b18584a4dc6"
      },
      "execution_count": 33,
      "outputs": [
        {
          "output_type": "display_data",
          "data": {
            "text/plain": [
              "<Figure size 432x288 with 1 Axes>"
            ],
            "image/png": "[encoded data removed]"
          },
          "metadata": {
            "needs_background": "light"
          }
        }
      ]
    },
    {
      "cell_type": "code",
      "source": [
        ""
      ],
      "metadata": {
        "id": "s0DyQZm50Ve5"
      },
      "execution_count": null,
      "outputs": []
    }
  ]
}