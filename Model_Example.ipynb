{
  "nbformat": 4,
  "nbformat_minor": 0,
  "metadata": {
    "colab": {
      "name": "Untitled2.ipynb",
      "provenance": [],
      "collapsed_sections": [],
      "machine_shape": "hm",
      "authorship_tag": "ABX9TyM5yoUXsArIEBOJJFrDbCoh",
      "include_colab_link": true
    },
    "kernelspec": {
      "name": "python3",
      "display_name": "Python 3"
    },
    "language_info": {
      "name": "python"
    }
  },
  "cells": [
    {
      "cell_type": "markdown",
      "metadata": {
        "id": "view-in-github",
        "colab_type": "text"
      },
      "source": [
        "<a href=\"https://colab.research.google.com/github/MudSnail/Land_Cover_Classification/blob/main/Model_Example.ipynb\" target=\"_parent\"><img src=\"https://colab.research.google.com/assets/colab-badge.svg\" alt=\"Open In Colab\"/></a>"
      ]
    },
    {
      "cell_type": "code",
      "source": [
        "#Increase RAM size \n",
        "a = []\n",
        "while(1):\n",
        "  a.append('1')"
      ],
      "metadata": {
        "id": "YBaFJg_fyFD2"
      },
      "execution_count": null,
      "outputs": []
    },
    {
      "cell_type": "code",
      "execution_count": 1,
      "metadata": {
        "colab": {
          "base_uri": "https://localhost:8080/"
        },
        "id": "xtUtdbAgpWgZ",
        "outputId": "e5469386-055b-44ef-c8e6-e27134b51d0d"
      },
      "outputs": [
        {
          "output_type": "stream",
          "name": "stdout",
          "text": [
            "Mounted at /content/drive\n"
          ]
        }
      ],
      "source": [
        "#Mount to Drive\n",
        "from google.colab import drive\n",
        "drive.mount('/content/drive')\n",
        "\n",
        "#Import Pandas and Numpy\n",
        "import pandas as pd\n",
        "import numpy as np\n",
        "\n",
        "#Import Sklearn\n",
        "from sklearn.preprocessing import StandardScaler\n",
        "from sklearn.model_selection import train_test_split\n",
        "from sklearn.ensemble import RandomForestClassifier\n",
        "from sklearn.metrics import accuracy_score, classification_report, confusion_matrix, f1_score, roc_auc_score, precision_score, recall_score\n",
        "\n",
        "#Visualizations\n",
        "import matplotlib.pyplot as plt\n",
        "import seaborn as sns\n",
        "\n",
        "#misc\n",
        "import copy\n",
        "import warnings\n",
        "warnings.filterwarnings('ignore')"
      ]
    },
    {
      "cell_type": "markdown",
      "source": [
        "# Read in Data"
      ],
      "metadata": {
        "id": "PmgTexo8SO61"
      }
    },
    {
      "cell_type": "code",
      "source": [
        "#Load Data\n",
        "data = pd.read_csv('/content/drive/MyDrive/james_bay_data.csv')\n",
        "data.head()"
      ],
      "metadata": {
        "colab": {
          "base_uri": "https://localhost:8080/",
          "height": 204
        },
        "id": "NXO0fcicqBqS",
        "outputId": "fa5d9d6b-76b5-4ff9-8fad-920eb37114e8"
      },
      "execution_count": 2,
      "outputs": [
        {
          "output_type": "execute_result",
          "data": {
            "text/plain": [
              "      B01     B06     B11     B07     B05     B03     B09     B12     B8A  \\\n",
              "0  0.0055  0.0017  0.0009  0.0016  0.0026  0.0056  0.0001  0.0009  0.0003   \n",
              "1  0.0054  0.0020  0.0009  0.0017  0.0021  0.0060  0.0001  0.0005  0.0007   \n",
              "2  0.0058  0.0018  0.0007  0.0016  0.0028  0.0060  0.0001  0.0008  0.0007   \n",
              "3  0.0057  0.0016  0.0007  0.0016  0.0023  0.0058  0.0001  0.0012  0.0006   \n",
              "4  0.0066  0.0013  0.0008  0.0020  0.0029  0.0059  0.0001  0.0008  0.0005   \n",
              "\n",
              "      B04     B08     B02  Class  \n",
              "0  0.0032  0.0012  0.0114      0  \n",
              "1  0.0028  0.0014  0.0115      0  \n",
              "2  0.0030  0.0012  0.0124      0  \n",
              "3  0.0031  0.0011  0.0119      0  \n",
              "4  0.0030  0.0014  0.0115      0  "
            ],
            "text/html": [
              "\n",
              "  <div id=\"df-b0085ce1-66e2-46f6-9f47-2b1df06fe34c\">\n",
              "    <div class=\"colab-df-container\">\n",
              "      <div>\n",
              "<style scoped>\n",
              "    .dataframe tbody tr th:only-of-type {\n",
              "        vertical-align: middle;\n",
              "    }\n",
              "\n",
              "    .dataframe tbody tr th {\n",
              "        vertical-align: top;\n",
              "    }\n",
              "\n",
              "    .dataframe thead th {\n",
              "        text-align: right;\n",
              "    }\n",
              "</style>\n",
              "<table border=\"1\" class=\"dataframe\">\n",
              "  <thead>\n",
              "    <tr style=\"text-align: right;\">\n",
              "      <th></th>\n",
              "      <th>B01</th>\n",
              "      <th>B06</th>\n",
              "      <th>B11</th>\n",
              "      <th>B07</th>\n",
              "      <th>B05</th>\n",
              "      <th>B03</th>\n",
              "      <th>B09</th>\n",
              "      <th>B12</th>\n",
              "      <th>B8A</th>\n",
              "      <th>B04</th>\n",
              "      <th>B08</th>\n",
              "      <th>B02</th>\n",
              "      <th>Class</th>\n",
              "    </tr>\n",
              "  </thead>\n",
              "  <tbody>\n",
              "    <tr>\n",
              "      <th>0</th>\n",
              "      <td>0.0055</td>\n",
              "      <td>0.0017</td>\n",
              "      <td>0.0009</td>\n",
              "      <td>0.0016</td>\n",
              "      <td>0.0026</td>\n",
              "      <td>0.0056</td>\n",
              "      <td>0.0001</td>\n",
              "      <td>0.0009</td>\n",
              "      <td>0.0003</td>\n",
              "      <td>0.0032</td>\n",
              "      <td>0.0012</td>\n",
              "      <td>0.0114</td>\n",
              "      <td>0</td>\n",
              "    </tr>\n",
              "    <tr>\n",
              "      <th>1</th>\n",
              "      <td>0.0054</td>\n",
              "      <td>0.0020</td>\n",
              "      <td>0.0009</td>\n",
              "      <td>0.0017</td>\n",
              "      <td>0.0021</td>\n",
              "      <td>0.0060</td>\n",
              "      <td>0.0001</td>\n",
              "      <td>0.0005</td>\n",
              "      <td>0.0007</td>\n",
              "      <td>0.0028</td>\n",
              "      <td>0.0014</td>\n",
              "      <td>0.0115</td>\n",
              "      <td>0</td>\n",
              "    </tr>\n",
              "    <tr>\n",
              "      <th>2</th>\n",
              "      <td>0.0058</td>\n",
              "      <td>0.0018</td>\n",
              "      <td>0.0007</td>\n",
              "      <td>0.0016</td>\n",
              "      <td>0.0028</td>\n",
              "      <td>0.0060</td>\n",
              "      <td>0.0001</td>\n",
              "      <td>0.0008</td>\n",
              "      <td>0.0007</td>\n",
              "      <td>0.0030</td>\n",
              "      <td>0.0012</td>\n",
              "      <td>0.0124</td>\n",
              "      <td>0</td>\n",
              "    </tr>\n",
              "    <tr>\n",
              "      <th>3</th>\n",
              "      <td>0.0057</td>\n",
              "      <td>0.0016</td>\n",
              "      <td>0.0007</td>\n",
              "      <td>0.0016</td>\n",
              "      <td>0.0023</td>\n",
              "      <td>0.0058</td>\n",
              "      <td>0.0001</td>\n",
              "      <td>0.0012</td>\n",
              "      <td>0.0006</td>\n",
              "      <td>0.0031</td>\n",
              "      <td>0.0011</td>\n",
              "      <td>0.0119</td>\n",
              "      <td>0</td>\n",
              "    </tr>\n",
              "    <tr>\n",
              "      <th>4</th>\n",
              "      <td>0.0066</td>\n",
              "      <td>0.0013</td>\n",
              "      <td>0.0008</td>\n",
              "      <td>0.0020</td>\n",
              "      <td>0.0029</td>\n",
              "      <td>0.0059</td>\n",
              "      <td>0.0001</td>\n",
              "      <td>0.0008</td>\n",
              "      <td>0.0005</td>\n",
              "      <td>0.0030</td>\n",
              "      <td>0.0014</td>\n",
              "      <td>0.0115</td>\n",
              "      <td>0</td>\n",
              "    </tr>\n",
              "  </tbody>\n",
              "</table>\n",
              "</div>\n",
              "      <button class=\"colab-df-convert\" onclick=\"convertToInteractive('df-b0085ce1-66e2-46f6-9f47-2b1df06fe34c')\"\n",
              "              title=\"Convert this dataframe to an interactive table.\"\n",
              "              style=\"display:none;\">\n",
              "        \n",
              "  <svg xmlns=\"http://www.w3.org/2000/svg\" height=\"24px\"viewBox=\"0 0 24 24\"\n",
              "       width=\"24px\">\n",
              "    <path d=\"M0 0h24v24H0V0z\" fill=\"none\"/>\n",
              "    <path d=\"M18.56 5.44l.94 2.06.94-2.06 2.06-.94-2.06-.94-.94-2.06-.94 2.06-2.06.94zm-11 1L8.5 8.5l.94-2.06 2.06-.94-2.06-.94L8.5 2.5l-.94 2.06-2.06.94zm10 10l.94 2.06.94-2.06 2.06-.94-2.06-.94-.94-2.06-.94 2.06-2.06.94z\"/><path d=\"M17.41 7.96l-1.37-1.37c-.4-.4-.92-.59-1.43-.59-.52 0-1.04.2-1.43.59L10.3 9.45l-7.72 7.72c-.78.78-.78 2.05 0 2.83L4 21.41c.39.39.9.59 1.41.59.51 0 1.02-.2 1.41-.59l7.78-7.78 2.81-2.81c.8-.78.8-2.07 0-2.86zM5.41 20L4 18.59l7.72-7.72 1.47 1.35L5.41 20z\"/>\n",
              "  </svg>\n",
              "      </button>\n",
              "      \n",
              "  <style>\n",
              "    .colab-df-container {\n",
              "      display:flex;\n",
              "      flex-wrap:wrap;\n",
              "      gap: 12px;\n",
              "    }\n",
              "\n",
              "    .colab-df-convert {\n",
              "      background-color: #E8F0FE;\n",
              "      border: none;\n",
              "      border-radius: 50%;\n",
              "      cursor: pointer;\n",
              "      display: none;\n",
              "      fill: #1967D2;\n",
              "      height: 32px;\n",
              "      padding: 0 0 0 0;\n",
              "      width: 32px;\n",
              "    }\n",
              "\n",
              "    .colab-df-convert:hover {\n",
              "      background-color: #E2EBFA;\n",
              "      box-shadow: 0px 1px 2px rgba(60, 64, 67, 0.3), 0px 1px 3px 1px rgba(60, 64, 67, 0.15);\n",
              "      fill: #174EA6;\n",
              "    }\n",
              "\n",
              "    [theme=dark] .colab-df-convert {\n",
              "      background-color: #3B4455;\n",
              "      fill: #D2E3FC;\n",
              "    }\n",
              "\n",
              "    [theme=dark] .colab-df-convert:hover {\n",
              "      background-color: #434B5C;\n",
              "      box-shadow: 0px 1px 3px 1px rgba(0, 0, 0, 0.15);\n",
              "      filter: drop-shadow(0px 1px 2px rgba(0, 0, 0, 0.3));\n",
              "      fill: #FFFFFF;\n",
              "    }\n",
              "  </style>\n",
              "\n",
              "      <script>\n",
              "        const buttonEl =\n",
              "          document.querySelector('#df-b0085ce1-66e2-46f6-9f47-2b1df06fe34c button.colab-df-convert');\n",
              "        buttonEl.style.display =\n",
              "          google.colab.kernel.accessAllowed ? 'block' : 'none';\n",
              "\n",
              "        async function convertToInteractive(key) {\n",
              "          const element = document.querySelector('#df-b0085ce1-66e2-46f6-9f47-2b1df06fe34c');\n",
              "          const dataTable =\n",
              "            await google.colab.kernel.invokeFunction('convertToInteractive',\n",
              "                                                     [key], {});\n",
              "          if (!dataTable) return;\n",
              "\n",
              "          const docLinkHtml = 'Like what you see? Visit the ' +\n",
              "            '<a target=\"_blank\" href=https://colab.research.google.com/notebooks/data_table.ipynb>data table notebook</a>'\n",
              "            + ' to learn more about interactive tables.';\n",
              "          element.innerHTML = '';\n",
              "          dataTable['output_type'] = 'display_data';\n",
              "          await google.colab.output.renderOutput(dataTable, element);\n",
              "          const docLink = document.createElement('div');\n",
              "          docLink.innerHTML = docLinkHtml;\n",
              "          element.appendChild(docLink);\n",
              "        }\n",
              "      </script>\n",
              "    </div>\n",
              "  </div>\n",
              "  "
            ]
          },
          "metadata": {},
          "execution_count": 2
        }
      ]
    },
    {
      "cell_type": "code",
      "source": [
        "#Check value counts\n",
        "data.Class.value_counts()"
      ],
      "metadata": {
        "colab": {
          "base_uri": "https://localhost:8080/"
        },
        "id": "Q6X0zbDv2Rh6",
        "outputId": "caeb4086-841b-4dbd-f5ad-31a6c9ccce9c"
      },
      "execution_count": 3,
      "outputs": [
        {
          "output_type": "execute_result",
          "data": {
            "text/plain": [
              "1     582967\n",
              "8     508063\n",
              "18    260790\n",
              "2     134079\n",
              "12    113461\n",
              "10     67576\n",
              "5      54330\n",
              "16     32239\n",
              "13     13597\n",
              "14      1986\n",
              "0        773\n",
              "6        591\n",
              "17       512\n",
              "11       286\n",
              "Name: Class, dtype: int64"
            ]
          },
          "metadata": {},
          "execution_count": 3
        }
      ]
    },
    {
      "cell_type": "code",
      "source": [
        "#Remove rows with classes < 15000 data points\n",
        "values = [0,6,11,13,14,17]\n",
        "data = data[data.Class.isin(values) == False]\n",
        "\n",
        "#Check value counts\n",
        "data.Class.value_counts()"
      ],
      "metadata": {
        "id": "PlIqoMu8cuZV",
        "outputId": "8e51cc4a-fa1b-4c16-e319-ded6485f3a9e",
        "colab": {
          "base_uri": "https://localhost:8080/"
        }
      },
      "execution_count": 4,
      "outputs": [
        {
          "output_type": "execute_result",
          "data": {
            "text/plain": [
              "1     582967\n",
              "8     508063\n",
              "18    260790\n",
              "2     134079\n",
              "12    113461\n",
              "10     67576\n",
              "5      54330\n",
              "16     32239\n",
              "Name: Class, dtype: int64"
            ]
          },
          "metadata": {},
          "execution_count": 4
        }
      ]
    },
    {
      "cell_type": "markdown",
      "source": [
        "# Create Subsample of Data And Feature Engineering"
      ],
      "metadata": {
        "id": "s9ZWS5h6SVgQ"
      }
    },
    {
      "cell_type": "code",
      "source": [
        "#SubSample ~100 000 for each class\n",
        "sample = data.groupby('Class').apply(lambda x: x.sample(n=30000)).reset_index(drop=True)\n",
        "sample.head(4)"
      ],
      "metadata": {
        "colab": {
          "base_uri": "https://localhost:8080/",
          "height": 173
        },
        "id": "uECRFzC9-VyK",
        "outputId": "2f71733f-f126-46aa-b91b-0166dfe9df50"
      },
      "execution_count": 5,
      "outputs": [
        {
          "output_type": "execute_result",
          "data": {
            "text/plain": [
              "      B01     B06     B11     B07     B05     B03     B09     B12     B8A  \\\n",
              "0  0.0125  0.1705  0.1521  0.1873  0.1034  0.0444  0.2001  0.0838  0.2044   \n",
              "1  0.0052  0.1402  0.1134  0.1616  0.0693  0.0331  0.1754  0.0609  0.1791   \n",
              "2  0.0079  0.1329  0.1082  0.1513  0.0728  0.0351  0.1646  0.0580  0.1717   \n",
              "3  0.0050  0.1187  0.0897  0.1362  0.0563  0.0276  0.1531  0.0449  0.1502   \n",
              "\n",
              "      B04     B08     B02  Class  \n",
              "0  0.0457  0.1998  0.0304      1  \n",
              "1  0.0264  0.1746  0.0179      1  \n",
              "2  0.0316  0.1663  0.0216      1  \n",
              "3  0.0195  0.1441  0.0159      1  "
            ],
            "text/html": [
              "\n",
              "  <div id=\"df-9ddcf9cd-87b7-4d4c-99b4-d797fa435eac\">\n",
              "    <div class=\"colab-df-container\">\n",
              "      <div>\n",
              "<style scoped>\n",
              "    .dataframe tbody tr th:only-of-type {\n",
              "        vertical-align: middle;\n",
              "    }\n",
              "\n",
              "    .dataframe tbody tr th {\n",
              "        vertical-align: top;\n",
              "    }\n",
              "\n",
              "    .dataframe thead th {\n",
              "        text-align: right;\n",
              "    }\n",
              "</style>\n",
              "<table border=\"1\" class=\"dataframe\">\n",
              "  <thead>\n",
              "    <tr style=\"text-align: right;\">\n",
              "      <th></th>\n",
              "      <th>B01</th>\n",
              "      <th>B06</th>\n",
              "      <th>B11</th>\n",
              "      <th>B07</th>\n",
              "      <th>B05</th>\n",
              "      <th>B03</th>\n",
              "      <th>B09</th>\n",
              "      <th>B12</th>\n",
              "      <th>B8A</th>\n",
              "      <th>B04</th>\n",
              "      <th>B08</th>\n",
              "      <th>B02</th>\n",
              "      <th>Class</th>\n",
              "    </tr>\n",
              "  </thead>\n",
              "  <tbody>\n",
              "    <tr>\n",
              "      <th>0</th>\n",
              "      <td>0.0125</td>\n",
              "      <td>0.1705</td>\n",
              "      <td>0.1521</td>\n",
              "      <td>0.1873</td>\n",
              "      <td>0.1034</td>\n",
              "      <td>0.0444</td>\n",
              "      <td>0.2001</td>\n",
              "      <td>0.0838</td>\n",
              "      <td>0.2044</td>\n",
              "      <td>0.0457</td>\n",
              "      <td>0.1998</td>\n",
              "      <td>0.0304</td>\n",
              "      <td>1</td>\n",
              "    </tr>\n",
              "    <tr>\n",
              "      <th>1</th>\n",
              "      <td>0.0052</td>\n",
              "      <td>0.1402</td>\n",
              "      <td>0.1134</td>\n",
              "      <td>0.1616</td>\n",
              "      <td>0.0693</td>\n",
              "      <td>0.0331</td>\n",
              "      <td>0.1754</td>\n",
              "      <td>0.0609</td>\n",
              "      <td>0.1791</td>\n",
              "      <td>0.0264</td>\n",
              "      <td>0.1746</td>\n",
              "      <td>0.0179</td>\n",
              "      <td>1</td>\n",
              "    </tr>\n",
              "    <tr>\n",
              "      <th>2</th>\n",
              "      <td>0.0079</td>\n",
              "      <td>0.1329</td>\n",
              "      <td>0.1082</td>\n",
              "      <td>0.1513</td>\n",
              "      <td>0.0728</td>\n",
              "      <td>0.0351</td>\n",
              "      <td>0.1646</td>\n",
              "      <td>0.0580</td>\n",
              "      <td>0.1717</td>\n",
              "      <td>0.0316</td>\n",
              "      <td>0.1663</td>\n",
              "      <td>0.0216</td>\n",
              "      <td>1</td>\n",
              "    </tr>\n",
              "    <tr>\n",
              "      <th>3</th>\n",
              "      <td>0.0050</td>\n",
              "      <td>0.1187</td>\n",
              "      <td>0.0897</td>\n",
              "      <td>0.1362</td>\n",
              "      <td>0.0563</td>\n",
              "      <td>0.0276</td>\n",
              "      <td>0.1531</td>\n",
              "      <td>0.0449</td>\n",
              "      <td>0.1502</td>\n",
              "      <td>0.0195</td>\n",
              "      <td>0.1441</td>\n",
              "      <td>0.0159</td>\n",
              "      <td>1</td>\n",
              "    </tr>\n",
              "  </tbody>\n",
              "</table>\n",
              "</div>\n",
              "      <button class=\"colab-df-convert\" onclick=\"convertToInteractive('df-9ddcf9cd-87b7-4d4c-99b4-d797fa435eac')\"\n",
              "              title=\"Convert this dataframe to an interactive table.\"\n",
              "              style=\"display:none;\">\n",
              "        \n",
              "  <svg xmlns=\"http://www.w3.org/2000/svg\" height=\"24px\"viewBox=\"0 0 24 24\"\n",
              "       width=\"24px\">\n",
              "    <path d=\"M0 0h24v24H0V0z\" fill=\"none\"/>\n",
              "    <path d=\"M18.56 5.44l.94 2.06.94-2.06 2.06-.94-2.06-.94-.94-2.06-.94 2.06-2.06.94zm-11 1L8.5 8.5l.94-2.06 2.06-.94-2.06-.94L8.5 2.5l-.94 2.06-2.06.94zm10 10l.94 2.06.94-2.06 2.06-.94-2.06-.94-.94-2.06-.94 2.06-2.06.94z\"/><path d=\"M17.41 7.96l-1.37-1.37c-.4-.4-.92-.59-1.43-.59-.52 0-1.04.2-1.43.59L10.3 9.45l-7.72 7.72c-.78.78-.78 2.05 0 2.83L4 21.41c.39.39.9.59 1.41.59.51 0 1.02-.2 1.41-.59l7.78-7.78 2.81-2.81c.8-.78.8-2.07 0-2.86zM5.41 20L4 18.59l7.72-7.72 1.47 1.35L5.41 20z\"/>\n",
              "  </svg>\n",
              "      </button>\n",
              "      \n",
              "  <style>\n",
              "    .colab-df-container {\n",
              "      display:flex;\n",
              "      flex-wrap:wrap;\n",
              "      gap: 12px;\n",
              "    }\n",
              "\n",
              "    .colab-df-convert {\n",
              "      background-color: #E8F0FE;\n",
              "      border: none;\n",
              "      border-radius: 50%;\n",
              "      cursor: pointer;\n",
              "      display: none;\n",
              "      fill: #1967D2;\n",
              "      height: 32px;\n",
              "      padding: 0 0 0 0;\n",
              "      width: 32px;\n",
              "    }\n",
              "\n",
              "    .colab-df-convert:hover {\n",
              "      background-color: #E2EBFA;\n",
              "      box-shadow: 0px 1px 2px rgba(60, 64, 67, 0.3), 0px 1px 3px 1px rgba(60, 64, 67, 0.15);\n",
              "      fill: #174EA6;\n",
              "    }\n",
              "\n",
              "    [theme=dark] .colab-df-convert {\n",
              "      background-color: #3B4455;\n",
              "      fill: #D2E3FC;\n",
              "    }\n",
              "\n",
              "    [theme=dark] .colab-df-convert:hover {\n",
              "      background-color: #434B5C;\n",
              "      box-shadow: 0px 1px 3px 1px rgba(0, 0, 0, 0.15);\n",
              "      filter: drop-shadow(0px 1px 2px rgba(0, 0, 0, 0.3));\n",
              "      fill: #FFFFFF;\n",
              "    }\n",
              "  </style>\n",
              "\n",
              "      <script>\n",
              "        const buttonEl =\n",
              "          document.querySelector('#df-9ddcf9cd-87b7-4d4c-99b4-d797fa435eac button.colab-df-convert');\n",
              "        buttonEl.style.display =\n",
              "          google.colab.kernel.accessAllowed ? 'block' : 'none';\n",
              "\n",
              "        async function convertToInteractive(key) {\n",
              "          const element = document.querySelector('#df-9ddcf9cd-87b7-4d4c-99b4-d797fa435eac');\n",
              "          const dataTable =\n",
              "            await google.colab.kernel.invokeFunction('convertToInteractive',\n",
              "                                                     [key], {});\n",
              "          if (!dataTable) return;\n",
              "\n",
              "          const docLinkHtml = 'Like what you see? Visit the ' +\n",
              "            '<a target=\"_blank\" href=https://colab.research.google.com/notebooks/data_table.ipynb>data table notebook</a>'\n",
              "            + ' to learn more about interactive tables.';\n",
              "          element.innerHTML = '';\n",
              "          dataTable['output_type'] = 'display_data';\n",
              "          await google.colab.output.renderOutput(dataTable, element);\n",
              "          const docLink = document.createElement('div');\n",
              "          docLink.innerHTML = docLinkHtml;\n",
              "          element.appendChild(docLink);\n",
              "        }\n",
              "      </script>\n",
              "    </div>\n",
              "  </div>\n",
              "  "
            ]
          },
          "metadata": {},
          "execution_count": 5
        }
      ]
    },
    {
      "cell_type": "code",
      "source": [
        "#Create NDVI column (B08-B04)/(B08+B04)\n",
        "sample['NDVI'] = (sample.B08-sample.B04)/(sample.B08+sample.B04)\n",
        "#Create Moisture index (B8A-B11)/(B8A+B11)\n",
        "sample['Moisture'] = (sample.B8A-sample.B11)/(sample.B8A+sample.B11)\n",
        "#Create NDWI (B3-B8)/(B3+B8)\n",
        "sample['NDWI'] = (sample.B03-sample.B08)/(sample.B03+sample.B08)\n",
        "#create NDSI (B3-B11)/(B3+B11)\n",
        "sample['NDSI'] = (sample.B03-sample.B11)/(sample.B03+sample.B11)"
      ],
      "metadata": {
        "id": "S8hsyKnwwxNQ"
      },
      "execution_count": 6,
      "outputs": []
    },
    {
      "cell_type": "code",
      "source": [
        "#View new dataframe\n",
        "sample.head()"
      ],
      "metadata": {
        "colab": {
          "base_uri": "https://localhost:8080/",
          "height": 204
        },
        "id": "zizsoY0Jx3UH",
        "outputId": "ceab0de4-7a95-439b-d9fe-a2c30e0029e7"
      },
      "execution_count": 7,
      "outputs": [
        {
          "output_type": "execute_result",
          "data": {
            "text/plain": [
              "      B01     B06     B11     B07     B05     B03     B09     B12     B8A  \\\n",
              "0  0.0125  0.1705  0.1521  0.1873  0.1034  0.0444  0.2001  0.0838  0.2044   \n",
              "1  0.0052  0.1402  0.1134  0.1616  0.0693  0.0331  0.1754  0.0609  0.1791   \n",
              "2  0.0079  0.1329  0.1082  0.1513  0.0728  0.0351  0.1646  0.0580  0.1717   \n",
              "3  0.0050  0.1187  0.0897  0.1362  0.0563  0.0276  0.1531  0.0449  0.1502   \n",
              "4  0.0092  0.1751  0.1385  0.1979  0.1001  0.0490  0.2233  0.0721  0.2284   \n",
              "\n",
              "      B04     B08     B02  Class      NDVI  Moisture      NDWI      NDSI  \n",
              "0  0.0457  0.1998  0.0304      1  0.627699  0.146704 -0.636364 -0.548092  \n",
              "1  0.0264  0.1746  0.0179      1  0.737313  0.224615 -0.681271 -0.548123  \n",
              "2  0.0316  0.1663  0.0216      1  0.680647  0.226867 -0.651440 -0.510119  \n",
              "3  0.0195  0.1441  0.0159      1  0.761614  0.252188 -0.678509 -0.529412  \n",
              "4  0.0400  0.2191  0.0230      1  0.691239  0.245026 -0.634465 -0.477333  "
            ],
            "text/html": [
              "\n",
              "  <div id=\"df-75ef98c3-1f9f-49ad-be9a-5dd58fd35a03\">\n",
              "    <div class=\"colab-df-container\">\n",
              "      <div>\n",
              "<style scoped>\n",
              "    .dataframe tbody tr th:only-of-type {\n",
              "        vertical-align: middle;\n",
              "    }\n",
              "\n",
              "    .dataframe tbody tr th {\n",
              "        vertical-align: top;\n",
              "    }\n",
              "\n",
              "    .dataframe thead th {\n",
              "        text-align: right;\n",
              "    }\n",
              "</style>\n",
              "<table border=\"1\" class=\"dataframe\">\n",
              "  <thead>\n",
              "    <tr style=\"text-align: right;\">\n",
              "      <th></th>\n",
              "      <th>B01</th>\n",
              "      <th>B06</th>\n",
              "      <th>B11</th>\n",
              "      <th>B07</th>\n",
              "      <th>B05</th>\n",
              "      <th>B03</th>\n",
              "      <th>B09</th>\n",
              "      <th>B12</th>\n",
              "      <th>B8A</th>\n",
              "      <th>B04</th>\n",
              "      <th>B08</th>\n",
              "      <th>B02</th>\n",
              "      <th>Class</th>\n",
              "      <th>NDVI</th>\n",
              "      <th>Moisture</th>\n",
              "      <th>NDWI</th>\n",
              "      <th>NDSI</th>\n",
              "    </tr>\n",
              "  </thead>\n",
              "  <tbody>\n",
              "    <tr>\n",
              "      <th>0</th>\n",
              "      <td>0.0125</td>\n",
              "      <td>0.1705</td>\n",
              "      <td>0.1521</td>\n",
              "      <td>0.1873</td>\n",
              "      <td>0.1034</td>\n",
              "      <td>0.0444</td>\n",
              "      <td>0.2001</td>\n",
              "      <td>0.0838</td>\n",
              "      <td>0.2044</td>\n",
              "      <td>0.0457</td>\n",
              "      <td>0.1998</td>\n",
              "      <td>0.0304</td>\n",
              "      <td>1</td>\n",
              "      <td>0.627699</td>\n",
              "      <td>0.146704</td>\n",
              "      <td>-0.636364</td>\n",
              "      <td>-0.548092</td>\n",
              "    </tr>\n",
              "    <tr>\n",
              "      <th>1</th>\n",
              "      <td>0.0052</td>\n",
              "      <td>0.1402</td>\n",
              "      <td>0.1134</td>\n",
              "      <td>0.1616</td>\n",
              "      <td>0.0693</td>\n",
              "      <td>0.0331</td>\n",
              "      <td>0.1754</td>\n",
              "      <td>0.0609</td>\n",
              "      <td>0.1791</td>\n",
              "      <td>0.0264</td>\n",
              "      <td>0.1746</td>\n",
              "      <td>0.0179</td>\n",
              "      <td>1</td>\n",
              "      <td>0.737313</td>\n",
              "      <td>0.224615</td>\n",
              "      <td>-0.681271</td>\n",
              "      <td>-0.548123</td>\n",
              "    </tr>\n",
              "    <tr>\n",
              "      <th>2</th>\n",
              "      <td>0.0079</td>\n",
              "      <td>0.1329</td>\n",
              "      <td>0.1082</td>\n",
              "      <td>0.1513</td>\n",
              "      <td>0.0728</td>\n",
              "      <td>0.0351</td>\n",
              "      <td>0.1646</td>\n",
              "      <td>0.0580</td>\n",
              "      <td>0.1717</td>\n",
              "      <td>0.0316</td>\n",
              "      <td>0.1663</td>\n",
              "      <td>0.0216</td>\n",
              "      <td>1</td>\n",
              "      <td>0.680647</td>\n",
              "      <td>0.226867</td>\n",
              "      <td>-0.651440</td>\n",
              "      <td>-0.510119</td>\n",
              "    </tr>\n",
              "    <tr>\n",
              "      <th>3</th>\n",
              "      <td>0.0050</td>\n",
              "      <td>0.1187</td>\n",
              "      <td>0.0897</td>\n",
              "      <td>0.1362</td>\n",
              "      <td>0.0563</td>\n",
              "      <td>0.0276</td>\n",
              "      <td>0.1531</td>\n",
              "      <td>0.0449</td>\n",
              "      <td>0.1502</td>\n",
              "      <td>0.0195</td>\n",
              "      <td>0.1441</td>\n",
              "      <td>0.0159</td>\n",
              "      <td>1</td>\n",
              "      <td>0.761614</td>\n",
              "      <td>0.252188</td>\n",
              "      <td>-0.678509</td>\n",
              "      <td>-0.529412</td>\n",
              "    </tr>\n",
              "    <tr>\n",
              "      <th>4</th>\n",
              "      <td>0.0092</td>\n",
              "      <td>0.1751</td>\n",
              "      <td>0.1385</td>\n",
              "      <td>0.1979</td>\n",
              "      <td>0.1001</td>\n",
              "      <td>0.0490</td>\n",
              "      <td>0.2233</td>\n",
              "      <td>0.0721</td>\n",
              "      <td>0.2284</td>\n",
              "      <td>0.0400</td>\n",
              "      <td>0.2191</td>\n",
              "      <td>0.0230</td>\n",
              "      <td>1</td>\n",
              "      <td>0.691239</td>\n",
              "      <td>0.245026</td>\n",
              "      <td>-0.634465</td>\n",
              "      <td>-0.477333</td>\n",
              "    </tr>\n",
              "  </tbody>\n",
              "</table>\n",
              "</div>\n",
              "      <button class=\"colab-df-convert\" onclick=\"convertToInteractive('df-75ef98c3-1f9f-49ad-be9a-5dd58fd35a03')\"\n",
              "              title=\"Convert this dataframe to an interactive table.\"\n",
              "              style=\"display:none;\">\n",
              "        \n",
              "  <svg xmlns=\"http://www.w3.org/2000/svg\" height=\"24px\"viewBox=\"0 0 24 24\"\n",
              "       width=\"24px\">\n",
              "    <path d=\"M0 0h24v24H0V0z\" fill=\"none\"/>\n",
              "    <path d=\"M18.56 5.44l.94 2.06.94-2.06 2.06-.94-2.06-.94-.94-2.06-.94 2.06-2.06.94zm-11 1L8.5 8.5l.94-2.06 2.06-.94-2.06-.94L8.5 2.5l-.94 2.06-2.06.94zm10 10l.94 2.06.94-2.06 2.06-.94-2.06-.94-.94-2.06-.94 2.06-2.06.94z\"/><path d=\"M17.41 7.96l-1.37-1.37c-.4-.4-.92-.59-1.43-.59-.52 0-1.04.2-1.43.59L10.3 9.45l-7.72 7.72c-.78.78-.78 2.05 0 2.83L4 21.41c.39.39.9.59 1.41.59.51 0 1.02-.2 1.41-.59l7.78-7.78 2.81-2.81c.8-.78.8-2.07 0-2.86zM5.41 20L4 18.59l7.72-7.72 1.47 1.35L5.41 20z\"/>\n",
              "  </svg>\n",
              "      </button>\n",
              "      \n",
              "  <style>\n",
              "    .colab-df-container {\n",
              "      display:flex;\n",
              "      flex-wrap:wrap;\n",
              "      gap: 12px;\n",
              "    }\n",
              "\n",
              "    .colab-df-convert {\n",
              "      background-color: #E8F0FE;\n",
              "      border: none;\n",
              "      border-radius: 50%;\n",
              "      cursor: pointer;\n",
              "      display: none;\n",
              "      fill: #1967D2;\n",
              "      height: 32px;\n",
              "      padding: 0 0 0 0;\n",
              "      width: 32px;\n",
              "    }\n",
              "\n",
              "    .colab-df-convert:hover {\n",
              "      background-color: #E2EBFA;\n",
              "      box-shadow: 0px 1px 2px rgba(60, 64, 67, 0.3), 0px 1px 3px 1px rgba(60, 64, 67, 0.15);\n",
              "      fill: #174EA6;\n",
              "    }\n",
              "\n",
              "    [theme=dark] .colab-df-convert {\n",
              "      background-color: #3B4455;\n",
              "      fill: #D2E3FC;\n",
              "    }\n",
              "\n",
              "    [theme=dark] .colab-df-convert:hover {\n",
              "      background-color: #434B5C;\n",
              "      box-shadow: 0px 1px 3px 1px rgba(0, 0, 0, 0.15);\n",
              "      filter: drop-shadow(0px 1px 2px rgba(0, 0, 0, 0.3));\n",
              "      fill: #FFFFFF;\n",
              "    }\n",
              "  </style>\n",
              "\n",
              "      <script>\n",
              "        const buttonEl =\n",
              "          document.querySelector('#df-75ef98c3-1f9f-49ad-be9a-5dd58fd35a03 button.colab-df-convert');\n",
              "        buttonEl.style.display =\n",
              "          google.colab.kernel.accessAllowed ? 'block' : 'none';\n",
              "\n",
              "        async function convertToInteractive(key) {\n",
              "          const element = document.querySelector('#df-75ef98c3-1f9f-49ad-be9a-5dd58fd35a03');\n",
              "          const dataTable =\n",
              "            await google.colab.kernel.invokeFunction('convertToInteractive',\n",
              "                                                     [key], {});\n",
              "          if (!dataTable) return;\n",
              "\n",
              "          const docLinkHtml = 'Like what you see? Visit the ' +\n",
              "            '<a target=\"_blank\" href=https://colab.research.google.com/notebooks/data_table.ipynb>data table notebook</a>'\n",
              "            + ' to learn more about interactive tables.';\n",
              "          element.innerHTML = '';\n",
              "          dataTable['output_type'] = 'display_data';\n",
              "          await google.colab.output.renderOutput(dataTable, element);\n",
              "          const docLink = document.createElement('div');\n",
              "          docLink.innerHTML = docLinkHtml;\n",
              "          element.appendChild(docLink);\n",
              "        }\n",
              "      </script>\n",
              "    </div>\n",
              "  </div>\n",
              "  "
            ]
          },
          "metadata": {},
          "execution_count": 7
        }
      ]
    },
    {
      "cell_type": "code",
      "source": [
        "#Replace infinity values with Nan\n",
        "sample.replace([np.inf, -np.inf], np.nan, inplace=True)\n",
        "\n",
        "#Fill in infinity values\n",
        "sample.fillna(999, inplace=True)"
      ],
      "metadata": {
        "id": "5Ber47DXfkVn"
      },
      "execution_count": 8,
      "outputs": []
    },
    {
      "cell_type": "markdown",
      "source": [
        "# Random Forest Model"
      ],
      "metadata": {
        "id": "qwdZz8DiSmZd"
      }
    },
    {
      "cell_type": "code",
      "source": [
        "#Split the Sampled DataData\n",
        "y = sample['Class']\n",
        "X = sample.drop(['Class'], axis = 1)"
      ],
      "metadata": {
        "id": "jDW1ruIRqJwQ"
      },
      "execution_count": 9,
      "outputs": []
    },
    {
      "cell_type": "code",
      "source": [
        "#Print data shapes\n",
        "print(X.shape)\n",
        "print(y.shape)"
      ],
      "metadata": {
        "colab": {
          "base_uri": "https://localhost:8080/"
        },
        "id": "EbMtf6Ttsm9v",
        "outputId": "4d9cb914-4cfe-46b4-962c-4020b73cff05"
      },
      "execution_count": 10,
      "outputs": [
        {
          "output_type": "stream",
          "name": "stdout",
          "text": [
            "(240000, 16)\n",
            "(240000,)\n"
          ]
        }
      ]
    },
    {
      "cell_type": "code",
      "source": [
        "#Split into training and test data\n",
        "X_train, X_test, y_train, y_test = train_test_split(X, y, \n",
        "                                                    test_size = 0.3, \n",
        "                                                    stratify = y, \n",
        "                                                    random_state=42)"
      ],
      "metadata": {
        "id": "39Wtn8ewtI_v"
      },
      "execution_count": 11,
      "outputs": []
    },
    {
      "cell_type": "code",
      "source": [
        "#Instantiate Random Forest\n",
        "rfc = RandomForestClassifier(random_state=42)\n",
        "\n",
        "#Fit training data\n",
        "rfc.fit(X_train, y_train)"
      ],
      "metadata": {
        "colab": {
          "base_uri": "https://localhost:8080/"
        },
        "id": "E6LuNuqiss81",
        "outputId": "52702185-b736-47a7-b7b0-0b54b97ddf2e"
      },
      "execution_count": 12,
      "outputs": [
        {
          "output_type": "execute_result",
          "data": {
            "text/plain": [
              "RandomForestClassifier(random_state=42)"
            ]
          },
          "metadata": {},
          "execution_count": 12
        }
      ]
    },
    {
      "cell_type": "code",
      "source": [
        "#Predict X_test\n",
        "y_prediction = rfc.predict(X_test)\n",
        "\n",
        "#Print measure scores\n",
        "print(f\"Accuracy: {accuracy_score(y_test, y_prediction)}\")\n",
        "print(f\"F1 Score: {f1_score(y_test, y_prediction, average='micro')}\")\n",
        "print(f\"Precision Score: {precision_score(y_test, y_prediction, average='micro')}\")\n",
        "print(f\"Recall Score: {recall_score(y_test, y_prediction, average='micro')}\")\n",
        "print(f\"ROC AUC Score: {roc_auc_score(y_test, rfc.predict_proba(X_test),multi_class='ovr', average='macro')}\")\n",
        "\n",
        "#print full classification report\n",
        "print(classification_report(y_test, y_prediction))"
      ],
      "metadata": {
        "id": "tYL0OTbPtxOs",
        "colab": {
          "base_uri": "https://localhost:8080/"
        },
        "outputId": "746d0210-f157-4e0e-c0f4-95438aada0a3"
      },
      "execution_count": 13,
      "outputs": [
        {
          "output_type": "stream",
          "name": "stdout",
          "text": [
            "Accuracy: 0.6009722222222222\n",
            "F1 Score: 0.6009722222222222\n",
            "Precision Score: 0.6009722222222222\n",
            "Recall Score: 0.6009722222222222\n",
            "ROC AUC Score: 0.8992918068783069\n",
            "              precision    recall  f1-score   support\n",
            "\n",
            "           1       0.56      0.55      0.55      9000\n",
            "           2       0.52      0.64      0.57      9000\n",
            "           5       0.77      0.78      0.77      9000\n",
            "           8       0.42      0.36      0.39      9000\n",
            "          10       0.60      0.61      0.60      9000\n",
            "          12       0.42      0.38      0.40      9000\n",
            "          16       0.62      0.59      0.60      9000\n",
            "          18       0.87      0.90      0.89      9000\n",
            "\n",
            "    accuracy                           0.60     72000\n",
            "   macro avg       0.60      0.60      0.60     72000\n",
            "weighted avg       0.60      0.60      0.60     72000\n",
            "\n"
          ]
        }
      ]
    },
    {
      "cell_type": "code",
      "source": [
        "#Create a confusion matrix\n",
        "matrix = confusion_matrix(y_test, y_prediction)\n",
        "\n",
        "#Visualize the matrix with Seaborn\n",
        "\n",
        "#Write title to display accuracy score\n",
        "score = accuracy_score(y_test, y_prediction)\n",
        "all_sample_title = 'RF Accuracy Score: {0}%'.format(round(score,3)*100)\n",
        "\n",
        "#Set figure shape\n",
        "plt.figure(figsize=(9,9))\n",
        "\n",
        "#Use heatmap\n",
        "p = sns.heatmap(matrix, annot=True, fmt=\".1f\", linewidths=0.5, square=True, cmap=\"mako\")\n",
        "\n",
        "#Label the plot\n",
        "label = [1,2,5,8,10,12,16,18]\n",
        "p.set_ylabel('Actual Label', size=16)\n",
        "p.set_xlabel('Predicted Label', size = 16)\n",
        "p.set_xticklabels(label)\n",
        "p.set_yticklabels(label)\n",
        "p.set_title(all_sample_title, size = 18)\n",
        "\n",
        "#save\n",
        "fig = p.get_figure()\n",
        "fig.savefig('/content/drive/MyDrive/james_bay_Cmatrix.png')"
      ],
      "metadata": {
        "id": "_2-xBVulunIT",
        "colab": {
          "base_uri": "https://localhost:8080/",
          "height": 520
        },
        "outputId": "04f94012-9817-46c6-ab90-7d2128fc7874"
      },
      "execution_count": 14,
      "outputs": [
        {
          "output_type": "display_data",
          "data": {
            "text/plain": [
              "<Figure size 648x648 with 2 Axes>"
            ],
            "image/png": "[encoded data removed]"
          },
          "metadata": {
            "needs_background": "light"
          }
        }
      ]
    },
    {
      "cell_type": "code",
      "source": [
        "#Find which features were most important\n",
        "importances = rfc.feature_importances_\n",
        "std = np.std([tree.feature_importances_ for tree in rfc.estimators_], axis=0)\n",
        "feature_names = [f\"feature {i}\" for i in range(X.shape[1])]\n",
        "\n",
        "forest_importances = pd.Series(importances, index=feature_names)\n",
        "\n",
        "fig, ax = plt.subplots()\n",
        "forest_importances.plot.bar(yerr=std, ax=ax)\n",
        "ax.set_title(\"Feature importances using MDI\")\n",
        "ax.set_ylabel(\"Mean decrease in impurity\")\n",
        "fig.tight_layout()"
      ],
      "metadata": {
        "colab": {
          "base_uri": "https://localhost:8080/",
          "height": 297
        },
        "id": "ksl0DiaV0KDe",
        "outputId": "921d2da1-0460-45fd-f259-d2b1416a9240"
      },
      "execution_count": 15,
      "outputs": [
        {
          "output_type": "display_data",
          "data": {
            "text/plain": [
              "<Figure size 432x288 with 1 Axes>"
            ],
            "image/png": "[encoded data removed]"
          },
          "metadata": {
            "needs_background": "light"
          }
        }
      ]
    },
    {
      "cell_type": "markdown",
      "source": [
        "# Random Forest Without Engineered Features"
      ],
      "metadata": {
        "id": "BO6cdCjRTSaZ"
      }
    },
    {
      "cell_type": "code",
      "source": [
        "#Drop engineered features\n",
        "sample = sample.drop(['NDVI', 'Moisture', 'NDWI', 'NDSI'], axis = 1)\n",
        "\n",
        "#View dataframe\n",
        "sample.head()"
      ],
      "metadata": {
        "id": "kJJwFIJITb2d",
        "outputId": "74cf6046-0171-41af-fcbb-3247d46cafe9",
        "colab": {
          "base_uri": "https://localhost:8080/",
          "height": 204
        }
      },
      "execution_count": 17,
      "outputs": [
        {
          "output_type": "execute_result",
          "data": {
            "text/plain": [
              "      B01     B06     B11     B07     B05     B03     B09     B12     B8A  \\\n",
              "0  0.0125  0.1705  0.1521  0.1873  0.1034  0.0444  0.2001  0.0838  0.2044   \n",
              "1  0.0052  0.1402  0.1134  0.1616  0.0693  0.0331  0.1754  0.0609  0.1791   \n",
              "2  0.0079  0.1329  0.1082  0.1513  0.0728  0.0351  0.1646  0.0580  0.1717   \n",
              "3  0.0050  0.1187  0.0897  0.1362  0.0563  0.0276  0.1531  0.0449  0.1502   \n",
              "4  0.0092  0.1751  0.1385  0.1979  0.1001  0.0490  0.2233  0.0721  0.2284   \n",
              "\n",
              "      B04     B08     B02  Class  \n",
              "0  0.0457  0.1998  0.0304      1  \n",
              "1  0.0264  0.1746  0.0179      1  \n",
              "2  0.0316  0.1663  0.0216      1  \n",
              "3  0.0195  0.1441  0.0159      1  \n",
              "4  0.0400  0.2191  0.0230      1  "
            ],
            "text/html": [
              "\n",
              "  <div id=\"df-4d70419a-e927-4b74-a36d-ddf9303d5109\">\n",
              "    <div class=\"colab-df-container\">\n",
              "      <div>\n",
              "<style scoped>\n",
              "    .dataframe tbody tr th:only-of-type {\n",
              "        vertical-align: middle;\n",
              "    }\n",
              "\n",
              "    .dataframe tbody tr th {\n",
              "        vertical-align: top;\n",
              "    }\n",
              "\n",
              "    .dataframe thead th {\n",
              "        text-align: right;\n",
              "    }\n",
              "</style>\n",
              "<table border=\"1\" class=\"dataframe\">\n",
              "  <thead>\n",
              "    <tr style=\"text-align: right;\">\n",
              "      <th></th>\n",
              "      <th>B01</th>\n",
              "      <th>B06</th>\n",
              "      <th>B11</th>\n",
              "      <th>B07</th>\n",
              "      <th>B05</th>\n",
              "      <th>B03</th>\n",
              "      <th>B09</th>\n",
              "      <th>B12</th>\n",
              "      <th>B8A</th>\n",
              "      <th>B04</th>\n",
              "      <th>B08</th>\n",
              "      <th>B02</th>\n",
              "      <th>Class</th>\n",
              "    </tr>\n",
              "  </thead>\n",
              "  <tbody>\n",
              "    <tr>\n",
              "      <th>0</th>\n",
              "      <td>0.0125</td>\n",
              "      <td>0.1705</td>\n",
              "      <td>0.1521</td>\n",
              "      <td>0.1873</td>\n",
              "      <td>0.1034</td>\n",
              "      <td>0.0444</td>\n",
              "      <td>0.2001</td>\n",
              "      <td>0.0838</td>\n",
              "      <td>0.2044</td>\n",
              "      <td>0.0457</td>\n",
              "      <td>0.1998</td>\n",
              "      <td>0.0304</td>\n",
              "      <td>1</td>\n",
              "    </tr>\n",
              "    <tr>\n",
              "      <th>1</th>\n",
              "      <td>0.0052</td>\n",
              "      <td>0.1402</td>\n",
              "      <td>0.1134</td>\n",
              "      <td>0.1616</td>\n",
              "      <td>0.0693</td>\n",
              "      <td>0.0331</td>\n",
              "      <td>0.1754</td>\n",
              "      <td>0.0609</td>\n",
              "      <td>0.1791</td>\n",
              "      <td>0.0264</td>\n",
              "      <td>0.1746</td>\n",
              "      <td>0.0179</td>\n",
              "      <td>1</td>\n",
              "    </tr>\n",
              "    <tr>\n",
              "      <th>2</th>\n",
              "      <td>0.0079</td>\n",
              "      <td>0.1329</td>\n",
              "      <td>0.1082</td>\n",
              "      <td>0.1513</td>\n",
              "      <td>0.0728</td>\n",
              "      <td>0.0351</td>\n",
              "      <td>0.1646</td>\n",
              "      <td>0.0580</td>\n",
              "      <td>0.1717</td>\n",
              "      <td>0.0316</td>\n",
              "      <td>0.1663</td>\n",
              "      <td>0.0216</td>\n",
              "      <td>1</td>\n",
              "    </tr>\n",
              "    <tr>\n",
              "      <th>3</th>\n",
              "      <td>0.0050</td>\n",
              "      <td>0.1187</td>\n",
              "      <td>0.0897</td>\n",
              "      <td>0.1362</td>\n",
              "      <td>0.0563</td>\n",
              "      <td>0.0276</td>\n",
              "      <td>0.1531</td>\n",
              "      <td>0.0449</td>\n",
              "      <td>0.1502</td>\n",
              "      <td>0.0195</td>\n",
              "      <td>0.1441</td>\n",
              "      <td>0.0159</td>\n",
              "      <td>1</td>\n",
              "    </tr>\n",
              "    <tr>\n",
              "      <th>4</th>\n",
              "      <td>0.0092</td>\n",
              "      <td>0.1751</td>\n",
              "      <td>0.1385</td>\n",
              "      <td>0.1979</td>\n",
              "      <td>0.1001</td>\n",
              "      <td>0.0490</td>\n",
              "      <td>0.2233</td>\n",
              "      <td>0.0721</td>\n",
              "      <td>0.2284</td>\n",
              "      <td>0.0400</td>\n",
              "      <td>0.2191</td>\n",
              "      <td>0.0230</td>\n",
              "      <td>1</td>\n",
              "    </tr>\n",
              "  </tbody>\n",
              "</table>\n",
              "</div>\n",
              "      <button class=\"colab-df-convert\" onclick=\"convertToInteractive('df-4d70419a-e927-4b74-a36d-ddf9303d5109')\"\n",
              "              title=\"Convert this dataframe to an interactive table.\"\n",
              "              style=\"display:none;\">\n",
              "        \n",
              "  <svg xmlns=\"http://www.w3.org/2000/svg\" height=\"24px\"viewBox=\"0 0 24 24\"\n",
              "       width=\"24px\">\n",
              "    <path d=\"M0 0h24v24H0V0z\" fill=\"none\"/>\n",
              "    <path d=\"M18.56 5.44l.94 2.06.94-2.06 2.06-.94-2.06-.94-.94-2.06-.94 2.06-2.06.94zm-11 1L8.5 8.5l.94-2.06 2.06-.94-2.06-.94L8.5 2.5l-.94 2.06-2.06.94zm10 10l.94 2.06.94-2.06 2.06-.94-2.06-.94-.94-2.06-.94 2.06-2.06.94z\"/><path d=\"M17.41 7.96l-1.37-1.37c-.4-.4-.92-.59-1.43-.59-.52 0-1.04.2-1.43.59L10.3 9.45l-7.72 7.72c-.78.78-.78 2.05 0 2.83L4 21.41c.39.39.9.59 1.41.59.51 0 1.02-.2 1.41-.59l7.78-7.78 2.81-2.81c.8-.78.8-2.07 0-2.86zM5.41 20L4 18.59l7.72-7.72 1.47 1.35L5.41 20z\"/>\n",
              "  </svg>\n",
              "      </button>\n",
              "      \n",
              "  <style>\n",
              "    .colab-df-container {\n",
              "      display:flex;\n",
              "      flex-wrap:wrap;\n",
              "      gap: 12px;\n",
              "    }\n",
              "\n",
              "    .colab-df-convert {\n",
              "      background-color: #E8F0FE;\n",
              "      border: none;\n",
              "      border-radius: 50%;\n",
              "      cursor: pointer;\n",
              "      display: none;\n",
              "      fill: #1967D2;\n",
              "      height: 32px;\n",
              "      padding: 0 0 0 0;\n",
              "      width: 32px;\n",
              "    }\n",
              "\n",
              "    .colab-df-convert:hover {\n",
              "      background-color: #E2EBFA;\n",
              "      box-shadow: 0px 1px 2px rgba(60, 64, 67, 0.3), 0px 1px 3px 1px rgba(60, 64, 67, 0.15);\n",
              "      fill: #174EA6;\n",
              "    }\n",
              "\n",
              "    [theme=dark] .colab-df-convert {\n",
              "      background-color: #3B4455;\n",
              "      fill: #D2E3FC;\n",
              "    }\n",
              "\n",
              "    [theme=dark] .colab-df-convert:hover {\n",
              "      background-color: #434B5C;\n",
              "      box-shadow: 0px 1px 3px 1px rgba(0, 0, 0, 0.15);\n",
              "      filter: drop-shadow(0px 1px 2px rgba(0, 0, 0, 0.3));\n",
              "      fill: #FFFFFF;\n",
              "    }\n",
              "  </style>\n",
              "\n",
              "      <script>\n",
              "        const buttonEl =\n",
              "          document.querySelector('#df-4d70419a-e927-4b74-a36d-ddf9303d5109 button.colab-df-convert');\n",
              "        buttonEl.style.display =\n",
              "          google.colab.kernel.accessAllowed ? 'block' : 'none';\n",
              "\n",
              "        async function convertToInteractive(key) {\n",
              "          const element = document.querySelector('#df-4d70419a-e927-4b74-a36d-ddf9303d5109');\n",
              "          const dataTable =\n",
              "            await google.colab.kernel.invokeFunction('convertToInteractive',\n",
              "                                                     [key], {});\n",
              "          if (!dataTable) return;\n",
              "\n",
              "          const docLinkHtml = 'Like what you see? Visit the ' +\n",
              "            '<a target=\"_blank\" href=https://colab.research.google.com/notebooks/data_table.ipynb>data table notebook</a>'\n",
              "            + ' to learn more about interactive tables.';\n",
              "          element.innerHTML = '';\n",
              "          dataTable['output_type'] = 'display_data';\n",
              "          await google.colab.output.renderOutput(dataTable, element);\n",
              "          const docLink = document.createElement('div');\n",
              "          docLink.innerHTML = docLinkHtml;\n",
              "          element.appendChild(docLink);\n",
              "        }\n",
              "      </script>\n",
              "    </div>\n",
              "  </div>\n",
              "  "
            ]
          },
          "metadata": {},
          "execution_count": 17
        }
      ]
    },
    {
      "cell_type": "code",
      "source": [
        "#Split the Sampled DataData\n",
        "y2 = sample['Class']\n",
        "X2 = sample.drop(['Class'], axis = 1)\n",
        "\n",
        "#Split into training and test data\n",
        "X_train2, X_test2, y_train2, y_test2 = train_test_split(X2, y2, \n",
        "                                                    test_size = 0.3, \n",
        "                                                    stratify = y2, \n",
        "                                                    random_state=42)"
      ],
      "metadata": {
        "id": "C3SESUIITZ2o"
      },
      "execution_count": 19,
      "outputs": []
    },
    {
      "cell_type": "code",
      "source": [
        "#Instantiate Random Forest\n",
        "rfc_2 = RandomForestClassifier(random_state=42)\n",
        "\n",
        "#Fit training data\n",
        "rfc_2.fit(X_train2, y_train2)"
      ],
      "metadata": {
        "id": "sFlJ2kuKUBHK",
        "outputId": "707a24e0-9a20-4a09-b158-f63be63c14ea",
        "colab": {
          "base_uri": "https://localhost:8080/"
        }
      },
      "execution_count": 20,
      "outputs": [
        {
          "output_type": "execute_result",
          "data": {
            "text/plain": [
              "RandomForestClassifier(random_state=42)"
            ]
          },
          "metadata": {},
          "execution_count": 20
        }
      ]
    },
    {
      "cell_type": "code",
      "source": [
        "#Predict X_test\n",
        "y_prediction2 = rfc_2.predict(X_test2)\n",
        "\n",
        "#Print measure scores\n",
        "print(f\"Accuracy: {accuracy_score(y_test2, y_prediction2)}\")\n",
        "print(f\"F1 Score: {f1_score(y_test2, y_prediction2, average='micro')}\")\n",
        "print(f\"Precision Score: {precision_score(y_test2, y_prediction2, average='micro')}\")\n",
        "print(f\"Recall Score: {recall_score(y_test2, y_prediction2, average='micro')}\")\n",
        "print(f\"ROC AUC Score: {roc_auc_score(y_test2, rfc_2.predict_proba(X_test2),multi_class='ovr', average='macro')}\")\n",
        "\n",
        "#print full classification report\n",
        "print(classification_report(y_test2, y_prediction2))"
      ],
      "metadata": {
        "id": "Tdru_wUSUHjH",
        "outputId": "8bde3a86-4763-4bd4-8bd7-9b2f2f0fc161",
        "colab": {
          "base_uri": "https://localhost:8080/"
        }
      },
      "execution_count": 21,
      "outputs": [
        {
          "output_type": "stream",
          "name": "stdout",
          "text": [
            "Accuracy: 0.6028611111111111\n",
            "F1 Score: 0.6028611111111111\n",
            "Precision Score: 0.6028611111111111\n",
            "Recall Score: 0.6028611111111111\n",
            "ROC AUC Score: 0.9001425040784832\n",
            "              precision    recall  f1-score   support\n",
            "\n",
            "           1       0.55      0.55      0.55      9000\n",
            "           2       0.53      0.65      0.58      9000\n",
            "           5       0.77      0.78      0.77      9000\n",
            "           8       0.42      0.36      0.39      9000\n",
            "          10       0.61      0.61      0.61      9000\n",
            "          12       0.42      0.38      0.40      9000\n",
            "          16       0.62      0.59      0.60      9000\n",
            "          18       0.88      0.90      0.89      9000\n",
            "\n",
            "    accuracy                           0.60     72000\n",
            "   macro avg       0.60      0.60      0.60     72000\n",
            "weighted avg       0.60      0.60      0.60     72000\n",
            "\n"
          ]
        }
      ]
    },
    {
      "cell_type": "code",
      "source": [
        "#Find which features were most important\n",
        "importances = rfc_2.feature_importances_\n",
        "std = np.std([tree.feature_importances_ for tree in rfc_2.estimators_], axis=0)\n",
        "feature_names = [f\"feature {i}\" for i in range(X2.shape[1])]\n",
        "\n",
        "forest_importances = pd.Series(importances, index=feature_names)\n",
        "\n",
        "fig, ax = plt.subplots()\n",
        "forest_importances.plot.bar(yerr=std, ax=ax)\n",
        "ax.set_title(\"Feature importances using MDI\")\n",
        "ax.set_ylabel(\"Mean decrease in impurity\")\n",
        "fig.tight_layout()"
      ],
      "metadata": {
        "id": "O8sM1ulKUTu_",
        "outputId": "62d38727-bcdb-47b6-b7b5-cc1fb5b60cfa",
        "colab": {
          "base_uri": "https://localhost:8080/",
          "height": 297
        }
      },
      "execution_count": 22,
      "outputs": [
        {
          "output_type": "display_data",
          "data": {
            "text/plain": [
              "<Figure size 432x288 with 1 Axes>"
            ],
            "image/png": "[encoded data removed]"
          },
          "metadata": {
            "needs_background": "light"
          }
        }
      ]
    }
  ]
}